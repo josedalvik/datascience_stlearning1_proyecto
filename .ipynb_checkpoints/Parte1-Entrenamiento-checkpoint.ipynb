{
 "cells": [
  {
   "cell_type": "markdown",
   "id": "ab75a446",
   "metadata": {},
   "source": [
    "<b>Universidad Galileo</b><br/>\n",
    "<b>Maestría de Ciencia de Datos</b><br/>\n",
    "<b>Statistical Learning I</b><br/>\n",
    "<b>Jose Godoy</b><br/>\n",
    "<b>Carnet 22000570</b><br/>\n",
    "<b>22 de junio 2022</b><br/>"
   ]
  },
  {
   "cell_type": "markdown",
   "id": "4ac85d6c",
   "metadata": {},
   "source": [
    "# Sección de configuración"
   ]
  },
  {
   "cell_type": "markdown",
   "id": "68723aa0",
   "metadata": {},
   "source": [
    "## Liberías"
   ]
  },
  {
   "cell_type": "markdown",
   "id": "8892c906",
   "metadata": {},
   "source": [
    "Carga de librerías generales"
   ]
  },
  {
   "cell_type": "code",
   "execution_count": 1,
   "id": "9b17a4f0",
   "metadata": {},
   "outputs": [],
   "source": [
    "import numpy as np\n",
    "import pandas as pd\n",
    "import matplotlib.pyplot as plt"
   ]
  },
  {
   "cell_type": "markdown",
   "id": "25b360c4",
   "metadata": {},
   "source": [
    "## Variables Globales"
   ]
  },
  {
   "cell_type": "code",
   "execution_count": 2,
   "id": "da7438f5",
   "metadata": {},
   "outputs": [],
   "source": [
    "#Exactitud utilizada en todos los modelos\n",
    "GLOBAL_EXACTITUD = 0.8\n",
    "#Datos CSV sin alterar\n",
    "GLOBAL_DATOS = pd.read_csv(\"data_titanic_proyecto.csv\")\n",
    "#Porcentaje de datos de entrenamiento\n",
    "GLOBAL_SET_ENTRENAMIENTO = 0.8\n",
    "#Porcentaje de datos de validación\n",
    "GLOBAL_SET_VALIDACION = 0.2"
   ]
  },
  {
   "cell_type": "markdown",
   "id": "0f5b239d",
   "metadata": {},
   "source": [
    "# Preprocesamiento"
   ]
  },
  {
   "cell_type": "markdown",
   "id": "d0a01429",
   "metadata": {},
   "source": [
    "## Train-val-test split"
   ]
  },
  {
   "cell_type": "code",
   "execution_count": 3,
   "id": "593cb3d8",
   "metadata": {},
   "outputs": [
    {
     "data": {
      "text/plain": [
       "(891, 12)"
      ]
     },
     "execution_count": 3,
     "metadata": {},
     "output_type": "execute_result"
    }
   ],
   "source": [
    "TVTS_data = GLOBAL_DATOS.copy()\n",
    "TVTS_data.shape"
   ]
  },
  {
   "cell_type": "markdown",
   "id": "a727e5dd",
   "metadata": {},
   "source": [
    "Indices aleatorios"
   ]
  },
  {
   "cell_type": "code",
   "execution_count": 4,
   "id": "17056cf0",
   "metadata": {},
   "outputs": [],
   "source": [
    "np.random.seed(2022)"
   ]
  },
  {
   "cell_type": "markdown",
   "id": "65a2112a",
   "metadata": {},
   "source": [
    "Indices prueba"
   ]
  },
  {
   "cell_type": "code",
   "execution_count": 5,
   "id": "37d8fc55",
   "metadata": {},
   "outputs": [],
   "source": [
    "longitud = len(TVTS_data)\n",
    "TVTS_indices_entrenamiento = np.random.choice(longitud, round(longitud * GLOBAL_SET_ENTRENAMIENTO), replace=False)\n",
    "TVTS_indices_prueba = np.array(list(set(range(longitud)) - set(TVTS_indices_entrenamiento)))"
   ]
  },
  {
   "cell_type": "markdown",
   "id": "47e83509",
   "metadata": {},
   "source": [
    "Datos prueba"
   ]
  },
  {
   "cell_type": "code",
   "execution_count": 6,
   "id": "4e48e3d6",
   "metadata": {},
   "outputs": [],
   "source": [
    "TVTS_data_prueba = TVTS_data.iloc[TVTS_indices_prueba,:].copy()\n",
    "TVTS_data_entrenamiento = TVTS_data.iloc[TVTS_indices_entrenamiento,:]"
   ]
  },
  {
   "cell_type": "markdown",
   "id": "51346c89",
   "metadata": {},
   "source": [
    "Indices de entrenamiento y validación"
   ]
  },
  {
   "cell_type": "code",
   "execution_count": 7,
   "id": "b22fb332",
   "metadata": {},
   "outputs": [],
   "source": [
    "longitud = len(TVTS_data_entrenamiento)\n",
    "TVTS_indices_validacion = np.random.choice(longitud, round(longitud * GLOBAL_SET_VALIDACION), replace=False)\n",
    "TVTS_indices_entrenamiento = np.array(list(set(range(longitud)) - set(TVTS_indices_validacion)))"
   ]
  },
  {
   "cell_type": "markdown",
   "id": "fc482dc2",
   "metadata": {},
   "source": [
    "Datos de entrenamiento y validación"
   ]
  },
  {
   "cell_type": "code",
   "execution_count": 8,
   "id": "c0977e39",
   "metadata": {},
   "outputs": [],
   "source": [
    "TVTS_data_validacion = TVTS_data_entrenamiento.iloc[TVTS_indices_validacion,:].copy()\n",
    "TVTS_data_entrenamiento = TVTS_data_entrenamiento.iloc[TVTS_indices_entrenamiento,:].copy()"
   ]
  },
  {
   "cell_type": "markdown",
   "id": "0818833b",
   "metadata": {},
   "source": [
    "Guardando CSV de datos de prueba"
   ]
  },
  {
   "cell_type": "code",
   "execution_count": 9,
   "id": "3dfda448",
   "metadata": {},
   "outputs": [],
   "source": [
    "TVTS_data_prueba.to_csv(\"TVTS_data_prueba.csv\", index=False)"
   ]
  },
  {
   "cell_type": "markdown",
   "id": "a9f9a7fe",
   "metadata": {},
   "source": [
    "Eliminación de variables con los datos de prueba:"
   ]
  },
  {
   "cell_type": "code",
   "execution_count": 10,
   "id": "9ae0e72a",
   "metadata": {},
   "outputs": [],
   "source": [
    "del TVTS_data_prueba\n",
    "del TVTS_data\n",
    "del GLOBAL_DATOS"
   ]
  },
  {
   "cell_type": "markdown",
   "id": "9101ee1f",
   "metadata": {},
   "source": [
    "## Analisis exploratorio"
   ]
  },
  {
   "cell_type": "markdown",
   "id": "60347841",
   "metadata": {},
   "source": [
    "Los datos son los siguientes:"
   ]
  },
  {
   "cell_type": "code",
   "execution_count": 11,
   "id": "310b3335",
   "metadata": {},
   "outputs": [
    {
     "data": {
      "text/html": [
       "<div>\n",
       "<style scoped>\n",
       "    .dataframe tbody tr th:only-of-type {\n",
       "        vertical-align: middle;\n",
       "    }\n",
       "\n",
       "    .dataframe tbody tr th {\n",
       "        vertical-align: top;\n",
       "    }\n",
       "\n",
       "    .dataframe thead th {\n",
       "        text-align: right;\n",
       "    }\n",
       "</style>\n",
       "<table border=\"1\" class=\"dataframe\">\n",
       "  <thead>\n",
       "    <tr style=\"text-align: right;\">\n",
       "      <th></th>\n",
       "      <th>PassengerId</th>\n",
       "      <th>Name</th>\n",
       "      <th>Age</th>\n",
       "      <th>SibSp</th>\n",
       "      <th>Parch</th>\n",
       "      <th>Ticket</th>\n",
       "      <th>Fare</th>\n",
       "      <th>Cabin</th>\n",
       "      <th>Embarked</th>\n",
       "      <th>passenger_class</th>\n",
       "      <th>passenger_sex</th>\n",
       "      <th>passenger_survived</th>\n",
       "    </tr>\n",
       "  </thead>\n",
       "  <tbody>\n",
       "    <tr>\n",
       "      <th>770</th>\n",
       "      <td>771</td>\n",
       "      <td>Lievens, Mr. Rene Aime</td>\n",
       "      <td>24.00</td>\n",
       "      <td>0</td>\n",
       "      <td>0</td>\n",
       "      <td>345781</td>\n",
       "      <td>9.5000</td>\n",
       "      <td>NaN</td>\n",
       "      <td>S</td>\n",
       "      <td>Lower</td>\n",
       "      <td>M</td>\n",
       "      <td>N</td>\n",
       "    </tr>\n",
       "    <tr>\n",
       "      <th>178</th>\n",
       "      <td>179</td>\n",
       "      <td>Hale, Mr. Reginald</td>\n",
       "      <td>30.00</td>\n",
       "      <td>0</td>\n",
       "      <td>0</td>\n",
       "      <td>250653</td>\n",
       "      <td>13.0000</td>\n",
       "      <td>NaN</td>\n",
       "      <td>S</td>\n",
       "      <td>Middle</td>\n",
       "      <td>M</td>\n",
       "      <td>N</td>\n",
       "    </tr>\n",
       "    <tr>\n",
       "      <th>159</th>\n",
       "      <td>160</td>\n",
       "      <td>Sage, Master. Thomas Henry</td>\n",
       "      <td>NaN</td>\n",
       "      <td>8</td>\n",
       "      <td>2</td>\n",
       "      <td>CA. 2343</td>\n",
       "      <td>69.5500</td>\n",
       "      <td>NaN</td>\n",
       "      <td>S</td>\n",
       "      <td>Lower</td>\n",
       "      <td>M</td>\n",
       "      <td>N</td>\n",
       "    </tr>\n",
       "    <tr>\n",
       "      <th>656</th>\n",
       "      <td>657</td>\n",
       "      <td>Radeff, Mr. Alexander</td>\n",
       "      <td>NaN</td>\n",
       "      <td>0</td>\n",
       "      <td>0</td>\n",
       "      <td>349223</td>\n",
       "      <td>7.8958</td>\n",
       "      <td>NaN</td>\n",
       "      <td>S</td>\n",
       "      <td>Lower</td>\n",
       "      <td>M</td>\n",
       "      <td>N</td>\n",
       "    </tr>\n",
       "    <tr>\n",
       "      <th>471</th>\n",
       "      <td>472</td>\n",
       "      <td>Cacic, Mr. Luka</td>\n",
       "      <td>38.00</td>\n",
       "      <td>0</td>\n",
       "      <td>0</td>\n",
       "      <td>315089</td>\n",
       "      <td>8.6625</td>\n",
       "      <td>NaN</td>\n",
       "      <td>S</td>\n",
       "      <td>Lower</td>\n",
       "      <td>M</td>\n",
       "      <td>N</td>\n",
       "    </tr>\n",
       "    <tr>\n",
       "      <th>...</th>\n",
       "      <td>...</td>\n",
       "      <td>...</td>\n",
       "      <td>...</td>\n",
       "      <td>...</td>\n",
       "      <td>...</td>\n",
       "      <td>...</td>\n",
       "      <td>...</td>\n",
       "      <td>...</td>\n",
       "      <td>...</td>\n",
       "      <td>...</td>\n",
       "      <td>...</td>\n",
       "      <td>...</td>\n",
       "    </tr>\n",
       "    <tr>\n",
       "      <th>803</th>\n",
       "      <td>804</td>\n",
       "      <td>Thomas, Master. Assad Alexander</td>\n",
       "      <td>0.42</td>\n",
       "      <td>0</td>\n",
       "      <td>1</td>\n",
       "      <td>2625</td>\n",
       "      <td>8.5167</td>\n",
       "      <td>NaN</td>\n",
       "      <td>C</td>\n",
       "      <td>Lower</td>\n",
       "      <td>M</td>\n",
       "      <td>Y</td>\n",
       "    </tr>\n",
       "    <tr>\n",
       "      <th>445</th>\n",
       "      <td>446</td>\n",
       "      <td>Dodge, Master. Washington</td>\n",
       "      <td>4.00</td>\n",
       "      <td>0</td>\n",
       "      <td>2</td>\n",
       "      <td>33638</td>\n",
       "      <td>81.8583</td>\n",
       "      <td>A34</td>\n",
       "      <td>S</td>\n",
       "      <td>Upper</td>\n",
       "      <td>M</td>\n",
       "      <td>Y</td>\n",
       "    </tr>\n",
       "    <tr>\n",
       "      <th>365</th>\n",
       "      <td>366</td>\n",
       "      <td>Adahl, Mr. Mauritz Nils Martin</td>\n",
       "      <td>30.00</td>\n",
       "      <td>0</td>\n",
       "      <td>0</td>\n",
       "      <td>C 7076</td>\n",
       "      <td>7.2500</td>\n",
       "      <td>NaN</td>\n",
       "      <td>S</td>\n",
       "      <td>Lower</td>\n",
       "      <td>M</td>\n",
       "      <td>N</td>\n",
       "    </tr>\n",
       "    <tr>\n",
       "      <th>611</th>\n",
       "      <td>612</td>\n",
       "      <td>Jardin, Mr. Jose Neto</td>\n",
       "      <td>NaN</td>\n",
       "      <td>0</td>\n",
       "      <td>0</td>\n",
       "      <td>SOTON/O.Q. 3101305</td>\n",
       "      <td>7.0500</td>\n",
       "      <td>NaN</td>\n",
       "      <td>S</td>\n",
       "      <td>Lower</td>\n",
       "      <td>M</td>\n",
       "      <td>N</td>\n",
       "    </tr>\n",
       "    <tr>\n",
       "      <th>487</th>\n",
       "      <td>488</td>\n",
       "      <td>Kent, Mr. Edward Austin</td>\n",
       "      <td>58.00</td>\n",
       "      <td>0</td>\n",
       "      <td>0</td>\n",
       "      <td>11771</td>\n",
       "      <td>29.7000</td>\n",
       "      <td>B37</td>\n",
       "      <td>C</td>\n",
       "      <td>Upper</td>\n",
       "      <td>M</td>\n",
       "      <td>N</td>\n",
       "    </tr>\n",
       "  </tbody>\n",
       "</table>\n",
       "<p>570 rows × 12 columns</p>\n",
       "</div>"
      ],
      "text/plain": [
       "     PassengerId                             Name    Age  SibSp  Parch  \\\n",
       "770          771           Lievens, Mr. Rene Aime  24.00      0      0   \n",
       "178          179               Hale, Mr. Reginald  30.00      0      0   \n",
       "159          160       Sage, Master. Thomas Henry    NaN      8      2   \n",
       "656          657            Radeff, Mr. Alexander    NaN      0      0   \n",
       "471          472                  Cacic, Mr. Luka  38.00      0      0   \n",
       "..           ...                              ...    ...    ...    ...   \n",
       "803          804  Thomas, Master. Assad Alexander   0.42      0      1   \n",
       "445          446        Dodge, Master. Washington   4.00      0      2   \n",
       "365          366   Adahl, Mr. Mauritz Nils Martin  30.00      0      0   \n",
       "611          612            Jardin, Mr. Jose Neto    NaN      0      0   \n",
       "487          488          Kent, Mr. Edward Austin  58.00      0      0   \n",
       "\n",
       "                 Ticket     Fare Cabin Embarked passenger_class passenger_sex  \\\n",
       "770              345781   9.5000   NaN        S           Lower             M   \n",
       "178              250653  13.0000   NaN        S          Middle             M   \n",
       "159            CA. 2343  69.5500   NaN        S           Lower             M   \n",
       "656              349223   7.8958   NaN        S           Lower             M   \n",
       "471              315089   8.6625   NaN        S           Lower             M   \n",
       "..                  ...      ...   ...      ...             ...           ...   \n",
       "803                2625   8.5167   NaN        C           Lower             M   \n",
       "445               33638  81.8583   A34        S           Upper             M   \n",
       "365              C 7076   7.2500   NaN        S           Lower             M   \n",
       "611  SOTON/O.Q. 3101305   7.0500   NaN        S           Lower             M   \n",
       "487               11771  29.7000   B37        C           Upper             M   \n",
       "\n",
       "    passenger_survived  \n",
       "770                  N  \n",
       "178                  N  \n",
       "159                  N  \n",
       "656                  N  \n",
       "471                  N  \n",
       "..                 ...  \n",
       "803                  Y  \n",
       "445                  Y  \n",
       "365                  N  \n",
       "611                  N  \n",
       "487                  N  \n",
       "\n",
       "[570 rows x 12 columns]"
      ]
     },
     "execution_count": 11,
     "metadata": {},
     "output_type": "execute_result"
    }
   ],
   "source": [
    "AE_feature_engineering = TVTS_data_entrenamiento.copy()\n",
    "AE_feature_engineering"
   ]
  },
  {
   "cell_type": "markdown",
   "id": "5914dafa",
   "metadata": {},
   "source": [
    "## Eliminación de características específicas"
   ]
  },
  {
   "cell_type": "markdown",
   "id": "1a0e9600",
   "metadata": {},
   "source": [
    "Se eliminará ID de pasajero \"passengerID\" y nombre."
   ]
  },
  {
   "cell_type": "code",
   "execution_count": 12,
   "id": "540dee7a",
   "metadata": {},
   "outputs": [],
   "source": [
    "del AE_feature_engineering[\"PassengerId\"]\n",
    "del AE_feature_engineering[\"Name\"]"
   ]
  },
  {
   "cell_type": "markdown",
   "id": "a4a50bd2",
   "metadata": {},
   "source": [
    "## Imputación de datos faltantes"
   ]
  },
  {
   "cell_type": "markdown",
   "id": "6f433254",
   "metadata": {},
   "source": [
    "A continuación se listan la cantidad de registros en cada columna que tienen valores NAN:"
   ]
  },
  {
   "cell_type": "code",
   "execution_count": 13,
   "id": "14edcf5e",
   "metadata": {},
   "outputs": [
    {
     "name": "stdout",
     "output_type": "stream",
     "text": [
      "Age: 112\n",
      "Cabin: 445\n",
      "Embarked: 1\n"
     ]
    }
   ],
   "source": [
    "for col in AE_feature_engineering.columns:\n",
    "    AE_columnas_nan = AE_feature_engineering[col].isnull().sum().sum()\n",
    "    if(AE_columnas_nan>0):\n",
    "        print(col+\":\", AE_columnas_nan)"
   ]
  },
  {
   "cell_type": "markdown",
   "id": "f758cd97",
   "metadata": {},
   "source": [
    "### Analisis de densidad de la columna año:"
   ]
  },
  {
   "cell_type": "code",
   "execution_count": 14,
   "id": "8506d37e",
   "metadata": {},
   "outputs": [
    {
     "data": {
      "image/png": "[encoded data removed]",
      "text/plain": [
       "<Figure size 432x288 with 1 Axes>"
      ]
     },
     "metadata": {
      "needs_background": "light"
     },
     "output_type": "display_data"
    }
   ],
   "source": [
    "AE_age_nonan = AE_feature_engineering[\"Age\"].notnull()\n",
    "AE_feature_engineering[\"Age\"][AE_age_nonan].plot.density(color='green')\n",
    "plt.title('Density plot for Speeding')\n",
    "plt.show()"
   ]
  },
  {
   "cell_type": "markdown",
   "id": "29f036ba",
   "metadata": {},
   "source": [
    "Se utilizará un numero aleatorio utilizando una distribución normal. No se utilizará la media para no crear un outlayer:"
   ]
  },
  {
   "cell_type": "code",
   "execution_count": 15,
   "id": "3df1efe3",
   "metadata": {},
   "outputs": [],
   "source": [
    "AE_age_nan = AE_feature_engineering[\"Age\"].isnull()\n",
    "AE_age_mean = AE_feature_engineering[\"Age\"][AE_age_nonan].mean(axis=0)\n",
    "AE_age_std = AE_feature_engineering[\"Age\"][AE_age_nonan].std(axis=0)\n",
    "AE_age_random = np.random.normal(AE_age_mean, AE_age_std, sum(AE_age_nan))\n",
    "\n",
    "AE_feature_engineering.columns.get_loc(\"Age\")\n",
    "\n",
    "AE_feature_engineering.loc[AE_age_nan, \"Age\"] = AE_age_random"
   ]
  },
  {
   "cell_type": "markdown",
   "id": "7eb5de54",
   "metadata": {},
   "source": [
    "### Analisis de las columna categórica Cabin"
   ]
  },
  {
   "cell_type": "markdown",
   "id": "d9a911dd",
   "metadata": {},
   "source": [
    "Porcentaje de datos faltantes:"
   ]
  },
  {
   "cell_type": "code",
   "execution_count": 30,
   "id": "6fc84d13",
   "metadata": {},
   "outputs": [
    {
     "name": "stdout",
     "output_type": "stream",
     "text": [
      "78.0701754385965\n"
     ]
    }
   ],
   "source": [
    "print(sum(AE_feature_engineering[\"Cabin\"].isnull())*100/len(AE_feature_engineering[\"Cabin\"]))"
   ]
  },
  {
   "cell_type": "markdown",
   "id": "2fe28f56",
   "metadata": {},
   "source": [
    "En el siguiente gráfico se visualiza la gráfica de densidad para Cabin:"
   ]
  },
  {
   "cell_type": "code",
   "execution_count": 16,
   "id": "420ab568",
   "metadata": {},
   "outputs": [
    {
     "data": {
      "text/plain": [
       "<AxesSubplot:>"
      ]
     },
     "execution_count": 16,
     "metadata": {},
     "output_type": "execute_result"
    },
    {
     "data": {
      "image/png": "[encoded data removed]",
      "text/plain": [
       "<Figure size 432x288 with 1 Axes>"
      ]
     },
     "metadata": {
      "needs_background": "light"
     },
     "output_type": "display_data"
    }
   ],
   "source": [
    "AE_cabin_nonan = AE_feature_engineering[\"Cabin\"].notnull()\n",
    "AE_cabin_repitencia = AE_feature_engineering[\"Cabin\"][AE_cabin_nonan].value_counts()\n",
    "AE_cabin_repitencia.plot(kind='bar')"
   ]
  },
  {
   "cell_type": "markdown",
   "id": "665802e1",
   "metadata": {},
   "source": [
    "La reptiencia máxima de Cabin es 'G6', este valor aparece solo 4 veces. Es necesario considerar que solo se tienen 4 registros con est"
   ]
  },
  {
   "cell_type": "code",
   "execution_count": 25,
   "id": "b4d9db7f",
   "metadata": {},
   "outputs": [
    {
     "name": "stdout",
     "output_type": "stream",
     "text": [
      "Registros que se repiten 4 veces: 0.010752688172043012\n",
      "Registros que se repiten 3 veces: 0.03225806451612903\n",
      "Registros que se repiten 2 veces: 0.24731182795698925\n",
      "Registros que se repiten 1 vez: 0.7096774193548387\n"
     ]
    }
   ],
   "source": [
    "print(\"Registros que se repiten 4 veces:\", len(AE_cabin_repitencia[AE_cabin_repitencia==4])/len(AE_cabin_repitencia))\n",
    "print(\"Registros que se repiten 3 veces:\", len(AE_cabin_repitencia[AE_cabin_repitencia==3])/len(AE_cabin_repitencia))\n",
    "print(\"Registros que se repiten 2 veces:\", len(AE_cabin_repitencia[AE_cabin_repitencia==2])/len(AE_cabin_repitencia))\n",
    "print(\"Registros que se repiten 1 vez:\", len(AE_cabin_repitencia[AE_cabin_repitencia==1])/len(AE_cabin_repitencia))"
   ]
  },
  {
   "cell_type": "markdown",
   "id": "20cccb90",
   "metadata": {},
   "source": [
    "Para la columna Kabin se considera que no existe suficiente información para hacer imputación de datos. Se eliminará la columna."
   ]
  },
  {
   "cell_type": "code",
   "execution_count": 32,
   "id": "5eea56d0",
   "metadata": {},
   "outputs": [],
   "source": [
    "del AE_feature_engineering[\"Cabin\"]"
   ]
  }
 ],
 "metadata": {
  "kernelspec": {
   "display_name": "Python 3 (ipykernel)",
   "language": "python",
   "name": "python3"
  },
  "language_info": {
   "codemirror_mode": {
    "name": "ipython",
    "version": 3
   },
   "file_extension": ".py",
   "mimetype": "text/x-python",
   "name": "python",
   "nbconvert_exporter": "python",
   "pygments_lexer": "ipython3",
   "version": "3.9.12"
  }
 },
 "nbformat": 4,
 "nbformat_minor": 5
}
