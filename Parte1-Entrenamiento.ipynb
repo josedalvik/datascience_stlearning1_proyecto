{
 "cells": [
  {
   "cell_type": "markdown",
   "id": "ab75a446",
   "metadata": {},
   "source": [
    "<b>Universidad Galileo</b><br/>\n",
    "<b>Maestría de Ciencia de Datos</b><br/>\n",
    "<b>Statistical Learning I</b><br/>\n",
    "<b>Jose Godoy</b><br/>\n",
    "<b>Carnet 22000570</b><br/>\n",
    "<b>22 de junio 2022</b><br/>"
   ]
  },
  {
   "cell_type": "markdown",
   "id": "4ac85d6c",
   "metadata": {},
   "source": [
    "# 1. Sección de configuración"
   ]
  },
  {
   "cell_type": "markdown",
   "id": "68723aa0",
   "metadata": {},
   "source": [
    "## 1.1 Liberías"
   ]
  },
  {
   "cell_type": "markdown",
   "id": "8892c906",
   "metadata": {},
   "source": [
    "Carga de librerías generales"
   ]
  },
  {
   "cell_type": "code",
   "execution_count": 1,
   "id": "9b17a4f0",
   "metadata": {},
   "outputs": [],
   "source": [
    "import numpy as np\n",
    "import pandas as pd\n",
    "import matplotlib.pyplot as plt"
   ]
  },
  {
   "cell_type": "markdown",
   "id": "25b360c4",
   "metadata": {},
   "source": [
    "## 1.2 Variables Globales"
   ]
  },
  {
   "cell_type": "code",
   "execution_count": 107,
   "id": "da7438f5",
   "metadata": {},
   "outputs": [],
   "source": [
    "#Exactitud utilizada en todos los modelos\n",
    "GLOBAL_EXACTITUD = 0.8\n",
    "#Datos CSV sin alterar\n",
    "GLOBAL_DATOS = pd.read_csv(\"data_titanic_proyecto.csv\")\n",
    "#Porcentaje de datos de entrenamiento\n",
    "GLOBAL_SET_ENTRENAMIENTO = 0.8\n",
    "#Porcentaje de datos de validación\n",
    "GLOBAL_SET_VALIDACION = 0.2"
   ]
  },
  {
   "cell_type": "markdown",
   "id": "0f5b239d",
   "metadata": {},
   "source": [
    "# 2. Preprocesamiento"
   ]
  },
  {
   "cell_type": "markdown",
   "id": "d0a01429",
   "metadata": {},
   "source": [
    "## 2.1 Train-val-test split"
   ]
  },
  {
   "cell_type": "code",
   "execution_count": 45,
   "id": "593cb3d8",
   "metadata": {},
   "outputs": [
    {
     "ename": "NameError",
     "evalue": "name 'GLOBAL_DATOS' is not defined",
     "output_type": "error",
     "traceback": [
      "\u001b[1;31m---------------------------------------------------------------------------\u001b[0m",
      "\u001b[1;31mNameError\u001b[0m                                 Traceback (most recent call last)",
      "Input \u001b[1;32mIn [45]\u001b[0m, in \u001b[0;36m<cell line: 1>\u001b[1;34m()\u001b[0m\n\u001b[1;32m----> 1\u001b[0m TVTS_data \u001b[38;5;241m=\u001b[39m \u001b[43mGLOBAL_DATOS\u001b[49m\u001b[38;5;241m.\u001b[39mcopy()\n\u001b[0;32m      2\u001b[0m TVTS_data\u001b[38;5;241m.\u001b[39mshape\n",
      "\u001b[1;31mNameError\u001b[0m: name 'GLOBAL_DATOS' is not defined"
     ]
    }
   ],
   "source": [
    "TVTS_data = GLOBAL_DATOS.copy()\n",
    "TVTS_data.shape"
   ]
  },
  {
   "cell_type": "markdown",
   "id": "a727e5dd",
   "metadata": {},
   "source": [
    "Indices aleatorios"
   ]
  },
  {
   "cell_type": "code",
   "execution_count": 4,
   "id": "17056cf0",
   "metadata": {},
   "outputs": [],
   "source": [
    "np.random.seed(2022)"
   ]
  },
  {
   "cell_type": "markdown",
   "id": "65a2112a",
   "metadata": {},
   "source": [
    "Indices prueba"
   ]
  },
  {
   "cell_type": "code",
   "execution_count": 5,
   "id": "37d8fc55",
   "metadata": {},
   "outputs": [],
   "source": [
    "longitud = len(TVTS_data)\n",
    "TVTS_indices_entrenamiento = np.random.choice(longitud, round(longitud * GLOBAL_SET_ENTRENAMIENTO), replace=False)\n",
    "TVTS_indices_prueba = np.array(list(set(range(longitud)) - set(TVTS_indices_entrenamiento)))"
   ]
  },
  {
   "cell_type": "markdown",
   "id": "47e83509",
   "metadata": {},
   "source": [
    "Datos prueba"
   ]
  },
  {
   "cell_type": "code",
   "execution_count": 6,
   "id": "4e48e3d6",
   "metadata": {},
   "outputs": [],
   "source": [
    "TVTS_data_prueba = TVTS_data.iloc[TVTS_indices_prueba,:].copy()\n",
    "TVTS_data_entrenamiento = TVTS_data.iloc[TVTS_indices_entrenamiento,:]"
   ]
  },
  {
   "cell_type": "markdown",
   "id": "51346c89",
   "metadata": {},
   "source": [
    "Indices de entrenamiento y validación"
   ]
  },
  {
   "cell_type": "code",
   "execution_count": 7,
   "id": "b22fb332",
   "metadata": {},
   "outputs": [],
   "source": [
    "longitud = len(TVTS_data_entrenamiento)\n",
    "TVTS_indices_validacion = np.random.choice(longitud, round(longitud * GLOBAL_SET_VALIDACION), replace=False)\n",
    "TVTS_indices_entrenamiento = np.array(list(set(range(longitud)) - set(TVTS_indices_validacion)))"
   ]
  },
  {
   "cell_type": "markdown",
   "id": "fc482dc2",
   "metadata": {},
   "source": [
    "Datos de entrenamiento y validación"
   ]
  },
  {
   "cell_type": "code",
   "execution_count": 8,
   "id": "c0977e39",
   "metadata": {},
   "outputs": [],
   "source": [
    "TVTS_data_validacion = TVTS_data_entrenamiento.iloc[TVTS_indices_validacion,:].copy()\n",
    "TVTS_data_entrenamiento = TVTS_data_entrenamiento.iloc[TVTS_indices_entrenamiento,:].copy()"
   ]
  },
  {
   "cell_type": "markdown",
   "id": "0818833b",
   "metadata": {},
   "source": [
    "Guardando CSV de datos de prueba"
   ]
  },
  {
   "cell_type": "code",
   "execution_count": 9,
   "id": "3dfda448",
   "metadata": {},
   "outputs": [],
   "source": [
    "TVTS_data_prueba.to_csv(\"TVTS_data_prueba.csv\", index=False)"
   ]
  },
  {
   "cell_type": "markdown",
   "id": "a9f9a7fe",
   "metadata": {},
   "source": [
    "Eliminación de variables con los datos de prueba:"
   ]
  },
  {
   "cell_type": "code",
   "execution_count": 10,
   "id": "9ae0e72a",
   "metadata": {},
   "outputs": [],
   "source": [
    "del TVTS_data_prueba\n",
    "del TVTS_data\n",
    "del GLOBAL_DATOS"
   ]
  },
  {
   "cell_type": "markdown",
   "id": "9101ee1f",
   "metadata": {},
   "source": [
    "## 2.2 Analisis exploratorio"
   ]
  },
  {
   "cell_type": "markdown",
   "id": "60347841",
   "metadata": {},
   "source": [
    "Los datos son los siguientes:"
   ]
  },
  {
   "cell_type": "code",
   "execution_count": 198,
   "id": "310b3335",
   "metadata": {},
   "outputs": [
    {
     "data": {
      "text/html": [
       "<div>\n",
       "<style scoped>\n",
       "    .dataframe tbody tr th:only-of-type {\n",
       "        vertical-align: middle;\n",
       "    }\n",
       "\n",
       "    .dataframe tbody tr th {\n",
       "        vertical-align: top;\n",
       "    }\n",
       "\n",
       "    .dataframe thead th {\n",
       "        text-align: right;\n",
       "    }\n",
       "</style>\n",
       "<table border=\"1\" class=\"dataframe\">\n",
       "  <thead>\n",
       "    <tr style=\"text-align: right;\">\n",
       "      <th></th>\n",
       "      <th>PassengerId</th>\n",
       "      <th>Name</th>\n",
       "      <th>Age</th>\n",
       "      <th>SibSp</th>\n",
       "      <th>Parch</th>\n",
       "      <th>Ticket</th>\n",
       "      <th>Fare</th>\n",
       "      <th>Cabin</th>\n",
       "      <th>Embarked</th>\n",
       "      <th>passenger_class</th>\n",
       "      <th>passenger_sex</th>\n",
       "      <th>passenger_survived</th>\n",
       "    </tr>\n",
       "  </thead>\n",
       "  <tbody>\n",
       "    <tr>\n",
       "      <th>770</th>\n",
       "      <td>771</td>\n",
       "      <td>Lievens, Mr. Rene Aime</td>\n",
       "      <td>24.00</td>\n",
       "      <td>0</td>\n",
       "      <td>0</td>\n",
       "      <td>345781</td>\n",
       "      <td>9.5000</td>\n",
       "      <td>NaN</td>\n",
       "      <td>S</td>\n",
       "      <td>Lower</td>\n",
       "      <td>M</td>\n",
       "      <td>N</td>\n",
       "    </tr>\n",
       "    <tr>\n",
       "      <th>178</th>\n",
       "      <td>179</td>\n",
       "      <td>Hale, Mr. Reginald</td>\n",
       "      <td>30.00</td>\n",
       "      <td>0</td>\n",
       "      <td>0</td>\n",
       "      <td>250653</td>\n",
       "      <td>13.0000</td>\n",
       "      <td>NaN</td>\n",
       "      <td>S</td>\n",
       "      <td>Middle</td>\n",
       "      <td>M</td>\n",
       "      <td>N</td>\n",
       "    </tr>\n",
       "    <tr>\n",
       "      <th>159</th>\n",
       "      <td>160</td>\n",
       "      <td>Sage, Master. Thomas Henry</td>\n",
       "      <td>NaN</td>\n",
       "      <td>8</td>\n",
       "      <td>2</td>\n",
       "      <td>CA. 2343</td>\n",
       "      <td>69.5500</td>\n",
       "      <td>NaN</td>\n",
       "      <td>S</td>\n",
       "      <td>Lower</td>\n",
       "      <td>M</td>\n",
       "      <td>N</td>\n",
       "    </tr>\n",
       "    <tr>\n",
       "      <th>656</th>\n",
       "      <td>657</td>\n",
       "      <td>Radeff, Mr. Alexander</td>\n",
       "      <td>NaN</td>\n",
       "      <td>0</td>\n",
       "      <td>0</td>\n",
       "      <td>349223</td>\n",
       "      <td>7.8958</td>\n",
       "      <td>NaN</td>\n",
       "      <td>S</td>\n",
       "      <td>Lower</td>\n",
       "      <td>M</td>\n",
       "      <td>N</td>\n",
       "    </tr>\n",
       "    <tr>\n",
       "      <th>471</th>\n",
       "      <td>472</td>\n",
       "      <td>Cacic, Mr. Luka</td>\n",
       "      <td>38.00</td>\n",
       "      <td>0</td>\n",
       "      <td>0</td>\n",
       "      <td>315089</td>\n",
       "      <td>8.6625</td>\n",
       "      <td>NaN</td>\n",
       "      <td>S</td>\n",
       "      <td>Lower</td>\n",
       "      <td>M</td>\n",
       "      <td>N</td>\n",
       "    </tr>\n",
       "    <tr>\n",
       "      <th>...</th>\n",
       "      <td>...</td>\n",
       "      <td>...</td>\n",
       "      <td>...</td>\n",
       "      <td>...</td>\n",
       "      <td>...</td>\n",
       "      <td>...</td>\n",
       "      <td>...</td>\n",
       "      <td>...</td>\n",
       "      <td>...</td>\n",
       "      <td>...</td>\n",
       "      <td>...</td>\n",
       "      <td>...</td>\n",
       "    </tr>\n",
       "    <tr>\n",
       "      <th>803</th>\n",
       "      <td>804</td>\n",
       "      <td>Thomas, Master. Assad Alexander</td>\n",
       "      <td>0.42</td>\n",
       "      <td>0</td>\n",
       "      <td>1</td>\n",
       "      <td>2625</td>\n",
       "      <td>8.5167</td>\n",
       "      <td>NaN</td>\n",
       "      <td>C</td>\n",
       "      <td>Lower</td>\n",
       "      <td>M</td>\n",
       "      <td>Y</td>\n",
       "    </tr>\n",
       "    <tr>\n",
       "      <th>445</th>\n",
       "      <td>446</td>\n",
       "      <td>Dodge, Master. Washington</td>\n",
       "      <td>4.00</td>\n",
       "      <td>0</td>\n",
       "      <td>2</td>\n",
       "      <td>33638</td>\n",
       "      <td>81.8583</td>\n",
       "      <td>A34</td>\n",
       "      <td>S</td>\n",
       "      <td>Upper</td>\n",
       "      <td>M</td>\n",
       "      <td>Y</td>\n",
       "    </tr>\n",
       "    <tr>\n",
       "      <th>365</th>\n",
       "      <td>366</td>\n",
       "      <td>Adahl, Mr. Mauritz Nils Martin</td>\n",
       "      <td>30.00</td>\n",
       "      <td>0</td>\n",
       "      <td>0</td>\n",
       "      <td>C 7076</td>\n",
       "      <td>7.2500</td>\n",
       "      <td>NaN</td>\n",
       "      <td>S</td>\n",
       "      <td>Lower</td>\n",
       "      <td>M</td>\n",
       "      <td>N</td>\n",
       "    </tr>\n",
       "    <tr>\n",
       "      <th>611</th>\n",
       "      <td>612</td>\n",
       "      <td>Jardin, Mr. Jose Neto</td>\n",
       "      <td>NaN</td>\n",
       "      <td>0</td>\n",
       "      <td>0</td>\n",
       "      <td>SOTON/O.Q. 3101305</td>\n",
       "      <td>7.0500</td>\n",
       "      <td>NaN</td>\n",
       "      <td>S</td>\n",
       "      <td>Lower</td>\n",
       "      <td>M</td>\n",
       "      <td>N</td>\n",
       "    </tr>\n",
       "    <tr>\n",
       "      <th>487</th>\n",
       "      <td>488</td>\n",
       "      <td>Kent, Mr. Edward Austin</td>\n",
       "      <td>58.00</td>\n",
       "      <td>0</td>\n",
       "      <td>0</td>\n",
       "      <td>11771</td>\n",
       "      <td>29.7000</td>\n",
       "      <td>B37</td>\n",
       "      <td>C</td>\n",
       "      <td>Upper</td>\n",
       "      <td>M</td>\n",
       "      <td>N</td>\n",
       "    </tr>\n",
       "  </tbody>\n",
       "</table>\n",
       "<p>570 rows × 12 columns</p>\n",
       "</div>"
      ],
      "text/plain": [
       "     PassengerId                             Name    Age  SibSp  Parch  \\\n",
       "770          771           Lievens, Mr. Rene Aime  24.00      0      0   \n",
       "178          179               Hale, Mr. Reginald  30.00      0      0   \n",
       "159          160       Sage, Master. Thomas Henry    NaN      8      2   \n",
       "656          657            Radeff, Mr. Alexander    NaN      0      0   \n",
       "471          472                  Cacic, Mr. Luka  38.00      0      0   \n",
       "..           ...                              ...    ...    ...    ...   \n",
       "803          804  Thomas, Master. Assad Alexander   0.42      0      1   \n",
       "445          446        Dodge, Master. Washington   4.00      0      2   \n",
       "365          366   Adahl, Mr. Mauritz Nils Martin  30.00      0      0   \n",
       "611          612            Jardin, Mr. Jose Neto    NaN      0      0   \n",
       "487          488          Kent, Mr. Edward Austin  58.00      0      0   \n",
       "\n",
       "                 Ticket     Fare Cabin Embarked passenger_class passenger_sex  \\\n",
       "770              345781   9.5000   NaN        S           Lower             M   \n",
       "178              250653  13.0000   NaN        S          Middle             M   \n",
       "159            CA. 2343  69.5500   NaN        S           Lower             M   \n",
       "656              349223   7.8958   NaN        S           Lower             M   \n",
       "471              315089   8.6625   NaN        S           Lower             M   \n",
       "..                  ...      ...   ...      ...             ...           ...   \n",
       "803                2625   8.5167   NaN        C           Lower             M   \n",
       "445               33638  81.8583   A34        S           Upper             M   \n",
       "365              C 7076   7.2500   NaN        S           Lower             M   \n",
       "611  SOTON/O.Q. 3101305   7.0500   NaN        S           Lower             M   \n",
       "487               11771  29.7000   B37        C           Upper             M   \n",
       "\n",
       "    passenger_survived  \n",
       "770                  N  \n",
       "178                  N  \n",
       "159                  N  \n",
       "656                  N  \n",
       "471                  N  \n",
       "..                 ...  \n",
       "803                  Y  \n",
       "445                  Y  \n",
       "365                  N  \n",
       "611                  N  \n",
       "487                  N  \n",
       "\n",
       "[570 rows x 12 columns]"
      ]
     },
     "execution_count": 198,
     "metadata": {},
     "output_type": "execute_result"
    }
   ],
   "source": [
    "AE_feature_engineering = TVTS_data_entrenamiento.copy()\n",
    "AE_feature_engineering"
   ]
  },
  {
   "cell_type": "markdown",
   "id": "5914dafa",
   "metadata": {},
   "source": [
    "### 2.2.1 Eliminación de características específicas"
   ]
  },
  {
   "cell_type": "markdown",
   "id": "1a0e9600",
   "metadata": {},
   "source": [
    "Se eliminará ID de pasajero \"passengerID\" y nombre."
   ]
  },
  {
   "cell_type": "code",
   "execution_count": 199,
   "id": "540dee7a",
   "metadata": {},
   "outputs": [],
   "source": [
    "del AE_feature_engineering[\"PassengerId\"]\n",
    "del AE_feature_engineering[\"Name\"]"
   ]
  },
  {
   "cell_type": "markdown",
   "id": "a4a50bd2",
   "metadata": {},
   "source": [
    "### 2.2.2 Imputación de datos faltantes"
   ]
  },
  {
   "cell_type": "markdown",
   "id": "6f433254",
   "metadata": {},
   "source": [
    "A continuación se listan la cantidad de registros en cada columna que tienen valores NAN:"
   ]
  },
  {
   "cell_type": "code",
   "execution_count": 200,
   "id": "14edcf5e",
   "metadata": {},
   "outputs": [
    {
     "name": "stdout",
     "output_type": "stream",
     "text": [
      "Age: 112\n",
      "Cabin: 445\n",
      "Embarked: 1\n"
     ]
    }
   ],
   "source": [
    "for col in AE_feature_engineering.columns:\n",
    "    AE_columnas_nan = AE_feature_engineering[col].isnull().sum().sum()\n",
    "    if(AE_columnas_nan>0):\n",
    "        print(col+\":\", AE_columnas_nan)"
   ]
  },
  {
   "cell_type": "markdown",
   "id": "f758cd97",
   "metadata": {},
   "source": [
    "#### 2.2.2.1 Analisis de densidad de la columna Year:"
   ]
  },
  {
   "cell_type": "code",
   "execution_count": 201,
   "id": "8506d37e",
   "metadata": {},
   "outputs": [
    {
     "data": {
      "image/png": "[encoded data removed]",
      "text/plain": [
       "<Figure size 432x288 with 1 Axes>"
      ]
     },
     "metadata": {
      "needs_background": "light"
     },
     "output_type": "display_data"
    }
   ],
   "source": [
    "AE_age_nonan = AE_feature_engineering[\"Age\"].notnull()\n",
    "AE_feature_engineering[\"Age\"][AE_age_nonan].plot.density(color='green')\n",
    "plt.title('Density plot for Speeding')\n",
    "plt.show()"
   ]
  },
  {
   "cell_type": "markdown",
   "id": "29f036ba",
   "metadata": {},
   "source": [
    "Se utilizará un numero aleatorio utilizando una distribución normal. No se utilizará la media para no crear un outlayer:"
   ]
  },
  {
   "cell_type": "code",
   "execution_count": 202,
   "id": "3df1efe3",
   "metadata": {},
   "outputs": [],
   "source": [
    "AE_age_nan = AE_feature_engineering[\"Age\"].isnull()\n",
    "AE_age_mean = AE_feature_engineering[\"Age\"][AE_age_nonan].mean(axis=0)\n",
    "AE_age_std = AE_feature_engineering[\"Age\"][AE_age_nonan].std(axis=0)\n",
    "AE_age_random = np.random.normal(AE_age_mean, AE_age_std, sum(AE_age_nan))\n",
    "\n",
    "AE_feature_engineering.columns.get_loc(\"Age\")\n",
    "\n",
    "AE_feature_engineering.loc[AE_age_nan, \"Age\"] = AE_age_random"
   ]
  },
  {
   "cell_type": "markdown",
   "id": "7eb5de54",
   "metadata": {},
   "source": [
    "#### 2.2.2.2 Analisis de las columna categórica Cabin"
   ]
  },
  {
   "cell_type": "markdown",
   "id": "f063b4db",
   "metadata": {},
   "source": [
    "Porcentaje de datos faltantes:"
   ]
  },
  {
   "cell_type": "code",
   "execution_count": 203,
   "id": "c3736069",
   "metadata": {},
   "outputs": [
    {
     "name": "stdout",
     "output_type": "stream",
     "text": [
      "78.0701754385965\n"
     ]
    }
   ],
   "source": [
    "print(sum(AE_feature_engineering[\"Cabin\"].isnull())*100/len(AE_feature_engineering[\"Cabin\"]))"
   ]
  },
  {
   "cell_type": "markdown",
   "id": "2fe28f56",
   "metadata": {},
   "source": [
    "En el siguiente gráfico se visualiza la gráfica de densidad para Cabin:"
   ]
  },
  {
   "cell_type": "code",
   "execution_count": 204,
   "id": "420ab568",
   "metadata": {},
   "outputs": [
    {
     "data": {
      "text/plain": [
       "<AxesSubplot:>"
      ]
     },
     "execution_count": 204,
     "metadata": {},
     "output_type": "execute_result"
    },
    {
     "data": {
      "image/png": "[encoded data removed]",
      "text/plain": [
       "<Figure size 432x288 with 1 Axes>"
      ]
     },
     "metadata": {
      "needs_background": "light"
     },
     "output_type": "display_data"
    }
   ],
   "source": [
    "AE_cabin_nonan = AE_feature_engineering[\"Cabin\"].notnull()\n",
    "AE_cabin_repitencia = AE_feature_engineering[\"Cabin\"][AE_cabin_nonan].value_counts()\n",
    "AE_cabin_repitencia.plot(kind='bar')"
   ]
  },
  {
   "cell_type": "markdown",
   "id": "665802e1",
   "metadata": {},
   "source": [
    "La reptiencia máxima de Cabin es 'G6', este valor aparece solo 4 veces. Es necesario considerar que solo se tienen 4 registros con est"
   ]
  },
  {
   "cell_type": "code",
   "execution_count": 205,
   "id": "b4d9db7f",
   "metadata": {},
   "outputs": [
    {
     "name": "stdout",
     "output_type": "stream",
     "text": [
      "Registros que se repiten 4 veces: 0.010752688172043012\n",
      "Registros que se repiten 3 veces: 0.03225806451612903\n",
      "Registros que se repiten 2 veces: 0.24731182795698925\n",
      "Registros que se repiten 1 vez: 0.7096774193548387\n"
     ]
    }
   ],
   "source": [
    "print(\"Registros que se repiten 4 veces:\", len(AE_cabin_repitencia[AE_cabin_repitencia==4])/len(AE_cabin_repitencia))\n",
    "print(\"Registros que se repiten 3 veces:\", len(AE_cabin_repitencia[AE_cabin_repitencia==3])/len(AE_cabin_repitencia))\n",
    "print(\"Registros que se repiten 2 veces:\", len(AE_cabin_repitencia[AE_cabin_repitencia==2])/len(AE_cabin_repitencia))\n",
    "print(\"Registros que se repiten 1 vez:\", len(AE_cabin_repitencia[AE_cabin_repitencia==1])/len(AE_cabin_repitencia))"
   ]
  },
  {
   "cell_type": "markdown",
   "id": "d30c281c",
   "metadata": {},
   "source": [
    "Para la columna Kabin se considera que no existe suficiente información para hacer imputación de datos. Se eliminará la columna."
   ]
  },
  {
   "cell_type": "code",
   "execution_count": 206,
   "id": "93ac5665",
   "metadata": {},
   "outputs": [],
   "source": [
    "del AE_feature_engineering[\"Cabin\"]"
   ]
  },
  {
   "cell_type": "markdown",
   "id": "43ed75a2",
   "metadata": {},
   "source": [
    "#### 2.2.2.3 Analisis de densidad de la columna Embarked:"
   ]
  },
  {
   "cell_type": "markdown",
   "id": "2289ac77",
   "metadata": {},
   "source": [
    "Existen pocos valores nan en la columna Embarked, a continuación se lista la repitencia de valores para esta columna:"
   ]
  },
  {
   "cell_type": "code",
   "execution_count": 207,
   "id": "a8f1f246",
   "metadata": {},
   "outputs": [
    {
     "data": {
      "text/plain": [
       "S    74\n",
       "C    46\n",
       "Q     4\n",
       "Name: Embarked, dtype: int64"
      ]
     },
     "execution_count": 207,
     "metadata": {},
     "output_type": "execute_result"
    }
   ],
   "source": [
    "AE_embarked_nonan = AE_feature_engineering[\"Embarked\"].notnull()\n",
    "AE_embarked_repitencia = AE_feature_engineering[\"Embarked\"][AE_cabin_nonan].value_counts()\n",
    "AE_embarked_repitencia"
   ]
  },
  {
   "cell_type": "markdown",
   "id": "efe26e9e",
   "metadata": {},
   "source": [
    "Se realizará imputación con el valor más repetido:"
   ]
  },
  {
   "cell_type": "code",
   "execution_count": 208,
   "id": "208b0a4b",
   "metadata": {},
   "outputs": [],
   "source": [
    "AE_embarked_mas_repetido = AE_embarked_repitencia[AE_embarked_repitencia==AE_embarked_repitencia[0]].axes[0].tolist()\n",
    "AE_embarked_nan = AE_feature_engineering[\"Embarked\"].isnull()\n",
    "AE_feature_engineering.loc[AE_embarked_nan, \"Embarked\"] = AE_embarked_mas_repetido"
   ]
  },
  {
   "cell_type": "markdown",
   "id": "bf80c59e",
   "metadata": {},
   "source": [
    "### 2.2.3 Codificación de variables categóricas"
   ]
  },
  {
   "cell_type": "markdown",
   "id": "cccd1908",
   "metadata": {},
   "source": [
    "El dataset hasta ahora es:"
   ]
  },
  {
   "cell_type": "code",
   "execution_count": 209,
   "id": "b4dfff0d",
   "metadata": {},
   "outputs": [
    {
     "data": {
      "text/html": [
       "<div>\n",
       "<style scoped>\n",
       "    .dataframe tbody tr th:only-of-type {\n",
       "        vertical-align: middle;\n",
       "    }\n",
       "\n",
       "    .dataframe tbody tr th {\n",
       "        vertical-align: top;\n",
       "    }\n",
       "\n",
       "    .dataframe thead th {\n",
       "        text-align: right;\n",
       "    }\n",
       "</style>\n",
       "<table border=\"1\" class=\"dataframe\">\n",
       "  <thead>\n",
       "    <tr style=\"text-align: right;\">\n",
       "      <th></th>\n",
       "      <th>Age</th>\n",
       "      <th>SibSp</th>\n",
       "      <th>Parch</th>\n",
       "      <th>Ticket</th>\n",
       "      <th>Fare</th>\n",
       "      <th>Embarked</th>\n",
       "      <th>passenger_class</th>\n",
       "      <th>passenger_sex</th>\n",
       "      <th>passenger_survived</th>\n",
       "    </tr>\n",
       "  </thead>\n",
       "  <tbody>\n",
       "    <tr>\n",
       "      <th>770</th>\n",
       "      <td>24.000000</td>\n",
       "      <td>0</td>\n",
       "      <td>0</td>\n",
       "      <td>345781</td>\n",
       "      <td>9.5000</td>\n",
       "      <td>S</td>\n",
       "      <td>Lower</td>\n",
       "      <td>M</td>\n",
       "      <td>N</td>\n",
       "    </tr>\n",
       "    <tr>\n",
       "      <th>178</th>\n",
       "      <td>30.000000</td>\n",
       "      <td>0</td>\n",
       "      <td>0</td>\n",
       "      <td>250653</td>\n",
       "      <td>13.0000</td>\n",
       "      <td>S</td>\n",
       "      <td>Middle</td>\n",
       "      <td>M</td>\n",
       "      <td>N</td>\n",
       "    </tr>\n",
       "    <tr>\n",
       "      <th>159</th>\n",
       "      <td>20.262310</td>\n",
       "      <td>8</td>\n",
       "      <td>2</td>\n",
       "      <td>CA. 2343</td>\n",
       "      <td>69.5500</td>\n",
       "      <td>S</td>\n",
       "      <td>Lower</td>\n",
       "      <td>M</td>\n",
       "      <td>N</td>\n",
       "    </tr>\n",
       "    <tr>\n",
       "      <th>656</th>\n",
       "      <td>24.748894</td>\n",
       "      <td>0</td>\n",
       "      <td>0</td>\n",
       "      <td>349223</td>\n",
       "      <td>7.8958</td>\n",
       "      <td>S</td>\n",
       "      <td>Lower</td>\n",
       "      <td>M</td>\n",
       "      <td>N</td>\n",
       "    </tr>\n",
       "    <tr>\n",
       "      <th>471</th>\n",
       "      <td>38.000000</td>\n",
       "      <td>0</td>\n",
       "      <td>0</td>\n",
       "      <td>315089</td>\n",
       "      <td>8.6625</td>\n",
       "      <td>S</td>\n",
       "      <td>Lower</td>\n",
       "      <td>M</td>\n",
       "      <td>N</td>\n",
       "    </tr>\n",
       "    <tr>\n",
       "      <th>...</th>\n",
       "      <td>...</td>\n",
       "      <td>...</td>\n",
       "      <td>...</td>\n",
       "      <td>...</td>\n",
       "      <td>...</td>\n",
       "      <td>...</td>\n",
       "      <td>...</td>\n",
       "      <td>...</td>\n",
       "      <td>...</td>\n",
       "    </tr>\n",
       "    <tr>\n",
       "      <th>803</th>\n",
       "      <td>0.420000</td>\n",
       "      <td>0</td>\n",
       "      <td>1</td>\n",
       "      <td>2625</td>\n",
       "      <td>8.5167</td>\n",
       "      <td>C</td>\n",
       "      <td>Lower</td>\n",
       "      <td>M</td>\n",
       "      <td>Y</td>\n",
       "    </tr>\n",
       "    <tr>\n",
       "      <th>445</th>\n",
       "      <td>4.000000</td>\n",
       "      <td>0</td>\n",
       "      <td>2</td>\n",
       "      <td>33638</td>\n",
       "      <td>81.8583</td>\n",
       "      <td>S</td>\n",
       "      <td>Upper</td>\n",
       "      <td>M</td>\n",
       "      <td>Y</td>\n",
       "    </tr>\n",
       "    <tr>\n",
       "      <th>365</th>\n",
       "      <td>30.000000</td>\n",
       "      <td>0</td>\n",
       "      <td>0</td>\n",
       "      <td>C 7076</td>\n",
       "      <td>7.2500</td>\n",
       "      <td>S</td>\n",
       "      <td>Lower</td>\n",
       "      <td>M</td>\n",
       "      <td>N</td>\n",
       "    </tr>\n",
       "    <tr>\n",
       "      <th>611</th>\n",
       "      <td>40.787758</td>\n",
       "      <td>0</td>\n",
       "      <td>0</td>\n",
       "      <td>SOTON/O.Q. 3101305</td>\n",
       "      <td>7.0500</td>\n",
       "      <td>S</td>\n",
       "      <td>Lower</td>\n",
       "      <td>M</td>\n",
       "      <td>N</td>\n",
       "    </tr>\n",
       "    <tr>\n",
       "      <th>487</th>\n",
       "      <td>58.000000</td>\n",
       "      <td>0</td>\n",
       "      <td>0</td>\n",
       "      <td>11771</td>\n",
       "      <td>29.7000</td>\n",
       "      <td>C</td>\n",
       "      <td>Upper</td>\n",
       "      <td>M</td>\n",
       "      <td>N</td>\n",
       "    </tr>\n",
       "  </tbody>\n",
       "</table>\n",
       "<p>570 rows × 9 columns</p>\n",
       "</div>"
      ],
      "text/plain": [
       "           Age  SibSp  Parch              Ticket     Fare Embarked  \\\n",
       "770  24.000000      0      0              345781   9.5000        S   \n",
       "178  30.000000      0      0              250653  13.0000        S   \n",
       "159  20.262310      8      2            CA. 2343  69.5500        S   \n",
       "656  24.748894      0      0              349223   7.8958        S   \n",
       "471  38.000000      0      0              315089   8.6625        S   \n",
       "..         ...    ...    ...                 ...      ...      ...   \n",
       "803   0.420000      0      1                2625   8.5167        C   \n",
       "445   4.000000      0      2               33638  81.8583        S   \n",
       "365  30.000000      0      0              C 7076   7.2500        S   \n",
       "611  40.787758      0      0  SOTON/O.Q. 3101305   7.0500        S   \n",
       "487  58.000000      0      0               11771  29.7000        C   \n",
       "\n",
       "    passenger_class passenger_sex passenger_survived  \n",
       "770           Lower             M                  N  \n",
       "178          Middle             M                  N  \n",
       "159           Lower             M                  N  \n",
       "656           Lower             M                  N  \n",
       "471           Lower             M                  N  \n",
       "..              ...           ...                ...  \n",
       "803           Lower             M                  Y  \n",
       "445           Upper             M                  Y  \n",
       "365           Lower             M                  N  \n",
       "611           Lower             M                  N  \n",
       "487           Upper             M                  N  \n",
       "\n",
       "[570 rows x 9 columns]"
      ]
     },
     "execution_count": 209,
     "metadata": {},
     "output_type": "execute_result"
    }
   ],
   "source": [
    "AE_feature_engineering"
   ]
  },
  {
   "cell_type": "markdown",
   "id": "caf7c409",
   "metadata": {},
   "source": [
    "#### 2.2.3.1 Columna Ticket"
   ]
  },
  {
   "cell_type": "markdown",
   "id": "137bdb39",
   "metadata": {},
   "source": [
    "A continuación se muestra la repetición de cada valor único:"
   ]
  },
  {
   "cell_type": "code",
   "execution_count": 210,
   "id": "c4c2f7c4",
   "metadata": {},
   "outputs": [
    {
     "data": {
      "text/plain": [
       "CA. 2343        5\n",
       "1601            5\n",
       "CA 2144         5\n",
       "3101295         5\n",
       "S.O.C. 14879    5\n",
       "               ..\n",
       "363592          1\n",
       "24160           1\n",
       "C.A. 6212       1\n",
       "248747          1\n",
       "11771           1\n",
       "Name: Ticket, Length: 468, dtype: int64"
      ]
     },
     "execution_count": 210,
     "metadata": {},
     "output_type": "execute_result"
    }
   ],
   "source": [
    "AE_feature_engineering.Ticket.value_counts()"
   ]
  },
  {
   "cell_type": "markdown",
   "id": "3a3ecede",
   "metadata": {},
   "source": [
    "La columna ticket será reemplazada según su repetición."
   ]
  },
  {
   "cell_type": "code",
   "execution_count": 211,
   "id": "c64a593c",
   "metadata": {},
   "outputs": [],
   "source": [
    "AE_valores_Ticket = AE_feature_engineering.Ticket.value_counts().axes[0].tolist()\n",
    "AE_repitencia_Ticket = np.array(AE_feature_engineering.Ticket.value_counts())\n",
    "AE_feature_engineering['Ticket'].replace(AE_valores_Ticket, AE_repitencia_Ticket, inplace=True)"
   ]
  },
  {
   "cell_type": "markdown",
   "id": "488832c1",
   "metadata": {},
   "source": [
    "#### 2.2.3.2 Columna Embarked"
   ]
  },
  {
   "cell_type": "markdown",
   "id": "182ba672",
   "metadata": {},
   "source": [
    "A continuación se muestra la repetición de cada valor único:"
   ]
  },
  {
   "cell_type": "code",
   "execution_count": 212,
   "id": "eb12cdb7",
   "metadata": {},
   "outputs": [
    {
     "data": {
      "text/plain": [
       "S    406\n",
       "C    106\n",
       "Q     58\n",
       "Name: Embarked, dtype: int64"
      ]
     },
     "execution_count": 212,
     "metadata": {},
     "output_type": "execute_result"
    }
   ],
   "source": [
    "AE_feature_engineering.Embarked.value_counts()"
   ]
  },
  {
   "cell_type": "markdown",
   "id": "56c8e4bd",
   "metadata": {},
   "source": [
    "La columna ticket será reemplazada utilizando one hot encoding."
   ]
  },
  {
   "cell_type": "code",
   "execution_count": 213,
   "id": "b73b9bb1",
   "metadata": {},
   "outputs": [],
   "source": [
    "AE_Embarked_OHE = pd.get_dummies(AE_feature_engineering.Embarked, prefix=\"Embarked\")\n",
    "AE_feature_engineering = pd.concat([AE_feature_engineering, AE_Embarked_OHE], axis=1)\n",
    "del AE_feature_engineering[\"Embarked\"]"
   ]
  },
  {
   "cell_type": "markdown",
   "id": "00ad54b0",
   "metadata": {},
   "source": [
    "#### 2.2.3.3 Columna passenger_class"
   ]
  },
  {
   "cell_type": "markdown",
   "id": "2eeaffd6",
   "metadata": {},
   "source": [
    "A continuación se muestra la repetición de cada valor único:"
   ]
  },
  {
   "cell_type": "code",
   "execution_count": 214,
   "id": "88cf2f05",
   "metadata": {},
   "outputs": [
    {
     "data": {
      "text/plain": [
       "Lower     314\n",
       "Upper     132\n",
       "Middle    124\n",
       "Name: passenger_class, dtype: int64"
      ]
     },
     "execution_count": 214,
     "metadata": {},
     "output_type": "execute_result"
    }
   ],
   "source": [
    "AE_feature_engineering.passenger_class.value_counts()"
   ]
  },
  {
   "cell_type": "markdown",
   "id": "7256a9c7",
   "metadata": {},
   "source": [
    "La columna ticket será reemplazada utilizando one hot encoding."
   ]
  },
  {
   "cell_type": "code",
   "execution_count": 215,
   "id": "fc305b03",
   "metadata": {},
   "outputs": [],
   "source": [
    "AE_passenger_class_OHE = pd.get_dummies(AE_feature_engineering.passenger_class, prefix=\"passenger_class\")\n",
    "AE_feature_engineering = pd.concat([AE_feature_engineering, AE_passenger_class_OHE], axis=1)\n",
    "del AE_feature_engineering[\"passenger_class\"]"
   ]
  },
  {
   "cell_type": "markdown",
   "id": "1e4d9169",
   "metadata": {},
   "source": [
    "#### 2.2.3.3 Columna passenger_sex"
   ]
  },
  {
   "cell_type": "markdown",
   "id": "61ae4967",
   "metadata": {},
   "source": [
    "A continuación se muestra la repetición de cada valor único:"
   ]
  },
  {
   "cell_type": "code",
   "execution_count": 216,
   "id": "bb0a8654",
   "metadata": {},
   "outputs": [
    {
     "data": {
      "text/plain": [
       "M    375\n",
       "F    195\n",
       "Name: passenger_sex, dtype: int64"
      ]
     },
     "execution_count": 216,
     "metadata": {},
     "output_type": "execute_result"
    }
   ],
   "source": [
    "AE_feature_engineering.passenger_sex.value_counts()"
   ]
  },
  {
   "cell_type": "markdown",
   "id": "fb55a48c",
   "metadata": {},
   "source": [
    "La columna ticket será reemplazada utilizando one hot encoding."
   ]
  },
  {
   "cell_type": "code",
   "execution_count": 217,
   "id": "a65e4cd7",
   "metadata": {},
   "outputs": [],
   "source": [
    "AE_passenger_sex_OHE = pd.get_dummies(AE_feature_engineering.passenger_sex, prefix=\"passenger_sex\")\n",
    "AE_feature_engineering = pd.concat([AE_feature_engineering, AE_passenger_sex_OHE], axis=1)\n",
    "del AE_feature_engineering[\"passenger_sex\"]"
   ]
  },
  {
   "cell_type": "markdown",
   "id": "3d5c9f4b",
   "metadata": {},
   "source": [
    "#### 2.2.3.3 Columna passenger_survived"
   ]
  },
  {
   "cell_type": "markdown",
   "id": "9d7e498e",
   "metadata": {},
   "source": [
    "A continuación se muestra la repetición de cada valor único:"
   ]
  },
  {
   "cell_type": "code",
   "execution_count": 218,
   "id": "aec09abf",
   "metadata": {},
   "outputs": [
    {
     "data": {
      "text/plain": [
       "N    349\n",
       "Y    221\n",
       "Name: passenger_survived, dtype: int64"
      ]
     },
     "execution_count": 218,
     "metadata": {},
     "output_type": "execute_result"
    }
   ],
   "source": [
    "AE_feature_engineering.passenger_survived.value_counts()"
   ]
  },
  {
   "cell_type": "markdown",
   "id": "16dbff48",
   "metadata": {},
   "source": [
    "La columna ticket será reemplazada utilizando one hot encoding."
   ]
  },
  {
   "cell_type": "code",
   "execution_count": 219,
   "id": "662ee035",
   "metadata": {},
   "outputs": [],
   "source": [
    "AE_passenger_survived_OHE = pd.get_dummies(AE_feature_engineering.passenger_survived, prefix=\"passenger_survived\")\n",
    "AE_feature_engineering = pd.concat([AE_feature_engineering, AE_passenger_survived_OHE], axis=1)\n",
    "del AE_feature_engineering[\"passenger_survived\"]"
   ]
  },
  {
   "cell_type": "markdown",
   "id": "bfb3a2a0",
   "metadata": {},
   "source": [
    "### 2.2.4 Tratamiento de Outlayers"
   ]
  },
  {
   "cell_type": "markdown",
   "id": "1aa24d16",
   "metadata": {},
   "source": [
    "Función para tratar outlayers"
   ]
  },
  {
   "cell_type": "code",
   "execution_count": 275,
   "id": "87ae5116",
   "metadata": {},
   "outputs": [],
   "source": [
    "def AE_tratamiento_outlier(AE_dataframe, AE_columnas):\n",
    "    AE_parametros_outliers = pd.DataFrame()\n",
    "    for AE_columna in AE_columnas:\n",
    "        AE_quartiles = np.array( AE_dataframe[AE_columna].quantile([.25, .5, .75]) )\n",
    "        AE_irq = AE_quartiles[2] - AE_quartiles[0]\n",
    "        AE_limite_inferior = AE_quartiles[0] - AE_irq*1.5\n",
    "        AE_limite_superior = AE_quartiles[2] + AE_irq*1.5\n",
    "        AE_mean_to = AE_dataframe[AE_columna].mean(axis=0)\n",
    "        AE_median_to = AE_dataframe[AE_columna].median(axis=0)\n",
    "        \n",
    "        AE_parametros_outliers = pd.concat([\n",
    "            AE_parametros_outliers, \n",
    "            pd.DataFrame(data = {\n",
    "                \"columna\": [AE_columna],\n",
    "                \"limite_inferior\": [AE_limite_inferior], \n",
    "                \"limite_superior\": [AE_limite_superior], \n",
    "                \"mean\": [AE_mean_to], \n",
    "                \"median\": [AE_median_to]\n",
    "            })\n",
    "        ], ignore_index=True)\n",
    "        \n",
    "        AE_dataframe.loc[ AE_dataframe[AE_columna] <  AE_limite_inferior, AE_columna ] = AE_mean_to\n",
    "        AE_dataframe.loc[ AE_dataframe[AE_columna] >  AE_limite_superior, AE_columna ] = AE_median_to\n",
    "    return AE_parametros_outliers"
   ]
  },
  {
   "cell_type": "markdown",
   "id": "58daa9c6",
   "metadata": {},
   "source": [
    "Gráficando BoxPlot para ver los outliers de las variables que no son one hot encoding:"
   ]
  },
  {
   "cell_type": "code",
   "execution_count": 267,
   "id": "1bb3f4ca",
   "metadata": {},
   "outputs": [
    {
     "data": {
      "text/plain": [
       "<AxesSubplot:>"
      ]
     },
     "execution_count": 267,
     "metadata": {},
     "output_type": "execute_result"
    },
    {
     "data": {
      "image/png": "[encoded data removed]",
      "text/plain": [
       "<Figure size 432x288 with 1 Axes>"
      ]
     },
     "metadata": {
      "needs_background": "light"
     },
     "output_type": "display_data"
    }
   ],
   "source": [
    "AE_feature_engineering.boxplot(column=['Age']) "
   ]
  },
  {
   "cell_type": "code",
   "execution_count": 268,
   "id": "8440663d",
   "metadata": {},
   "outputs": [
    {
     "data": {
      "text/plain": [
       "<AxesSubplot:>"
      ]
     },
     "execution_count": 268,
     "metadata": {},
     "output_type": "execute_result"
    },
    {
     "data": {
      "image/png": "[encoded data removed]",
      "text/plain": [
       "<Figure size 432x288 with 1 Axes>"
      ]
     },
     "metadata": {
      "needs_background": "light"
     },
     "output_type": "display_data"
    }
   ],
   "source": [
    "AE_feature_engineering.boxplot(column=['SibSp']) "
   ]
  },
  {
   "cell_type": "code",
   "execution_count": 269,
   "id": "2ea6c983",
   "metadata": {},
   "outputs": [
    {
     "data": {
      "text/plain": [
       "<AxesSubplot:>"
      ]
     },
     "execution_count": 269,
     "metadata": {},
     "output_type": "execute_result"
    },
    {
     "data": {
      "image/png": "[encoded data removed]",
      "text/plain": [
       "<Figure size 432x288 with 1 Axes>"
      ]
     },
     "metadata": {
      "needs_background": "light"
     },
     "output_type": "display_data"
    }
   ],
   "source": [
    "AE_feature_engineering.boxplot(column=['Parch']) "
   ]
  },
  {
   "cell_type": "code",
   "execution_count": 270,
   "id": "43e3ad35",
   "metadata": {},
   "outputs": [
    {
     "data": {
      "text/plain": [
       "<AxesSubplot:>"
      ]
     },
     "execution_count": 270,
     "metadata": {},
     "output_type": "execute_result"
    },
    {
     "data": {
      "image/png": "[encoded data removed]",
      "text/plain": [
       "<Figure size 432x288 with 1 Axes>"
      ]
     },
     "metadata": {
      "needs_background": "light"
     },
     "output_type": "display_data"
    }
   ],
   "source": [
    "AE_feature_engineering.boxplot(column=['Fare']) "
   ]
  },
  {
   "cell_type": "code",
   "execution_count": 278,
   "id": "e9cf04f9",
   "metadata": {},
   "outputs": [],
   "source": [
    "AE_parametros_outliers = AE_tratamiento_outlier(AE_feature_engineering, ['Fare','Parch','SibSp', 'Age']) "
   ]
  },
  {
   "cell_type": "markdown",
   "id": "6e74d02e",
   "metadata": {},
   "source": [
    "Parametros para tratamiento de outliers obtenidos:"
   ]
  },
  {
   "cell_type": "code",
   "execution_count": 279,
   "id": "4edf8fc7",
   "metadata": {},
   "outputs": [
    {
     "data": {
      "text/html": [
       "<div>\n",
       "<style scoped>\n",
       "    .dataframe tbody tr th:only-of-type {\n",
       "        vertical-align: middle;\n",
       "    }\n",
       "\n",
       "    .dataframe tbody tr th {\n",
       "        vertical-align: top;\n",
       "    }\n",
       "\n",
       "    .dataframe thead th {\n",
       "        text-align: right;\n",
       "    }\n",
       "</style>\n",
       "<table border=\"1\" class=\"dataframe\">\n",
       "  <thead>\n",
       "    <tr style=\"text-align: right;\">\n",
       "      <th></th>\n",
       "      <th>columna</th>\n",
       "      <th>limite_inferior</th>\n",
       "      <th>limite_superior</th>\n",
       "      <th>mean</th>\n",
       "      <th>median</th>\n",
       "    </tr>\n",
       "  </thead>\n",
       "  <tbody>\n",
       "    <tr>\n",
       "      <th>0</th>\n",
       "      <td>Fare</td>\n",
       "      <td>-26.760500</td>\n",
       "      <td>65.656300</td>\n",
       "      <td>31.695533</td>\n",
       "      <td>14.4271</td>\n",
       "    </tr>\n",
       "    <tr>\n",
       "      <th>1</th>\n",
       "      <td>Parch</td>\n",
       "      <td>0.000000</td>\n",
       "      <td>0.000000</td>\n",
       "      <td>0.387719</td>\n",
       "      <td>0.0000</td>\n",
       "    </tr>\n",
       "    <tr>\n",
       "      <th>2</th>\n",
       "      <td>SibSp</td>\n",
       "      <td>-1.500000</td>\n",
       "      <td>2.500000</td>\n",
       "      <td>0.538596</td>\n",
       "      <td>0.0000</td>\n",
       "    </tr>\n",
       "    <tr>\n",
       "      <th>3</th>\n",
       "      <td>Age</td>\n",
       "      <td>-7.173678</td>\n",
       "      <td>66.704207</td>\n",
       "      <td>29.749400</td>\n",
       "      <td>29.0000</td>\n",
       "    </tr>\n",
       "  </tbody>\n",
       "</table>\n",
       "</div>"
      ],
      "text/plain": [
       "  columna  limite_inferior  limite_superior       mean   median\n",
       "0    Fare       -26.760500        65.656300  31.695533  14.4271\n",
       "1   Parch         0.000000         0.000000   0.387719   0.0000\n",
       "2   SibSp        -1.500000         2.500000   0.538596   0.0000\n",
       "3     Age        -7.173678        66.704207  29.749400  29.0000"
      ]
     },
     "execution_count": 279,
     "metadata": {},
     "output_type": "execute_result"
    }
   ],
   "source": [
    "AE_parametros_outliers"
   ]
  }
 ],
 "metadata": {
  "kernelspec": {
   "display_name": "Python 3 (ipykernel)",
   "language": "python",
   "name": "python3"
  },
  "language_info": {
   "codemirror_mode": {
    "name": "ipython",
    "version": 3
   },
   "file_extension": ".py",
   "mimetype": "text/x-python",
   "name": "python",
   "nbconvert_exporter": "python",
   "pygments_lexer": "ipython3",
   "version": "3.9.12"
  }
 },
 "nbformat": 4,
 "nbformat_minor": 5
}
