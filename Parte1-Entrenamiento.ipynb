{
 "cells": [
  {
   "cell_type": "markdown",
   "id": "ab75a446",
   "metadata": {},
   "source": [
    "<b>Universidad Galileo</b><br/>\n",
    "<b>Maestría de Ciencia de Datos</b><br/>\n",
    "<b>Statistical Learning I</b><br/>\n",
    "<b>Jose Godoy</b><br/>\n",
    "<b>Carnet 22000570</b><br/>\n",
    "<b>22 de junio 2022</b><br/>"
   ]
  },
  {
   "cell_type": "markdown",
   "id": "4ac85d6c",
   "metadata": {},
   "source": [
    "# 1. Sección de configuración"
   ]
  },
  {
   "cell_type": "markdown",
   "id": "68723aa0",
   "metadata": {},
   "source": [
    "## 1.1 Liberías"
   ]
  },
  {
   "cell_type": "markdown",
   "id": "8892c906",
   "metadata": {},
   "source": [
    "Carga de librerías generales"
   ]
  },
  {
   "cell_type": "code",
   "execution_count": 1,
   "id": "9b17a4f0",
   "metadata": {},
   "outputs": [],
   "source": [
    "import numpy as np\n",
    "import pandas as pd\n",
    "import matplotlib.pyplot as plt\n",
    "import os\n",
    "import datetime"
   ]
  },
  {
   "cell_type": "markdown",
   "id": "132f84fa",
   "metadata": {},
   "source": [
    "Cargando librerías de sklearn:"
   ]
  },
  {
   "cell_type": "code",
   "execution_count": 2,
   "id": "f14d874b",
   "metadata": {},
   "outputs": [],
   "source": [
    "from sklearn.tree import DecisionTreeClassifier\n",
    "from sklearn.metrics import accuracy_score, mean_squared_error, recall_score, f1_score"
   ]
  },
  {
   "cell_type": "markdown",
   "id": "1fd17a92",
   "metadata": {},
   "source": [
    "Graficas más grandes"
   ]
  },
  {
   "cell_type": "code",
   "execution_count": 3,
   "id": "4d4a5f88",
   "metadata": {},
   "outputs": [],
   "source": [
    "plt.rcParams[\"figure.figsize\"] = (16, 4)"
   ]
  },
  {
   "cell_type": "markdown",
   "id": "25b360c4",
   "metadata": {},
   "source": [
    "## 1.2 Variables Globales"
   ]
  },
  {
   "cell_type": "code",
   "execution_count": 4,
   "id": "da7438f5",
   "metadata": {},
   "outputs": [],
   "source": [
    "#Exactitud utilizada en todos los modelos\n",
    "GLOBAL_EXACTITUD = 0.8\n",
    "#Datos CSV sin alterar\n",
    "GLOBAL_DATOS = pd.read_csv(\"data_titanic_proyecto.csv\")\n",
    "#Porcentaje de datos de entrenamiento\n",
    "GLOBAL_SET_ENTRENAMIENTO = 0.8\n",
    "#Porcentaje de datos de validación\n",
    "GLOBAL_SET_VALIDACION = 0.2"
   ]
  },
  {
   "cell_type": "markdown",
   "id": "0f5b239d",
   "metadata": {},
   "source": [
    "# 2. Preprocesamiento"
   ]
  },
  {
   "cell_type": "markdown",
   "id": "d0a01429",
   "metadata": {},
   "source": [
    "## 2.1 Train-val-test split"
   ]
  },
  {
   "cell_type": "code",
   "execution_count": 5,
   "id": "593cb3d8",
   "metadata": {},
   "outputs": [
    {
     "data": {
      "text/plain": [
       "(891, 12)"
      ]
     },
     "execution_count": 5,
     "metadata": {},
     "output_type": "execute_result"
    }
   ],
   "source": [
    "TVTS_data = GLOBAL_DATOS.copy()\n",
    "TVTS_data.shape"
   ]
  },
  {
   "cell_type": "markdown",
   "id": "a727e5dd",
   "metadata": {},
   "source": [
    "Indices aleatorios"
   ]
  },
  {
   "cell_type": "code",
   "execution_count": 6,
   "id": "17056cf0",
   "metadata": {},
   "outputs": [],
   "source": [
    "np.random.seed(2022)"
   ]
  },
  {
   "cell_type": "markdown",
   "id": "65a2112a",
   "metadata": {},
   "source": [
    "Indices prueba"
   ]
  },
  {
   "cell_type": "code",
   "execution_count": 7,
   "id": "37d8fc55",
   "metadata": {},
   "outputs": [],
   "source": [
    "longitud = len(TVTS_data)\n",
    "TVTS_indices_entrenamiento = np.random.choice(longitud, round(longitud * GLOBAL_SET_ENTRENAMIENTO), replace=False)\n",
    "TVTS_indices_prueba = np.array(list(set(range(longitud)) - set(TVTS_indices_entrenamiento)))"
   ]
  },
  {
   "cell_type": "markdown",
   "id": "47e83509",
   "metadata": {},
   "source": [
    "Datos prueba"
   ]
  },
  {
   "cell_type": "code",
   "execution_count": 8,
   "id": "4e48e3d6",
   "metadata": {},
   "outputs": [],
   "source": [
    "TVTS_data_prueba = TVTS_data.iloc[TVTS_indices_prueba,:].copy()\n",
    "TVTS_data_entrenamiento = TVTS_data.iloc[TVTS_indices_entrenamiento,:]"
   ]
  },
  {
   "cell_type": "markdown",
   "id": "51346c89",
   "metadata": {},
   "source": [
    "Indices de entrenamiento y validación"
   ]
  },
  {
   "cell_type": "code",
   "execution_count": 9,
   "id": "b22fb332",
   "metadata": {},
   "outputs": [],
   "source": [
    "longitud = len(TVTS_data_entrenamiento)\n",
    "TVTS_indices_validacion = np.random.choice(longitud, round(longitud * GLOBAL_SET_VALIDACION), replace=False)\n",
    "TVTS_indices_entrenamiento = np.array(list(set(range(longitud)) - set(TVTS_indices_validacion)))"
   ]
  },
  {
   "cell_type": "markdown",
   "id": "fc482dc2",
   "metadata": {},
   "source": [
    "Datos de entrenamiento y validación"
   ]
  },
  {
   "cell_type": "code",
   "execution_count": 10,
   "id": "c0977e39",
   "metadata": {},
   "outputs": [],
   "source": [
    "TVTS_data_validacion = TVTS_data_entrenamiento.iloc[TVTS_indices_validacion,:].copy()\n",
    "TVTS_data_entrenamiento = TVTS_data_entrenamiento.iloc[TVTS_indices_entrenamiento,:].copy()"
   ]
  },
  {
   "cell_type": "markdown",
   "id": "0818833b",
   "metadata": {},
   "source": [
    "Guardando CSV de datos de prueba"
   ]
  },
  {
   "cell_type": "code",
   "execution_count": 11,
   "id": "3dfda448",
   "metadata": {},
   "outputs": [],
   "source": [
    "TVTS_data_prueba.to_csv(\"TVTS_data_prueba.csv\", index=False)"
   ]
  },
  {
   "cell_type": "markdown",
   "id": "a9f9a7fe",
   "metadata": {},
   "source": [
    "Eliminación de variables con los datos de prueba:"
   ]
  },
  {
   "cell_type": "code",
   "execution_count": 12,
   "id": "9ae0e72a",
   "metadata": {},
   "outputs": [],
   "source": [
    "del TVTS_data_prueba\n",
    "del TVTS_data\n",
    "del GLOBAL_DATOS"
   ]
  },
  {
   "cell_type": "markdown",
   "id": "9101ee1f",
   "metadata": {},
   "source": [
    "## 2.2 Analisis exploratorio"
   ]
  },
  {
   "cell_type": "markdown",
   "id": "60347841",
   "metadata": {},
   "source": [
    "Los datos son los siguientes:"
   ]
  },
  {
   "cell_type": "code",
   "execution_count": 13,
   "id": "310b3335",
   "metadata": {},
   "outputs": [
    {
     "data": {
      "text/html": [
       "<div>\n",
       "<style scoped>\n",
       "    .dataframe tbody tr th:only-of-type {\n",
       "        vertical-align: middle;\n",
       "    }\n",
       "\n",
       "    .dataframe tbody tr th {\n",
       "        vertical-align: top;\n",
       "    }\n",
       "\n",
       "    .dataframe thead th {\n",
       "        text-align: right;\n",
       "    }\n",
       "</style>\n",
       "<table border=\"1\" class=\"dataframe\">\n",
       "  <thead>\n",
       "    <tr style=\"text-align: right;\">\n",
       "      <th></th>\n",
       "      <th>PassengerId</th>\n",
       "      <th>Name</th>\n",
       "      <th>Age</th>\n",
       "      <th>SibSp</th>\n",
       "      <th>Parch</th>\n",
       "      <th>Ticket</th>\n",
       "      <th>Fare</th>\n",
       "      <th>Cabin</th>\n",
       "      <th>Embarked</th>\n",
       "      <th>passenger_class</th>\n",
       "      <th>passenger_sex</th>\n",
       "      <th>passenger_survived</th>\n",
       "    </tr>\n",
       "  </thead>\n",
       "  <tbody>\n",
       "    <tr>\n",
       "      <th>770</th>\n",
       "      <td>771</td>\n",
       "      <td>Lievens, Mr. Rene Aime</td>\n",
       "      <td>24.00</td>\n",
       "      <td>0</td>\n",
       "      <td>0</td>\n",
       "      <td>345781</td>\n",
       "      <td>9.5000</td>\n",
       "      <td>NaN</td>\n",
       "      <td>S</td>\n",
       "      <td>Lower</td>\n",
       "      <td>M</td>\n",
       "      <td>N</td>\n",
       "    </tr>\n",
       "    <tr>\n",
       "      <th>178</th>\n",
       "      <td>179</td>\n",
       "      <td>Hale, Mr. Reginald</td>\n",
       "      <td>30.00</td>\n",
       "      <td>0</td>\n",
       "      <td>0</td>\n",
       "      <td>250653</td>\n",
       "      <td>13.0000</td>\n",
       "      <td>NaN</td>\n",
       "      <td>S</td>\n",
       "      <td>Middle</td>\n",
       "      <td>M</td>\n",
       "      <td>N</td>\n",
       "    </tr>\n",
       "    <tr>\n",
       "      <th>159</th>\n",
       "      <td>160</td>\n",
       "      <td>Sage, Master. Thomas Henry</td>\n",
       "      <td>NaN</td>\n",
       "      <td>8</td>\n",
       "      <td>2</td>\n",
       "      <td>CA. 2343</td>\n",
       "      <td>69.5500</td>\n",
       "      <td>NaN</td>\n",
       "      <td>S</td>\n",
       "      <td>Lower</td>\n",
       "      <td>M</td>\n",
       "      <td>N</td>\n",
       "    </tr>\n",
       "    <tr>\n",
       "      <th>656</th>\n",
       "      <td>657</td>\n",
       "      <td>Radeff, Mr. Alexander</td>\n",
       "      <td>NaN</td>\n",
       "      <td>0</td>\n",
       "      <td>0</td>\n",
       "      <td>349223</td>\n",
       "      <td>7.8958</td>\n",
       "      <td>NaN</td>\n",
       "      <td>S</td>\n",
       "      <td>Lower</td>\n",
       "      <td>M</td>\n",
       "      <td>N</td>\n",
       "    </tr>\n",
       "    <tr>\n",
       "      <th>471</th>\n",
       "      <td>472</td>\n",
       "      <td>Cacic, Mr. Luka</td>\n",
       "      <td>38.00</td>\n",
       "      <td>0</td>\n",
       "      <td>0</td>\n",
       "      <td>315089</td>\n",
       "      <td>8.6625</td>\n",
       "      <td>NaN</td>\n",
       "      <td>S</td>\n",
       "      <td>Lower</td>\n",
       "      <td>M</td>\n",
       "      <td>N</td>\n",
       "    </tr>\n",
       "    <tr>\n",
       "      <th>...</th>\n",
       "      <td>...</td>\n",
       "      <td>...</td>\n",
       "      <td>...</td>\n",
       "      <td>...</td>\n",
       "      <td>...</td>\n",
       "      <td>...</td>\n",
       "      <td>...</td>\n",
       "      <td>...</td>\n",
       "      <td>...</td>\n",
       "      <td>...</td>\n",
       "      <td>...</td>\n",
       "      <td>...</td>\n",
       "    </tr>\n",
       "    <tr>\n",
       "      <th>803</th>\n",
       "      <td>804</td>\n",
       "      <td>Thomas, Master. Assad Alexander</td>\n",
       "      <td>0.42</td>\n",
       "      <td>0</td>\n",
       "      <td>1</td>\n",
       "      <td>2625</td>\n",
       "      <td>8.5167</td>\n",
       "      <td>NaN</td>\n",
       "      <td>C</td>\n",
       "      <td>Lower</td>\n",
       "      <td>M</td>\n",
       "      <td>Y</td>\n",
       "    </tr>\n",
       "    <tr>\n",
       "      <th>445</th>\n",
       "      <td>446</td>\n",
       "      <td>Dodge, Master. Washington</td>\n",
       "      <td>4.00</td>\n",
       "      <td>0</td>\n",
       "      <td>2</td>\n",
       "      <td>33638</td>\n",
       "      <td>81.8583</td>\n",
       "      <td>A34</td>\n",
       "      <td>S</td>\n",
       "      <td>Upper</td>\n",
       "      <td>M</td>\n",
       "      <td>Y</td>\n",
       "    </tr>\n",
       "    <tr>\n",
       "      <th>365</th>\n",
       "      <td>366</td>\n",
       "      <td>Adahl, Mr. Mauritz Nils Martin</td>\n",
       "      <td>30.00</td>\n",
       "      <td>0</td>\n",
       "      <td>0</td>\n",
       "      <td>C 7076</td>\n",
       "      <td>7.2500</td>\n",
       "      <td>NaN</td>\n",
       "      <td>S</td>\n",
       "      <td>Lower</td>\n",
       "      <td>M</td>\n",
       "      <td>N</td>\n",
       "    </tr>\n",
       "    <tr>\n",
       "      <th>611</th>\n",
       "      <td>612</td>\n",
       "      <td>Jardin, Mr. Jose Neto</td>\n",
       "      <td>NaN</td>\n",
       "      <td>0</td>\n",
       "      <td>0</td>\n",
       "      <td>SOTON/O.Q. 3101305</td>\n",
       "      <td>7.0500</td>\n",
       "      <td>NaN</td>\n",
       "      <td>S</td>\n",
       "      <td>Lower</td>\n",
       "      <td>M</td>\n",
       "      <td>N</td>\n",
       "    </tr>\n",
       "    <tr>\n",
       "      <th>487</th>\n",
       "      <td>488</td>\n",
       "      <td>Kent, Mr. Edward Austin</td>\n",
       "      <td>58.00</td>\n",
       "      <td>0</td>\n",
       "      <td>0</td>\n",
       "      <td>11771</td>\n",
       "      <td>29.7000</td>\n",
       "      <td>B37</td>\n",
       "      <td>C</td>\n",
       "      <td>Upper</td>\n",
       "      <td>M</td>\n",
       "      <td>N</td>\n",
       "    </tr>\n",
       "  </tbody>\n",
       "</table>\n",
       "<p>570 rows × 12 columns</p>\n",
       "</div>"
      ],
      "text/plain": [
       "     PassengerId                             Name    Age  SibSp  Parch  \\\n",
       "770          771           Lievens, Mr. Rene Aime  24.00      0      0   \n",
       "178          179               Hale, Mr. Reginald  30.00      0      0   \n",
       "159          160       Sage, Master. Thomas Henry    NaN      8      2   \n",
       "656          657            Radeff, Mr. Alexander    NaN      0      0   \n",
       "471          472                  Cacic, Mr. Luka  38.00      0      0   \n",
       "..           ...                              ...    ...    ...    ...   \n",
       "803          804  Thomas, Master. Assad Alexander   0.42      0      1   \n",
       "445          446        Dodge, Master. Washington   4.00      0      2   \n",
       "365          366   Adahl, Mr. Mauritz Nils Martin  30.00      0      0   \n",
       "611          612            Jardin, Mr. Jose Neto    NaN      0      0   \n",
       "487          488          Kent, Mr. Edward Austin  58.00      0      0   \n",
       "\n",
       "                 Ticket     Fare Cabin Embarked passenger_class passenger_sex  \\\n",
       "770              345781   9.5000   NaN        S           Lower             M   \n",
       "178              250653  13.0000   NaN        S          Middle             M   \n",
       "159            CA. 2343  69.5500   NaN        S           Lower             M   \n",
       "656              349223   7.8958   NaN        S           Lower             M   \n",
       "471              315089   8.6625   NaN        S           Lower             M   \n",
       "..                  ...      ...   ...      ...             ...           ...   \n",
       "803                2625   8.5167   NaN        C           Lower             M   \n",
       "445               33638  81.8583   A34        S           Upper             M   \n",
       "365              C 7076   7.2500   NaN        S           Lower             M   \n",
       "611  SOTON/O.Q. 3101305   7.0500   NaN        S           Lower             M   \n",
       "487               11771  29.7000   B37        C           Upper             M   \n",
       "\n",
       "    passenger_survived  \n",
       "770                  N  \n",
       "178                  N  \n",
       "159                  N  \n",
       "656                  N  \n",
       "471                  N  \n",
       "..                 ...  \n",
       "803                  Y  \n",
       "445                  Y  \n",
       "365                  N  \n",
       "611                  N  \n",
       "487                  N  \n",
       "\n",
       "[570 rows x 12 columns]"
      ]
     },
     "execution_count": 13,
     "metadata": {},
     "output_type": "execute_result"
    }
   ],
   "source": [
    "AE_feature_engineering = TVTS_data_entrenamiento.copy()\n",
    "AE_feature_engineering"
   ]
  },
  {
   "cell_type": "markdown",
   "id": "5914dafa",
   "metadata": {},
   "source": [
    "### 2.2.1 Eliminación de características específicas"
   ]
  },
  {
   "cell_type": "markdown",
   "id": "1a0e9600",
   "metadata": {},
   "source": [
    "Se eliminará ID de pasajero \"passengerID\" y nombre."
   ]
  },
  {
   "cell_type": "code",
   "execution_count": 14,
   "id": "540dee7a",
   "metadata": {},
   "outputs": [],
   "source": [
    "del AE_feature_engineering[\"PassengerId\"]\n",
    "del AE_feature_engineering[\"Name\"]"
   ]
  },
  {
   "cell_type": "markdown",
   "id": "a4a50bd2",
   "metadata": {},
   "source": [
    "### 2.2.2 Imputación de datos faltantes"
   ]
  },
  {
   "cell_type": "markdown",
   "id": "6f433254",
   "metadata": {},
   "source": [
    "A continuación se listan la cantidad de registros en cada columna que tienen valores NAN:"
   ]
  },
  {
   "cell_type": "code",
   "execution_count": 15,
   "id": "14edcf5e",
   "metadata": {},
   "outputs": [
    {
     "name": "stdout",
     "output_type": "stream",
     "text": [
      "Age: 112\n",
      "Cabin: 445\n",
      "Embarked: 1\n"
     ]
    }
   ],
   "source": [
    "for col in AE_feature_engineering.columns:\n",
    "    AE_columnas_nan = AE_feature_engineering[col].isnull().sum().sum()\n",
    "    if(AE_columnas_nan>0):\n",
    "        print(col+\":\", AE_columnas_nan)"
   ]
  },
  {
   "cell_type": "markdown",
   "id": "f758cd97",
   "metadata": {},
   "source": [
    "#### 2.2.2.1 Analisis de densidad de la columna Year:"
   ]
  },
  {
   "cell_type": "code",
   "execution_count": 16,
   "id": "8506d37e",
   "metadata": {},
   "outputs": [
    {
     "data": {
      "image/png": "[encoded data removed]",
      "text/plain": [
       "<Figure size 1152x288 with 1 Axes>"
      ]
     },
     "metadata": {
      "needs_background": "light"
     },
     "output_type": "display_data"
    }
   ],
   "source": [
    "AE_age_nonan = AE_feature_engineering[\"Age\"].notnull()\n",
    "AE_feature_engineering[\"Age\"][AE_age_nonan].plot.density(color='green')\n",
    "plt.title('Density plot for Speeding')\n",
    "plt.show()"
   ]
  },
  {
   "cell_type": "markdown",
   "id": "29f036ba",
   "metadata": {},
   "source": [
    "Se utilizará un numero aleatorio utilizando una distribución normal. No se utilizará la media para no crear un outlayer:"
   ]
  },
  {
   "cell_type": "code",
   "execution_count": 17,
   "id": "3df1efe3",
   "metadata": {},
   "outputs": [],
   "source": [
    "AE_age_nan = AE_feature_engineering[\"Age\"].isnull()\n",
    "AE_age_mean = AE_feature_engineering[\"Age\"][AE_age_nonan].mean(axis=0)\n",
    "AE_age_std = AE_feature_engineering[\"Age\"][AE_age_nonan].std(axis=0)\n",
    "AE_age_random = np.random.normal(AE_age_mean, AE_age_std, sum(AE_age_nan))\n",
    "\n",
    "AE_feature_engineering.columns.get_loc(\"Age\")\n",
    "\n",
    "AE_feature_engineering.loc[AE_age_nan, \"Age\"] = AE_age_random"
   ]
  },
  {
   "cell_type": "markdown",
   "id": "7eb5de54",
   "metadata": {},
   "source": [
    "#### 2.2.2.2 Analisis de la columna categórica Cabin"
   ]
  },
  {
   "cell_type": "markdown",
   "id": "f063b4db",
   "metadata": {},
   "source": [
    "Porcentaje de datos faltantes:"
   ]
  },
  {
   "cell_type": "code",
   "execution_count": 18,
   "id": "c3736069",
   "metadata": {},
   "outputs": [
    {
     "name": "stdout",
     "output_type": "stream",
     "text": [
      "78.0701754385965\n"
     ]
    }
   ],
   "source": [
    "print(sum(AE_feature_engineering[\"Cabin\"].isnull())*100/len(AE_feature_engineering[\"Cabin\"]))"
   ]
  },
  {
   "cell_type": "markdown",
   "id": "2fe28f56",
   "metadata": {},
   "source": [
    "En el siguiente gráfico se visualiza la gráfica de densidad para Cabin:"
   ]
  },
  {
   "cell_type": "code",
   "execution_count": 19,
   "id": "420ab568",
   "metadata": {},
   "outputs": [
    {
     "data": {
      "text/plain": [
       "<AxesSubplot:>"
      ]
     },
     "execution_count": 19,
     "metadata": {},
     "output_type": "execute_result"
    },
    {
     "data": {
      "image/png": "[encoded data removed]",
      "text/plain": [
       "<Figure size 1152x288 with 1 Axes>"
      ]
     },
     "metadata": {
      "needs_background": "light"
     },
     "output_type": "display_data"
    }
   ],
   "source": [
    "AE_cabin_nonan = AE_feature_engineering[\"Cabin\"].notnull()\n",
    "AE_cabin_repitencia = AE_feature_engineering[\"Cabin\"][AE_cabin_nonan].value_counts()\n",
    "AE_cabin_repitencia.plot(kind='bar')"
   ]
  },
  {
   "cell_type": "markdown",
   "id": "665802e1",
   "metadata": {},
   "source": [
    "La reptiencia máxima de Cabin es 'G6', este valor aparece solo 4 veces. Es necesario considerar que solo se tienen 4 registros con est"
   ]
  },
  {
   "cell_type": "code",
   "execution_count": 20,
   "id": "b4d9db7f",
   "metadata": {},
   "outputs": [
    {
     "name": "stdout",
     "output_type": "stream",
     "text": [
      "Registros que se repiten 4 veces: 0.010752688172043012\n",
      "Registros que se repiten 3 veces: 0.03225806451612903\n",
      "Registros que se repiten 2 veces: 0.24731182795698925\n",
      "Registros que se repiten 1 vez: 0.7096774193548387\n"
     ]
    }
   ],
   "source": [
    "print(\"Registros que se repiten 4 veces:\", len(AE_cabin_repitencia[AE_cabin_repitencia==4])/len(AE_cabin_repitencia))\n",
    "print(\"Registros que se repiten 3 veces:\", len(AE_cabin_repitencia[AE_cabin_repitencia==3])/len(AE_cabin_repitencia))\n",
    "print(\"Registros que se repiten 2 veces:\", len(AE_cabin_repitencia[AE_cabin_repitencia==2])/len(AE_cabin_repitencia))\n",
    "print(\"Registros que se repiten 1 vez:\", len(AE_cabin_repitencia[AE_cabin_repitencia==1])/len(AE_cabin_repitencia))"
   ]
  },
  {
   "cell_type": "markdown",
   "id": "d30c281c",
   "metadata": {},
   "source": [
    "Para la columna Kabin se considera que no existe suficiente información para hacer imputación de datos. Se eliminará la columna."
   ]
  },
  {
   "cell_type": "code",
   "execution_count": 21,
   "id": "93ac5665",
   "metadata": {},
   "outputs": [],
   "source": [
    "del AE_feature_engineering[\"Cabin\"]"
   ]
  },
  {
   "cell_type": "markdown",
   "id": "43ed75a2",
   "metadata": {},
   "source": [
    "#### 2.2.2.3 Analisis de densidad de la columna Embarked:"
   ]
  },
  {
   "cell_type": "markdown",
   "id": "2289ac77",
   "metadata": {},
   "source": [
    "Existen pocos valores nan en la columna Embarked, a continuación se lista la repitencia de valores para esta columna:"
   ]
  },
  {
   "cell_type": "code",
   "execution_count": 22,
   "id": "a8f1f246",
   "metadata": {},
   "outputs": [
    {
     "data": {
      "text/plain": [
       "S    74\n",
       "C    46\n",
       "Q     4\n",
       "Name: Embarked, dtype: int64"
      ]
     },
     "execution_count": 22,
     "metadata": {},
     "output_type": "execute_result"
    }
   ],
   "source": [
    "AE_embarked_nonan = AE_feature_engineering[\"Embarked\"].notnull()\n",
    "AE_embarked_repitencia = AE_feature_engineering[\"Embarked\"][AE_cabin_nonan].value_counts()\n",
    "AE_embarked_repitencia"
   ]
  },
  {
   "cell_type": "markdown",
   "id": "efe26e9e",
   "metadata": {},
   "source": [
    "Se realizará imputación con el valor más repetido:"
   ]
  },
  {
   "cell_type": "code",
   "execution_count": 23,
   "id": "208b0a4b",
   "metadata": {},
   "outputs": [],
   "source": [
    "AE_embarked_mas_repetido = AE_embarked_repitencia[AE_embarked_repitencia==AE_embarked_repitencia[0]].axes[0].tolist()\n",
    "AE_embarked_nan = AE_feature_engineering[\"Embarked\"].isnull()\n",
    "AE_feature_engineering.loc[AE_embarked_nan, \"Embarked\"] = AE_embarked_mas_repetido"
   ]
  },
  {
   "cell_type": "markdown",
   "id": "bf80c59e",
   "metadata": {},
   "source": [
    "### 2.2.3 Codificación de variables categóricas"
   ]
  },
  {
   "cell_type": "markdown",
   "id": "cccd1908",
   "metadata": {},
   "source": [
    "El dataset hasta ahora es:"
   ]
  },
  {
   "cell_type": "code",
   "execution_count": 24,
   "id": "b4dfff0d",
   "metadata": {},
   "outputs": [
    {
     "data": {
      "text/html": [
       "<div>\n",
       "<style scoped>\n",
       "    .dataframe tbody tr th:only-of-type {\n",
       "        vertical-align: middle;\n",
       "    }\n",
       "\n",
       "    .dataframe tbody tr th {\n",
       "        vertical-align: top;\n",
       "    }\n",
       "\n",
       "    .dataframe thead th {\n",
       "        text-align: right;\n",
       "    }\n",
       "</style>\n",
       "<table border=\"1\" class=\"dataframe\">\n",
       "  <thead>\n",
       "    <tr style=\"text-align: right;\">\n",
       "      <th></th>\n",
       "      <th>Age</th>\n",
       "      <th>SibSp</th>\n",
       "      <th>Parch</th>\n",
       "      <th>Ticket</th>\n",
       "      <th>Fare</th>\n",
       "      <th>Embarked</th>\n",
       "      <th>passenger_class</th>\n",
       "      <th>passenger_sex</th>\n",
       "      <th>passenger_survived</th>\n",
       "    </tr>\n",
       "  </thead>\n",
       "  <tbody>\n",
       "    <tr>\n",
       "      <th>770</th>\n",
       "      <td>24.000000</td>\n",
       "      <td>0</td>\n",
       "      <td>0</td>\n",
       "      <td>345781</td>\n",
       "      <td>9.5000</td>\n",
       "      <td>S</td>\n",
       "      <td>Lower</td>\n",
       "      <td>M</td>\n",
       "      <td>N</td>\n",
       "    </tr>\n",
       "    <tr>\n",
       "      <th>178</th>\n",
       "      <td>30.000000</td>\n",
       "      <td>0</td>\n",
       "      <td>0</td>\n",
       "      <td>250653</td>\n",
       "      <td>13.0000</td>\n",
       "      <td>S</td>\n",
       "      <td>Middle</td>\n",
       "      <td>M</td>\n",
       "      <td>N</td>\n",
       "    </tr>\n",
       "    <tr>\n",
       "      <th>159</th>\n",
       "      <td>38.841137</td>\n",
       "      <td>8</td>\n",
       "      <td>2</td>\n",
       "      <td>CA. 2343</td>\n",
       "      <td>69.5500</td>\n",
       "      <td>S</td>\n",
       "      <td>Lower</td>\n",
       "      <td>M</td>\n",
       "      <td>N</td>\n",
       "    </tr>\n",
       "    <tr>\n",
       "      <th>656</th>\n",
       "      <td>36.479933</td>\n",
       "      <td>0</td>\n",
       "      <td>0</td>\n",
       "      <td>349223</td>\n",
       "      <td>7.8958</td>\n",
       "      <td>S</td>\n",
       "      <td>Lower</td>\n",
       "      <td>M</td>\n",
       "      <td>N</td>\n",
       "    </tr>\n",
       "    <tr>\n",
       "      <th>471</th>\n",
       "      <td>38.000000</td>\n",
       "      <td>0</td>\n",
       "      <td>0</td>\n",
       "      <td>315089</td>\n",
       "      <td>8.6625</td>\n",
       "      <td>S</td>\n",
       "      <td>Lower</td>\n",
       "      <td>M</td>\n",
       "      <td>N</td>\n",
       "    </tr>\n",
       "    <tr>\n",
       "      <th>...</th>\n",
       "      <td>...</td>\n",
       "      <td>...</td>\n",
       "      <td>...</td>\n",
       "      <td>...</td>\n",
       "      <td>...</td>\n",
       "      <td>...</td>\n",
       "      <td>...</td>\n",
       "      <td>...</td>\n",
       "      <td>...</td>\n",
       "    </tr>\n",
       "    <tr>\n",
       "      <th>803</th>\n",
       "      <td>0.420000</td>\n",
       "      <td>0</td>\n",
       "      <td>1</td>\n",
       "      <td>2625</td>\n",
       "      <td>8.5167</td>\n",
       "      <td>C</td>\n",
       "      <td>Lower</td>\n",
       "      <td>M</td>\n",
       "      <td>Y</td>\n",
       "    </tr>\n",
       "    <tr>\n",
       "      <th>445</th>\n",
       "      <td>4.000000</td>\n",
       "      <td>0</td>\n",
       "      <td>2</td>\n",
       "      <td>33638</td>\n",
       "      <td>81.8583</td>\n",
       "      <td>S</td>\n",
       "      <td>Upper</td>\n",
       "      <td>M</td>\n",
       "      <td>Y</td>\n",
       "    </tr>\n",
       "    <tr>\n",
       "      <th>365</th>\n",
       "      <td>30.000000</td>\n",
       "      <td>0</td>\n",
       "      <td>0</td>\n",
       "      <td>C 7076</td>\n",
       "      <td>7.2500</td>\n",
       "      <td>S</td>\n",
       "      <td>Lower</td>\n",
       "      <td>M</td>\n",
       "      <td>N</td>\n",
       "    </tr>\n",
       "    <tr>\n",
       "      <th>611</th>\n",
       "      <td>36.444048</td>\n",
       "      <td>0</td>\n",
       "      <td>0</td>\n",
       "      <td>SOTON/O.Q. 3101305</td>\n",
       "      <td>7.0500</td>\n",
       "      <td>S</td>\n",
       "      <td>Lower</td>\n",
       "      <td>M</td>\n",
       "      <td>N</td>\n",
       "    </tr>\n",
       "    <tr>\n",
       "      <th>487</th>\n",
       "      <td>58.000000</td>\n",
       "      <td>0</td>\n",
       "      <td>0</td>\n",
       "      <td>11771</td>\n",
       "      <td>29.7000</td>\n",
       "      <td>C</td>\n",
       "      <td>Upper</td>\n",
       "      <td>M</td>\n",
       "      <td>N</td>\n",
       "    </tr>\n",
       "  </tbody>\n",
       "</table>\n",
       "<p>570 rows × 9 columns</p>\n",
       "</div>"
      ],
      "text/plain": [
       "           Age  SibSp  Parch              Ticket     Fare Embarked  \\\n",
       "770  24.000000      0      0              345781   9.5000        S   \n",
       "178  30.000000      0      0              250653  13.0000        S   \n",
       "159  38.841137      8      2            CA. 2343  69.5500        S   \n",
       "656  36.479933      0      0              349223   7.8958        S   \n",
       "471  38.000000      0      0              315089   8.6625        S   \n",
       "..         ...    ...    ...                 ...      ...      ...   \n",
       "803   0.420000      0      1                2625   8.5167        C   \n",
       "445   4.000000      0      2               33638  81.8583        S   \n",
       "365  30.000000      0      0              C 7076   7.2500        S   \n",
       "611  36.444048      0      0  SOTON/O.Q. 3101305   7.0500        S   \n",
       "487  58.000000      0      0               11771  29.7000        C   \n",
       "\n",
       "    passenger_class passenger_sex passenger_survived  \n",
       "770           Lower             M                  N  \n",
       "178          Middle             M                  N  \n",
       "159           Lower             M                  N  \n",
       "656           Lower             M                  N  \n",
       "471           Lower             M                  N  \n",
       "..              ...           ...                ...  \n",
       "803           Lower             M                  Y  \n",
       "445           Upper             M                  Y  \n",
       "365           Lower             M                  N  \n",
       "611           Lower             M                  N  \n",
       "487           Upper             M                  N  \n",
       "\n",
       "[570 rows x 9 columns]"
      ]
     },
     "execution_count": 24,
     "metadata": {},
     "output_type": "execute_result"
    }
   ],
   "source": [
    "AE_feature_engineering"
   ]
  },
  {
   "cell_type": "markdown",
   "id": "caf7c409",
   "metadata": {},
   "source": [
    "#### 2.2.3.1 Columna Ticket"
   ]
  },
  {
   "cell_type": "markdown",
   "id": "137bdb39",
   "metadata": {},
   "source": [
    "A continuación se muestra la repetición de cada valor único:"
   ]
  },
  {
   "cell_type": "code",
   "execution_count": 25,
   "id": "c4c2f7c4",
   "metadata": {},
   "outputs": [
    {
     "data": {
      "text/plain": [
       "CA. 2343        5\n",
       "1601            5\n",
       "CA 2144         5\n",
       "3101295         5\n",
       "S.O.C. 14879    5\n",
       "               ..\n",
       "363592          1\n",
       "24160           1\n",
       "C.A. 6212       1\n",
       "248747          1\n",
       "11771           1\n",
       "Name: Ticket, Length: 468, dtype: int64"
      ]
     },
     "execution_count": 25,
     "metadata": {},
     "output_type": "execute_result"
    }
   ],
   "source": [
    "AE_feature_engineering.Ticket.value_counts()"
   ]
  },
  {
   "cell_type": "markdown",
   "id": "3a3ecede",
   "metadata": {},
   "source": [
    "La columna ticket será reemplazada según su repetición."
   ]
  },
  {
   "cell_type": "code",
   "execution_count": 26,
   "id": "c64a593c",
   "metadata": {},
   "outputs": [],
   "source": [
    "AE_valores_Ticket = AE_feature_engineering.Ticket.value_counts().axes[0].tolist()\n",
    "AE_repitencia_Ticket = np.array(AE_feature_engineering.Ticket.value_counts())\n",
    "AE_feature_engineering['Ticket'].replace(AE_valores_Ticket, AE_repitencia_Ticket, inplace=True)"
   ]
  },
  {
   "cell_type": "markdown",
   "id": "488832c1",
   "metadata": {},
   "source": [
    "#### 2.2.3.2 Columna Embarked"
   ]
  },
  {
   "cell_type": "markdown",
   "id": "182ba672",
   "metadata": {},
   "source": [
    "A continuación se muestra la repetición de cada valor único:"
   ]
  },
  {
   "cell_type": "code",
   "execution_count": 27,
   "id": "eb12cdb7",
   "metadata": {},
   "outputs": [
    {
     "data": {
      "text/plain": [
       "S    406\n",
       "C    106\n",
       "Q     58\n",
       "Name: Embarked, dtype: int64"
      ]
     },
     "execution_count": 27,
     "metadata": {},
     "output_type": "execute_result"
    }
   ],
   "source": [
    "AE_feature_engineering.Embarked.value_counts()"
   ]
  },
  {
   "cell_type": "markdown",
   "id": "56c8e4bd",
   "metadata": {},
   "source": [
    "La columna ticket será reemplazada utilizando one hot encoding."
   ]
  },
  {
   "cell_type": "code",
   "execution_count": 28,
   "id": "b73b9bb1",
   "metadata": {},
   "outputs": [],
   "source": [
    "AE_Embarked_OHE = pd.get_dummies(AE_feature_engineering.Embarked, prefix=\"Embarked\")\n",
    "AE_feature_engineering = pd.concat([AE_feature_engineering, AE_Embarked_OHE], axis=1)\n",
    "del AE_feature_engineering[\"Embarked\"]"
   ]
  },
  {
   "cell_type": "markdown",
   "id": "00ad54b0",
   "metadata": {},
   "source": [
    "#### 2.2.3.3 Columna passenger_class"
   ]
  },
  {
   "cell_type": "markdown",
   "id": "2eeaffd6",
   "metadata": {},
   "source": [
    "A continuación se muestra la repetición de cada valor único:"
   ]
  },
  {
   "cell_type": "code",
   "execution_count": 29,
   "id": "88cf2f05",
   "metadata": {},
   "outputs": [
    {
     "data": {
      "text/plain": [
       "Lower     314\n",
       "Upper     132\n",
       "Middle    124\n",
       "Name: passenger_class, dtype: int64"
      ]
     },
     "execution_count": 29,
     "metadata": {},
     "output_type": "execute_result"
    }
   ],
   "source": [
    "AE_feature_engineering.passenger_class.value_counts()"
   ]
  },
  {
   "cell_type": "markdown",
   "id": "7256a9c7",
   "metadata": {},
   "source": [
    "La columna ticket será reemplazada utilizando one hot encoding."
   ]
  },
  {
   "cell_type": "code",
   "execution_count": 30,
   "id": "fc305b03",
   "metadata": {},
   "outputs": [],
   "source": [
    "AE_passenger_class_OHE = pd.get_dummies(AE_feature_engineering.passenger_class, prefix=\"passenger_class\")\n",
    "AE_feature_engineering = pd.concat([AE_feature_engineering, AE_passenger_class_OHE], axis=1)\n",
    "del AE_feature_engineering[\"passenger_class\"]"
   ]
  },
  {
   "cell_type": "markdown",
   "id": "1e4d9169",
   "metadata": {},
   "source": [
    "#### 2.2.3.3 Columna passenger_sex"
   ]
  },
  {
   "cell_type": "markdown",
   "id": "61ae4967",
   "metadata": {},
   "source": [
    "A continuación se muestra la repetición de cada valor único:"
   ]
  },
  {
   "cell_type": "code",
   "execution_count": 31,
   "id": "bb0a8654",
   "metadata": {},
   "outputs": [
    {
     "data": {
      "text/plain": [
       "M    375\n",
       "F    195\n",
       "Name: passenger_sex, dtype: int64"
      ]
     },
     "execution_count": 31,
     "metadata": {},
     "output_type": "execute_result"
    }
   ],
   "source": [
    "AE_feature_engineering.passenger_sex.value_counts()"
   ]
  },
  {
   "cell_type": "markdown",
   "id": "fb55a48c",
   "metadata": {},
   "source": [
    "Al ser una variable binaria, se representará de la siguiente forma: 1 = es hombre, 0 es mujer."
   ]
  },
  {
   "cell_type": "code",
   "execution_count": 32,
   "id": "a65e4cd7",
   "metadata": {},
   "outputs": [],
   "source": [
    "AE_sexo = AE_feature_engineering[\"passenger_sex\"] == \"M\"\n",
    "AE_feature_engineering[\"passenger_sex\"] = AE_sexo.astype('int')"
   ]
  },
  {
   "cell_type": "markdown",
   "id": "3d5c9f4b",
   "metadata": {},
   "source": [
    "#### 2.2.3.3 Columna passenger_survived"
   ]
  },
  {
   "cell_type": "markdown",
   "id": "c9b03310",
   "metadata": {},
   "source": [
    "A continuación se muestra la repetición de cada valor único:"
   ]
  },
  {
   "cell_type": "code",
   "execution_count": 33,
   "id": "4d1f7452",
   "metadata": {},
   "outputs": [
    {
     "data": {
      "text/plain": [
       "N    349\n",
       "Y    221\n",
       "Name: passenger_survived, dtype: int64"
      ]
     },
     "execution_count": 33,
     "metadata": {},
     "output_type": "execute_result"
    }
   ],
   "source": [
    "AE_feature_engineering.passenger_survived.value_counts()"
   ]
  },
  {
   "cell_type": "markdown",
   "id": "69384fea",
   "metadata": {},
   "source": [
    "Esta es la variable que se debe predecir en el modelo con clasificación binaria, se utilizará 1 = Y (sobrevivió) y 0 = N (no sobrevivió)."
   ]
  },
  {
   "cell_type": "code",
   "execution_count": 34,
   "id": "3b538dfa",
   "metadata": {},
   "outputs": [],
   "source": [
    "AE_sobrevivio = AE_feature_engineering[\"passenger_survived\"] == \"Y\""
   ]
  },
  {
   "cell_type": "markdown",
   "id": "a35baa45",
   "metadata": {},
   "source": [
    "### 2.2.4 Tratamiento de Outliers"
   ]
  },
  {
   "cell_type": "markdown",
   "id": "e62bde89",
   "metadata": {},
   "source": [
    "#### 2.2.4.1 Función para outliers"
   ]
  },
  {
   "cell_type": "markdown",
   "id": "91958039",
   "metadata": {},
   "source": [
    "Función para tratar outlayers"
   ]
  },
  {
   "cell_type": "code",
   "execution_count": 35,
   "id": "2188c8cc",
   "metadata": {},
   "outputs": [],
   "source": [
    "def AE_tratamiento_outlier(AE_dataframe, AE_columnas):\n",
    "    AE_parametros_outliers = pd.DataFrame()\n",
    "    for AE_columna in AE_columnas:\n",
    "        AE_quartiles = np.array( AE_dataframe[AE_columna].quantile([.25, .5, .75]) )\n",
    "        AE_irq = AE_quartiles[2] - AE_quartiles[0]\n",
    "        AE_limite_inferior = AE_quartiles[0] - AE_irq*1.5\n",
    "        AE_limite_superior = AE_quartiles[2] + AE_irq*1.5\n",
    "        AE_mean_to = AE_dataframe[AE_columna].mean(axis=0)\n",
    "        AE_median_to = AE_dataframe[AE_columna].median(axis=0)\n",
    "        \n",
    "        AE_parametros_outliers = pd.concat([\n",
    "            AE_parametros_outliers, \n",
    "            pd.DataFrame(data = {\n",
    "                \"columna\": [AE_columna],\n",
    "                \"limite_inferior\": [AE_limite_inferior], \n",
    "                \"limite_superior\": [AE_limite_superior], \n",
    "                \"mean\": [AE_mean_to], \n",
    "                \"median\": [AE_median_to]\n",
    "            })\n",
    "        ], ignore_index=True)\n",
    "        \n",
    "        AE_dataframe.loc[ AE_dataframe[AE_columna] <  AE_limite_inferior, AE_columna ] = AE_mean_to\n",
    "        AE_dataframe.loc[ AE_dataframe[AE_columna] >  AE_limite_superior, AE_columna ] = AE_median_to\n",
    "    return AE_parametros_outliers"
   ]
  },
  {
   "cell_type": "markdown",
   "id": "362f2ee6",
   "metadata": {},
   "source": [
    "#### 2.2.4.2 Gráfica BoxPlot"
   ]
  },
  {
   "cell_type": "markdown",
   "id": "27ebc1e0",
   "metadata": {},
   "source": [
    "Gráficando BoxPlot para ver los outliers de las variables que no son one hot encoding:"
   ]
  },
  {
   "cell_type": "code",
   "execution_count": 36,
   "id": "2c4481ac",
   "metadata": {},
   "outputs": [
    {
     "data": {
      "text/plain": [
       "<AxesSubplot:>"
      ]
     },
     "execution_count": 36,
     "metadata": {},
     "output_type": "execute_result"
    },
    {
     "data": {
      "image/png": "[encoded data removed]",
      "text/plain": [
       "<Figure size 1152x288 with 1 Axes>"
      ]
     },
     "metadata": {
      "needs_background": "light"
     },
     "output_type": "display_data"
    }
   ],
   "source": [
    "AE_feature_engineering.boxplot(column=['Age']) "
   ]
  },
  {
   "cell_type": "code",
   "execution_count": 37,
   "id": "422cf569",
   "metadata": {},
   "outputs": [
    {
     "data": {
      "text/plain": [
       "<AxesSubplot:>"
      ]
     },
     "execution_count": 37,
     "metadata": {},
     "output_type": "execute_result"
    },
    {
     "data": {
      "image/png": "[encoded data removed]",
      "text/plain": [
       "<Figure size 1152x288 with 1 Axes>"
      ]
     },
     "metadata": {
      "needs_background": "light"
     },
     "output_type": "display_data"
    }
   ],
   "source": [
    "AE_feature_engineering.boxplot(column=['SibSp']) "
   ]
  },
  {
   "cell_type": "code",
   "execution_count": 38,
   "id": "fd88daa9",
   "metadata": {},
   "outputs": [
    {
     "data": {
      "text/plain": [
       "<AxesSubplot:>"
      ]
     },
     "execution_count": 38,
     "metadata": {},
     "output_type": "execute_result"
    },
    {
     "data": {
      "image/png": "[encoded data removed]",
      "text/plain": [
       "<Figure size 1152x288 with 1 Axes>"
      ]
     },
     "metadata": {
      "needs_background": "light"
     },
     "output_type": "display_data"
    }
   ],
   "source": [
    "AE_feature_engineering.boxplot(column=['Parch']) "
   ]
  },
  {
   "cell_type": "code",
   "execution_count": 39,
   "id": "68e4c4cb",
   "metadata": {},
   "outputs": [
    {
     "data": {
      "text/plain": [
       "<AxesSubplot:>"
      ]
     },
     "execution_count": 39,
     "metadata": {},
     "output_type": "execute_result"
    },
    {
     "data": {
      "image/png": "[encoded data removed]",
      "text/plain": [
       "<Figure size 1152x288 with 1 Axes>"
      ]
     },
     "metadata": {
      "needs_background": "light"
     },
     "output_type": "display_data"
    }
   ],
   "source": [
    "AE_feature_engineering.boxplot(column=['Fare']) "
   ]
  },
  {
   "cell_type": "markdown",
   "id": "b28a69a0",
   "metadata": {},
   "source": [
    "#### 2.2.4.3 Eliminando outliers"
   ]
  },
  {
   "cell_type": "code",
   "execution_count": 40,
   "id": "65f86d54",
   "metadata": {},
   "outputs": [],
   "source": [
    "AE_parametros_outliers = AE_tratamiento_outlier(AE_feature_engineering, ['Fare','Parch','SibSp', 'Age']) "
   ]
  },
  {
   "cell_type": "markdown",
   "id": "484be70e",
   "metadata": {},
   "source": [
    "Parametros para tratamiento de outliers obtenidos:"
   ]
  },
  {
   "cell_type": "code",
   "execution_count": 41,
   "id": "20362ca9",
   "metadata": {},
   "outputs": [
    {
     "data": {
      "text/html": [
       "<div>\n",
       "<style scoped>\n",
       "    .dataframe tbody tr th:only-of-type {\n",
       "        vertical-align: middle;\n",
       "    }\n",
       "\n",
       "    .dataframe tbody tr th {\n",
       "        vertical-align: top;\n",
       "    }\n",
       "\n",
       "    .dataframe thead th {\n",
       "        text-align: right;\n",
       "    }\n",
       "</style>\n",
       "<table border=\"1\" class=\"dataframe\">\n",
       "  <thead>\n",
       "    <tr style=\"text-align: right;\">\n",
       "      <th></th>\n",
       "      <th>columna</th>\n",
       "      <th>limite_inferior</th>\n",
       "      <th>limite_superior</th>\n",
       "      <th>mean</th>\n",
       "      <th>median</th>\n",
       "    </tr>\n",
       "  </thead>\n",
       "  <tbody>\n",
       "    <tr>\n",
       "      <th>0</th>\n",
       "      <td>Fare</td>\n",
       "      <td>-26.760500</td>\n",
       "      <td>65.656300</td>\n",
       "      <td>31.695533</td>\n",
       "      <td>14.427100</td>\n",
       "    </tr>\n",
       "    <tr>\n",
       "      <th>1</th>\n",
       "      <td>Parch</td>\n",
       "      <td>0.000000</td>\n",
       "      <td>0.000000</td>\n",
       "      <td>0.387719</td>\n",
       "      <td>0.000000</td>\n",
       "    </tr>\n",
       "    <tr>\n",
       "      <th>2</th>\n",
       "      <td>SibSp</td>\n",
       "      <td>-1.500000</td>\n",
       "      <td>2.500000</td>\n",
       "      <td>0.538596</td>\n",
       "      <td>0.000000</td>\n",
       "    </tr>\n",
       "    <tr>\n",
       "      <th>3</th>\n",
       "      <td>Age</td>\n",
       "      <td>-7.386288</td>\n",
       "      <td>66.228617</td>\n",
       "      <td>29.849566</td>\n",
       "      <td>28.989187</td>\n",
       "    </tr>\n",
       "  </tbody>\n",
       "</table>\n",
       "</div>"
      ],
      "text/plain": [
       "  columna  limite_inferior  limite_superior       mean     median\n",
       "0    Fare       -26.760500        65.656300  31.695533  14.427100\n",
       "1   Parch         0.000000         0.000000   0.387719   0.000000\n",
       "2   SibSp        -1.500000         2.500000   0.538596   0.000000\n",
       "3     Age        -7.386288        66.228617  29.849566  28.989187"
      ]
     },
     "execution_count": 41,
     "metadata": {},
     "output_type": "execute_result"
    }
   ],
   "source": [
    "AE_parametros_outliers"
   ]
  },
  {
   "cell_type": "markdown",
   "id": "44e0638b",
   "metadata": {},
   "source": [
    "Es posible ver cómo el límite inferior y superior de la columna Parch es 0. Esta columna no contiene información que sea de valor para el modelo. Se eliminará."
   ]
  },
  {
   "cell_type": "code",
   "execution_count": 42,
   "id": "f1bffeb2",
   "metadata": {},
   "outputs": [],
   "source": [
    "del AE_feature_engineering[\"Parch\"]"
   ]
  },
  {
   "cell_type": "markdown",
   "id": "6878387b",
   "metadata": {},
   "source": [
    "### 2.2.4 Featuring scaling"
   ]
  },
  {
   "cell_type": "markdown",
   "id": "11a858a7",
   "metadata": {},
   "source": [
    "Antes de normalizar lso datos se creará una gráfica de densidad para cada columna:"
   ]
  },
  {
   "cell_type": "code",
   "execution_count": 43,
   "id": "4ccf91e9",
   "metadata": {},
   "outputs": [
    {
     "data": {
      "image/png": "[encoded data removed]",
      "text/plain": [
       "<Figure size 1152x288 with 1 Axes>"
      ]
     },
     "metadata": {
      "needs_background": "light"
     },
     "output_type": "display_data"
    }
   ],
   "source": [
    "colors = \"bgrcmykwbgrcmy\"\n",
    "index=0\n",
    "for col in AE_feature_engineering.columns:\n",
    "    if(col!=\"passenger_survived\"):\n",
    "        AE_feature_engineering[col].plot.density(color=colors[index]) \n",
    "    index+=1 \n",
    "plt.title('Gráfica de densidad') \n",
    "plt.show()"
   ]
  },
  {
   "cell_type": "markdown",
   "id": "6c028030",
   "metadata": {},
   "source": [
    "Estadísticos:"
   ]
  },
  {
   "cell_type": "code",
   "execution_count": 44,
   "id": "29f90de8",
   "metadata": {
    "scrolled": true
   },
   "outputs": [
    {
     "data": {
      "text/html": [
       "<div>\n",
       "<style scoped>\n",
       "    .dataframe tbody tr th:only-of-type {\n",
       "        vertical-align: middle;\n",
       "    }\n",
       "\n",
       "    .dataframe tbody tr th {\n",
       "        vertical-align: top;\n",
       "    }\n",
       "\n",
       "    .dataframe thead th {\n",
       "        text-align: right;\n",
       "    }\n",
       "</style>\n",
       "<table border=\"1\" class=\"dataframe\">\n",
       "  <thead>\n",
       "    <tr style=\"text-align: right;\">\n",
       "      <th></th>\n",
       "      <th>Age</th>\n",
       "      <th>SibSp</th>\n",
       "      <th>Ticket</th>\n",
       "      <th>Fare</th>\n",
       "      <th>passenger_sex</th>\n",
       "      <th>Embarked_C</th>\n",
       "      <th>Embarked_Q</th>\n",
       "      <th>Embarked_S</th>\n",
       "      <th>passenger_class_Lower</th>\n",
       "      <th>passenger_class_Middle</th>\n",
       "      <th>passenger_class_Upper</th>\n",
       "    </tr>\n",
       "  </thead>\n",
       "  <tbody>\n",
       "    <tr>\n",
       "      <th>mean</th>\n",
       "      <td>29.464296</td>\n",
       "      <td>0.301754</td>\n",
       "      <td>1.533333</td>\n",
       "      <td>17.062253</td>\n",
       "      <td>0.657895</td>\n",
       "      <td>0.185965</td>\n",
       "      <td>0.101754</td>\n",
       "      <td>0.712281</td>\n",
       "      <td>0.550877</td>\n",
       "      <td>0.217544</td>\n",
       "      <td>0.231579</td>\n",
       "    </tr>\n",
       "    <tr>\n",
       "      <th>std</th>\n",
       "      <td>14.109149</td>\n",
       "      <td>0.530441</td>\n",
       "      <td>1.004267</td>\n",
       "      <td>12.508324</td>\n",
       "      <td>0.474831</td>\n",
       "      <td>0.389420</td>\n",
       "      <td>0.302591</td>\n",
       "      <td>0.453097</td>\n",
       "      <td>0.497842</td>\n",
       "      <td>0.412938</td>\n",
       "      <td>0.422212</td>\n",
       "    </tr>\n",
       "  </tbody>\n",
       "</table>\n",
       "</div>"
      ],
      "text/plain": [
       "            Age     SibSp    Ticket       Fare  passenger_sex  Embarked_C  \\\n",
       "mean  29.464296  0.301754  1.533333  17.062253       0.657895    0.185965   \n",
       "std   14.109149  0.530441  1.004267  12.508324       0.474831    0.389420   \n",
       "\n",
       "      Embarked_Q  Embarked_S  passenger_class_Lower  passenger_class_Middle  \\\n",
       "mean    0.101754    0.712281               0.550877                0.217544   \n",
       "std     0.302591    0.453097               0.497842                0.412938   \n",
       "\n",
       "      passenger_class_Upper  \n",
       "mean               0.231579  \n",
       "std                0.422212  "
      ]
     },
     "execution_count": 44,
     "metadata": {},
     "output_type": "execute_result"
    }
   ],
   "source": [
    "AE_statistics = AE_feature_engineering.describe()\n",
    "AE_statistics = pd.concat([AE_statistics.loc[\"mean\",:], AE_statistics.loc[\"std\",:]], axis=1).transpose()\n",
    "AE_statistics"
   ]
  },
  {
   "cell_type": "markdown",
   "id": "31cf6b01",
   "metadata": {},
   "source": [
    "Normalizando:"
   ]
  },
  {
   "cell_type": "code",
   "execution_count": 45,
   "id": "65ad36c1",
   "metadata": {},
   "outputs": [
    {
     "data": {
      "text/html": [
       "<div>\n",
       "<style scoped>\n",
       "    .dataframe tbody tr th:only-of-type {\n",
       "        vertical-align: middle;\n",
       "    }\n",
       "\n",
       "    .dataframe tbody tr th {\n",
       "        vertical-align: top;\n",
       "    }\n",
       "\n",
       "    .dataframe thead th {\n",
       "        text-align: right;\n",
       "    }\n",
       "</style>\n",
       "<table border=\"1\" class=\"dataframe\">\n",
       "  <thead>\n",
       "    <tr style=\"text-align: right;\">\n",
       "      <th></th>\n",
       "      <th>Age</th>\n",
       "      <th>SibSp</th>\n",
       "      <th>Ticket</th>\n",
       "      <th>Fare</th>\n",
       "      <th>passenger_sex</th>\n",
       "      <th>Embarked_C</th>\n",
       "      <th>Embarked_Q</th>\n",
       "      <th>Embarked_S</th>\n",
       "      <th>passenger_class_Lower</th>\n",
       "      <th>passenger_class_Middle</th>\n",
       "      <th>passenger_class_Upper</th>\n",
       "      <th>passenger_survived</th>\n",
       "    </tr>\n",
       "  </thead>\n",
       "  <tbody>\n",
       "    <tr>\n",
       "      <th>770</th>\n",
       "      <td>-0.387287</td>\n",
       "      <td>-0.568874</td>\n",
       "      <td>-0.531067</td>\n",
       "      <td>-0.604578</td>\n",
       "      <td>0.720477</td>\n",
       "      <td>-0.477543</td>\n",
       "      <td>-0.336277</td>\n",
       "      <td>0.635006</td>\n",
       "      <td>0.902140</td>\n",
       "      <td>-0.526820</td>\n",
       "      <td>-0.548490</td>\n",
       "      <td>0</td>\n",
       "    </tr>\n",
       "    <tr>\n",
       "      <th>178</th>\n",
       "      <td>0.037969</td>\n",
       "      <td>-0.568874</td>\n",
       "      <td>-0.531067</td>\n",
       "      <td>-0.324764</td>\n",
       "      <td>0.720477</td>\n",
       "      <td>-0.477543</td>\n",
       "      <td>-0.336277</td>\n",
       "      <td>0.635006</td>\n",
       "      <td>-1.106531</td>\n",
       "      <td>1.894852</td>\n",
       "      <td>-0.548490</td>\n",
       "      <td>0</td>\n",
       "    </tr>\n",
       "    <tr>\n",
       "      <th>159</th>\n",
       "      <td>0.664593</td>\n",
       "      <td>-0.568874</td>\n",
       "      <td>3.451936</td>\n",
       "      <td>-0.210672</td>\n",
       "      <td>0.720477</td>\n",
       "      <td>-0.477543</td>\n",
       "      <td>-0.336277</td>\n",
       "      <td>0.635006</td>\n",
       "      <td>0.902140</td>\n",
       "      <td>-0.526820</td>\n",
       "      <td>-0.548490</td>\n",
       "      <td>0</td>\n",
       "    </tr>\n",
       "    <tr>\n",
       "      <th>656</th>\n",
       "      <td>0.497240</td>\n",
       "      <td>-0.568874</td>\n",
       "      <td>-0.531067</td>\n",
       "      <td>-0.732828</td>\n",
       "      <td>0.720477</td>\n",
       "      <td>-0.477543</td>\n",
       "      <td>-0.336277</td>\n",
       "      <td>0.635006</td>\n",
       "      <td>0.902140</td>\n",
       "      <td>-0.526820</td>\n",
       "      <td>-0.548490</td>\n",
       "      <td>0</td>\n",
       "    </tr>\n",
       "    <tr>\n",
       "      <th>471</th>\n",
       "      <td>0.604977</td>\n",
       "      <td>-0.568874</td>\n",
       "      <td>-0.531067</td>\n",
       "      <td>-0.671533</td>\n",
       "      <td>0.720477</td>\n",
       "      <td>-0.477543</td>\n",
       "      <td>-0.336277</td>\n",
       "      <td>0.635006</td>\n",
       "      <td>0.902140</td>\n",
       "      <td>-0.526820</td>\n",
       "      <td>-0.548490</td>\n",
       "      <td>0</td>\n",
       "    </tr>\n",
       "    <tr>\n",
       "      <th>...</th>\n",
       "      <td>...</td>\n",
       "      <td>...</td>\n",
       "      <td>...</td>\n",
       "      <td>...</td>\n",
       "      <td>...</td>\n",
       "      <td>...</td>\n",
       "      <td>...</td>\n",
       "      <td>...</td>\n",
       "      <td>...</td>\n",
       "      <td>...</td>\n",
       "      <td>...</td>\n",
       "      <td>...</td>\n",
       "    </tr>\n",
       "    <tr>\n",
       "      <th>803</th>\n",
       "      <td>-2.058543</td>\n",
       "      <td>-0.568874</td>\n",
       "      <td>-0.531067</td>\n",
       "      <td>-0.683189</td>\n",
       "      <td>0.720477</td>\n",
       "      <td>2.090378</td>\n",
       "      <td>-0.336277</td>\n",
       "      <td>-1.572026</td>\n",
       "      <td>0.902140</td>\n",
       "      <td>-0.526820</td>\n",
       "      <td>-0.548490</td>\n",
       "      <td>1</td>\n",
       "    </tr>\n",
       "    <tr>\n",
       "      <th>445</th>\n",
       "      <td>-1.804807</td>\n",
       "      <td>-0.568874</td>\n",
       "      <td>-0.531067</td>\n",
       "      <td>-0.210672</td>\n",
       "      <td>0.720477</td>\n",
       "      <td>-0.477543</td>\n",
       "      <td>-0.336277</td>\n",
       "      <td>0.635006</td>\n",
       "      <td>-1.106531</td>\n",
       "      <td>-0.526820</td>\n",
       "      <td>1.819989</td>\n",
       "      <td>1</td>\n",
       "    </tr>\n",
       "    <tr>\n",
       "      <th>365</th>\n",
       "      <td>0.037969</td>\n",
       "      <td>-0.568874</td>\n",
       "      <td>-0.531067</td>\n",
       "      <td>-0.784458</td>\n",
       "      <td>0.720477</td>\n",
       "      <td>-0.477543</td>\n",
       "      <td>-0.336277</td>\n",
       "      <td>0.635006</td>\n",
       "      <td>0.902140</td>\n",
       "      <td>-0.526820</td>\n",
       "      <td>-0.548490</td>\n",
       "      <td>0</td>\n",
       "    </tr>\n",
       "    <tr>\n",
       "      <th>611</th>\n",
       "      <td>0.494697</td>\n",
       "      <td>-0.568874</td>\n",
       "      <td>-0.531067</td>\n",
       "      <td>-0.800447</td>\n",
       "      <td>0.720477</td>\n",
       "      <td>-0.477543</td>\n",
       "      <td>-0.336277</td>\n",
       "      <td>0.635006</td>\n",
       "      <td>0.902140</td>\n",
       "      <td>-0.526820</td>\n",
       "      <td>-0.548490</td>\n",
       "      <td>0</td>\n",
       "    </tr>\n",
       "    <tr>\n",
       "      <th>487</th>\n",
       "      <td>2.022496</td>\n",
       "      <td>-0.568874</td>\n",
       "      <td>-0.531067</td>\n",
       "      <td>1.010347</td>\n",
       "      <td>0.720477</td>\n",
       "      <td>2.090378</td>\n",
       "      <td>-0.336277</td>\n",
       "      <td>-1.572026</td>\n",
       "      <td>-1.106531</td>\n",
       "      <td>-0.526820</td>\n",
       "      <td>1.819989</td>\n",
       "      <td>0</td>\n",
       "    </tr>\n",
       "  </tbody>\n",
       "</table>\n",
       "<p>570 rows × 12 columns</p>\n",
       "</div>"
      ],
      "text/plain": [
       "          Age     SibSp    Ticket      Fare  passenger_sex  Embarked_C  \\\n",
       "770 -0.387287 -0.568874 -0.531067 -0.604578       0.720477   -0.477543   \n",
       "178  0.037969 -0.568874 -0.531067 -0.324764       0.720477   -0.477543   \n",
       "159  0.664593 -0.568874  3.451936 -0.210672       0.720477   -0.477543   \n",
       "656  0.497240 -0.568874 -0.531067 -0.732828       0.720477   -0.477543   \n",
       "471  0.604977 -0.568874 -0.531067 -0.671533       0.720477   -0.477543   \n",
       "..        ...       ...       ...       ...            ...         ...   \n",
       "803 -2.058543 -0.568874 -0.531067 -0.683189       0.720477    2.090378   \n",
       "445 -1.804807 -0.568874 -0.531067 -0.210672       0.720477   -0.477543   \n",
       "365  0.037969 -0.568874 -0.531067 -0.784458       0.720477   -0.477543   \n",
       "611  0.494697 -0.568874 -0.531067 -0.800447       0.720477   -0.477543   \n",
       "487  2.022496 -0.568874 -0.531067  1.010347       0.720477    2.090378   \n",
       "\n",
       "     Embarked_Q  Embarked_S  passenger_class_Lower  passenger_class_Middle  \\\n",
       "770   -0.336277    0.635006               0.902140               -0.526820   \n",
       "178   -0.336277    0.635006              -1.106531                1.894852   \n",
       "159   -0.336277    0.635006               0.902140               -0.526820   \n",
       "656   -0.336277    0.635006               0.902140               -0.526820   \n",
       "471   -0.336277    0.635006               0.902140               -0.526820   \n",
       "..          ...         ...                    ...                     ...   \n",
       "803   -0.336277   -1.572026               0.902140               -0.526820   \n",
       "445   -0.336277    0.635006              -1.106531               -0.526820   \n",
       "365   -0.336277    0.635006               0.902140               -0.526820   \n",
       "611   -0.336277    0.635006               0.902140               -0.526820   \n",
       "487   -0.336277   -1.572026              -1.106531               -0.526820   \n",
       "\n",
       "     passenger_class_Upper  passenger_survived  \n",
       "770              -0.548490                   0  \n",
       "178              -0.548490                   0  \n",
       "159              -0.548490                   0  \n",
       "656              -0.548490                   0  \n",
       "471              -0.548490                   0  \n",
       "..                     ...                 ...  \n",
       "803              -0.548490                   1  \n",
       "445               1.819989                   1  \n",
       "365              -0.548490                   0  \n",
       "611              -0.548490                   0  \n",
       "487               1.819989                   0  \n",
       "\n",
       "[570 rows x 12 columns]"
      ]
     },
     "execution_count": 45,
     "metadata": {},
     "output_type": "execute_result"
    }
   ],
   "source": [
    "AE_feature_engineering = (AE_feature_engineering.iloc[:,AE_feature_engineering.columns!=\"passenger_survived\"] - AE_statistics.loc[\"mean\"]) / AE_statistics.loc[\"std\"]\n",
    "AE_feature_engineering[\"passenger_survived\"] = AE_sobrevivio.astype('int')\n",
    "AE_feature_engineering"
   ]
  },
  {
   "cell_type": "markdown",
   "id": "11b1863e",
   "metadata": {},
   "source": [
    "Si volvemos a graficar el dataframe, los datos estarán correctamente escalados:"
   ]
  },
  {
   "cell_type": "code",
   "execution_count": 46,
   "id": "3bacf352",
   "metadata": {},
   "outputs": [
    {
     "data": {
      "image/png": "[encoded data removed]",
      "text/plain": [
       "<Figure size 1152x288 with 1 Axes>"
      ]
     },
     "metadata": {
      "needs_background": "light"
     },
     "output_type": "display_data"
    }
   ],
   "source": [
    "colors = \"bgrcmykwbgrcmy\"\n",
    "index=0\n",
    "for col in AE_feature_engineering.columns:\n",
    "    if(col!=\"passenger_survived\"):\n",
    "        AE_feature_engineering[col].plot.density(color=colors[index]) \n",
    "    index+=1 \n",
    "plt.title('Gráfica de densidad') \n",
    "plt.show()"
   ]
  },
  {
   "cell_type": "markdown",
   "id": "cf3f07f7",
   "metadata": {},
   "source": [
    "### 2.2.5 Análisis de correlación"
   ]
  },
  {
   "cell_type": "markdown",
   "id": "91085af4",
   "metadata": {},
   "source": [
    "Tabla de correlación:"
   ]
  },
  {
   "cell_type": "code",
   "execution_count": 47,
   "id": "fc3e4637",
   "metadata": {},
   "outputs": [
    {
     "data": {
      "text/html": [
       "<div>\n",
       "<style scoped>\n",
       "    .dataframe tbody tr th:only-of-type {\n",
       "        vertical-align: middle;\n",
       "    }\n",
       "\n",
       "    .dataframe tbody tr th {\n",
       "        vertical-align: top;\n",
       "    }\n",
       "\n",
       "    .dataframe thead th {\n",
       "        text-align: right;\n",
       "    }\n",
       "</style>\n",
       "<table border=\"1\" class=\"dataframe\">\n",
       "  <thead>\n",
       "    <tr style=\"text-align: right;\">\n",
       "      <th></th>\n",
       "      <th>passenger_survived</th>\n",
       "    </tr>\n",
       "  </thead>\n",
       "  <tbody>\n",
       "    <tr>\n",
       "      <th>passenger_survived</th>\n",
       "      <td>1.000000</td>\n",
       "    </tr>\n",
       "    <tr>\n",
       "      <th>passenger_sex</th>\n",
       "      <td>0.572235</td>\n",
       "    </tr>\n",
       "    <tr>\n",
       "      <th>passenger_class_Lower</th>\n",
       "      <td>0.280468</td>\n",
       "    </tr>\n",
       "    <tr>\n",
       "      <th>passenger_class_Upper</th>\n",
       "      <td>0.271617</td>\n",
       "    </tr>\n",
       "    <tr>\n",
       "      <th>Embarked_C</th>\n",
       "      <td>0.174927</td>\n",
       "    </tr>\n",
       "    <tr>\n",
       "      <th>SibSp</th>\n",
       "      <td>0.171975</td>\n",
       "    </tr>\n",
       "    <tr>\n",
       "      <th>Embarked_S</th>\n",
       "      <td>0.154418</td>\n",
       "    </tr>\n",
       "    <tr>\n",
       "      <th>Fare</th>\n",
       "      <td>0.125201</td>\n",
       "    </tr>\n",
       "    <tr>\n",
       "      <th>Age</th>\n",
       "      <td>0.092847</td>\n",
       "    </tr>\n",
       "    <tr>\n",
       "      <th>passenger_class_Middle</th>\n",
       "      <td>0.060419</td>\n",
       "    </tr>\n",
       "    <tr>\n",
       "      <th>Ticket</th>\n",
       "      <td>0.032776</td>\n",
       "    </tr>\n",
       "    <tr>\n",
       "      <th>Embarked_Q</th>\n",
       "      <td>0.006101</td>\n",
       "    </tr>\n",
       "  </tbody>\n",
       "</table>\n",
       "</div>"
      ],
      "text/plain": [
       "                        passenger_survived\n",
       "passenger_survived                1.000000\n",
       "passenger_sex                     0.572235\n",
       "passenger_class_Lower             0.280468\n",
       "passenger_class_Upper             0.271617\n",
       "Embarked_C                        0.174927\n",
       "SibSp                             0.171975\n",
       "Embarked_S                        0.154418\n",
       "Fare                              0.125201\n",
       "Age                               0.092847\n",
       "passenger_class_Middle            0.060419\n",
       "Ticket                            0.032776\n",
       "Embarked_Q                        0.006101"
      ]
     },
     "execution_count": 47,
     "metadata": {},
     "output_type": "execute_result"
    }
   ],
   "source": [
    "#Correlación\n",
    "AE_correlacion = AE_feature_engineering.corr()\n",
    "pd.DataFrame(AE_correlacion[\"passenger_survived\"].abs().sort_values(ascending=False))"
   ]
  },
  {
   "cell_type": "markdown",
   "id": "14d144d3",
   "metadata": {},
   "source": [
    "La tabla de correlación se utilizará para decidir que columnas utilizar en cada experimento."
   ]
  },
  {
   "cell_type": "markdown",
   "id": "a0228c08",
   "metadata": {},
   "source": [
    "# 3. Entrenamiento"
   ]
  },
  {
   "cell_type": "markdown",
   "id": "d09c5f80",
   "metadata": {},
   "source": [
    "Variables con la data de entrenamiento y validación:"
   ]
  },
  {
   "cell_type": "code",
   "execution_count": 48,
   "id": "ab34aba1",
   "metadata": {},
   "outputs": [],
   "source": [
    "E_data_entrenamiento = AE_feature_engineering.copy()\n",
    "E_data_validacion = TVTS_data_validacion.copy()"
   ]
  },
  {
   "cell_type": "markdown",
   "id": "99f4a7a7",
   "metadata": {},
   "source": [
    "Función para separar el dataset en features y target"
   ]
  },
  {
   "cell_type": "code",
   "execution_count": 49,
   "id": "55862b5a",
   "metadata": {},
   "outputs": [],
   "source": [
    "def E_separar_y_x(E_df):\n",
    "    E_df_copy = E_df.copy()\n",
    "    E_spyx_target = pd.DataFrame(E_df_copy[\"passenger_survived\"])\n",
    "    del E_df_copy[\"passenger_survived\"]\n",
    "    return [E_df_copy, E_spyx_target]"
   ]
  },
  {
   "cell_type": "markdown",
   "id": "e5167e23",
   "metadata": {},
   "source": [
    "Separación de información para para entrenamiento:"
   ]
  },
  {
   "cell_type": "code",
   "execution_count": 50,
   "id": "94df2791",
   "metadata": {},
   "outputs": [],
   "source": [
    "E_train_features, E_train_target = E_separar_y_x( E_data_entrenamiento )"
   ]
  },
  {
   "cell_type": "markdown",
   "id": "a2a08de4",
   "metadata": {},
   "source": [
    "Función de pre-procesamiento de datos para el set de validación"
   ]
  },
  {
   "cell_type": "code",
   "execution_count": 51,
   "id": "0c4d13cb",
   "metadata": {},
   "outputs": [],
   "source": [
    "def E_pre_procesamiento(\n",
    "    E_pp_validacion, \n",
    "    E_pp_age_mean, \n",
    "    E_pp_age_std, \n",
    "    E_pp_embarked_mas_repetido, \n",
    "    E_pp_statistics, \n",
    "    E_pp_tratamiento_outlier):\n",
    "    \n",
    "    #Eliminación de columnas no utilizadas\n",
    "    del E_pp_validacion[\"PassengerId\"]\n",
    "    del E_pp_validacion[\"Name\"]\n",
    "    del E_pp_validacion[\"Cabin\"]\n",
    "    del E_pp_validacion[\"Parch\"]\n",
    "    \n",
    "    #Imputación de datos\n",
    "    \n",
    "    #Columna Año\n",
    "    E_pp_age_nan = E_pp_validacion[\"Age\"].isnull()\n",
    "    if(len(E_pp_age_nan)>0):\n",
    "        E_pp_age_random = np.random.normal(E_pp_age_mean, E_pp_age_std, sum(E_pp_age_nan))\n",
    "        E_pp_validacion.loc[E_pp_age_nan, \"Age\"] = E_pp_age_random\n",
    "    \n",
    "    #Columna Ticket\n",
    "    E_pp_valores_Ticket = E_pp_validacion.Ticket.value_counts().axes[0].tolist()\n",
    "    E_pp_repitencia_Ticket = np.array(E_pp_validacion.Ticket.value_counts())\n",
    "    E_pp_validacion['Ticket'].replace(E_pp_valores_Ticket, E_pp_repitencia_Ticket, inplace=True)\n",
    "    \n",
    "    #Columna Embarked\n",
    "    E_pp_embarked_nan = E_pp_validacion[\"Embarked\"].isnull()\n",
    "    if(len(E_pp_embarked_nan)>0):\n",
    "        E_pp_validacion.loc[E_pp_embarked_nan, \"Embarked\"] = E_pp_embarked_mas_repetido\n",
    "    \n",
    "    #Columnas categórias\n",
    "    \n",
    "    #Columna Embarked\n",
    "    E_pp_Embarked_OHE = pd.get_dummies(E_pp_validacion.Embarked, prefix=\"Embarked\")\n",
    "    E_pp_validacion = pd.concat([E_pp_validacion, E_pp_Embarked_OHE], axis=1)\n",
    "    del E_pp_validacion[\"Embarked\"]\n",
    "    \n",
    "    #Columna passenger_class\n",
    "    E_pp_passenger_class_OHE = pd.get_dummies(E_pp_validacion.passenger_class, prefix=\"passenger_class\")\n",
    "    E_pp_validacion = pd.concat([E_pp_validacion, E_pp_passenger_class_OHE], axis=1)\n",
    "    del E_pp_validacion[\"passenger_class\"]\n",
    "    \n",
    "    #Columna passenger_sex\n",
    "    E_pp_sexo = E_pp_validacion[\"passenger_sex\"] == \"M\"\n",
    "    E_pp_validacion[\"passenger_sex\"] = E_pp_sexo.astype('int')\n",
    "    \n",
    "    #Columna passenger_survived\n",
    "    E_pp_sobrevivio = E_pp_validacion[\"passenger_survived\"] == \"Y\"\n",
    "    \n",
    "    #Tratamiento de outliers\n",
    "    E_pp_tratamiento_outlier(E_pp_validacion, ['Fare','SibSp', 'Age']) \n",
    "    \n",
    "    #Featuring scaling\n",
    "    E_pp_validacion = (E_pp_validacion.iloc[:,E_pp_validacion.columns!=\"passenger_survived\"] - E_pp_statistics.loc[\"mean\"]) / E_pp_statistics.loc[\"std\"]\n",
    "    E_pp_validacion[\"passenger_survived\"] = E_pp_sobrevivio.astype('int')\n",
    "    \n",
    "    return E_pp_validacion"
   ]
  },
  {
   "cell_type": "markdown",
   "id": "d4428149",
   "metadata": {},
   "source": [
    "Pre-procesamiento y separación de información para validación"
   ]
  },
  {
   "cell_type": "code",
   "execution_count": 52,
   "id": "70d43cc7",
   "metadata": {},
   "outputs": [],
   "source": [
    "#Preprocesamiento\n",
    "E_data_validacion = E_pre_procesamiento(\n",
    "    E_data_validacion, \n",
    "    AE_age_mean, \n",
    "    AE_age_std, \n",
    "    AE_embarked_mas_repetido, \n",
    "    AE_statistics, \n",
    "    AE_tratamiento_outlier\n",
    ")\n",
    "\n",
    "#Separación\n",
    "E_validation_features, E_validation_target = E_separar_y_x( E_data_validacion )"
   ]
  },
  {
   "cell_type": "markdown",
   "id": "b2d82a5b",
   "metadata": {},
   "source": [
    "Función para identificar overfitting o underfitting"
   ]
  },
  {
   "cell_type": "code",
   "execution_count": 53,
   "id": "683e8277",
   "metadata": {},
   "outputs": [],
   "source": [
    "def E_identificar_sobre_entrenamiento(E_yhat, E_y):\n",
    "    plt.plot(range(len(E_yhat)), E_yhat)\n",
    "    plt.plot(range(len(E_yhat)), np.array(E_y))\n",
    "    plt.show()"
   ]
  },
  {
   "cell_type": "markdown",
   "id": "4cbf803f",
   "metadata": {},
   "source": [
    "Función para generar metricas y guardar resultados de experimento:"
   ]
  },
  {
   "cell_type": "code",
   "execution_count": 54,
   "id": "3089cd37",
   "metadata": {},
   "outputs": [],
   "source": [
    "def E_guardar_metricas(E_yhat, E_y, E_cadena, E_columnas, E_modelo_nombre):\n",
    "    E_resultados_exp = pd.DataFrame([{\n",
    "        'Fecha Hora': datetime.datetime.now(),\n",
    "        'Modelo': E_modelo_nombre,\n",
    "        'Experimento': E_cadena,\n",
    "        'MSE': mean_squared_error(np.array(E_y), E_yhat),\n",
    "        'Accuracy Score': accuracy_score(np.array(E_y), E_yhat),\n",
    "        'Recall Score': recall_score(np.array(E_y), E_yhat),\n",
    "        'F1 Score': f1_score(np.array(E_y), E_yhat),\n",
    "        'Age': E_columnas[0],\n",
    "        'SibSp': E_columnas[1],\n",
    "        'Ticket': E_columnas[2],\n",
    "        'Fare': E_columnas[3],\n",
    "        'passenger_sex': E_columnas[4],\n",
    "        'Embarked_C': E_columnas[5],\n",
    "        'Embarked_Q': E_columnas[6],\n",
    "        'Embarked_S': E_columnas[7],\n",
    "        'passenger_class_Lower': E_columnas[8],\n",
    "        'passenger_class_Middle': E_columnas[9],\n",
    "        'passenger_class_Upper': E_columnas[10]\n",
    "    }])\n",
    "    E_resultados_exp.to_csv('experimentos.csv', mode='a', index=False, header=(not os.path.exists('experimentos.csv')))\n",
    "    return E_resultados_exp"
   ]
  },
  {
   "cell_type": "markdown",
   "id": "2655f92d",
   "metadata": {},
   "source": [
    "## 3.1 Arbol de decision"
   ]
  },
  {
   "cell_type": "markdown",
   "id": "66caa9da",
   "metadata": {},
   "source": [
    "Función para crear el modelo de arbol de desición"
   ]
  },
  {
   "cell_type": "code",
   "execution_count": 55,
   "id": "bdfb8956",
   "metadata": {},
   "outputs": [],
   "source": [
    "def EAD_arbol_decision(EAD_ad_x, EAD_ad_y, EAD_x_columnas):\n",
    "    EAD_ad_modelo = DecisionTreeClassifier()\n",
    "    EAD_ad_modelo.fit(EAD_ad_x.iloc[:,EAD_x_columnas], EAD_ad_y)\n",
    "    return EAD_ad_modelo"
   ]
  },
  {
   "cell_type": "markdown",
   "id": "ff617a74",
   "metadata": {},
   "source": [
    "### 3.1.1 Experimento 1 - Todos los features"
   ]
  },
  {
   "cell_type": "markdown",
   "id": "5a212087",
   "metadata": {},
   "source": [
    "Creación y predicción del arbol de desición con todas las columnas"
   ]
  },
  {
   "cell_type": "code",
   "execution_count": 56,
   "id": "808112ab",
   "metadata": {},
   "outputs": [],
   "source": [
    "EAD_columnas = np.full(len(E_train_features.columns), True)\n",
    "EAD_ad_modelo = EAD_arbol_decision(E_train_features, E_train_target, EAD_columnas)\n",
    "EAD_prediccion = EAD_ad_modelo.predict(E_validation_features.iloc[:,EAD_columnas])"
   ]
  },
  {
   "cell_type": "markdown",
   "id": "457d0a6e",
   "metadata": {},
   "source": [
    "Resultados del experimento 1:"
   ]
  },
  {
   "cell_type": "code",
   "execution_count": 57,
   "id": "6d7a5c07",
   "metadata": {},
   "outputs": [
    {
     "data": {
      "text/html": [
       "<div>\n",
       "<style scoped>\n",
       "    .dataframe tbody tr th:only-of-type {\n",
       "        vertical-align: middle;\n",
       "    }\n",
       "\n",
       "    .dataframe tbody tr th {\n",
       "        vertical-align: top;\n",
       "    }\n",
       "\n",
       "    .dataframe thead th {\n",
       "        text-align: right;\n",
       "    }\n",
       "</style>\n",
       "<table border=\"1\" class=\"dataframe\">\n",
       "  <thead>\n",
       "    <tr style=\"text-align: right;\">\n",
       "      <th></th>\n",
       "      <th>Fecha Hora</th>\n",
       "      <th>Modelo</th>\n",
       "      <th>Experimento</th>\n",
       "      <th>MSE</th>\n",
       "      <th>Accuracy Score</th>\n",
       "      <th>Recall Score</th>\n",
       "      <th>F1 Score</th>\n",
       "      <th>Age</th>\n",
       "      <th>SibSp</th>\n",
       "      <th>Ticket</th>\n",
       "      <th>Fare</th>\n",
       "      <th>passenger_sex</th>\n",
       "      <th>Embarked_C</th>\n",
       "      <th>Embarked_Q</th>\n",
       "      <th>Embarked_S</th>\n",
       "      <th>passenger_class_Lower</th>\n",
       "      <th>passenger_class_Middle</th>\n",
       "      <th>passenger_class_Upper</th>\n",
       "    </tr>\n",
       "  </thead>\n",
       "  <tbody>\n",
       "    <tr>\n",
       "      <th>0</th>\n",
       "      <td>2022-06-25 23:52:22.896538</td>\n",
       "      <td>Decision Tree</td>\n",
       "      <td>Exp1_All</td>\n",
       "      <td>0.237762</td>\n",
       "      <td>0.762238</td>\n",
       "      <td>0.689655</td>\n",
       "      <td>0.701754</td>\n",
       "      <td>True</td>\n",
       "      <td>True</td>\n",
       "      <td>True</td>\n",
       "      <td>True</td>\n",
       "      <td>True</td>\n",
       "      <td>True</td>\n",
       "      <td>True</td>\n",
       "      <td>True</td>\n",
       "      <td>True</td>\n",
       "      <td>True</td>\n",
       "      <td>True</td>\n",
       "    </tr>\n",
       "  </tbody>\n",
       "</table>\n",
       "</div>"
      ],
      "text/plain": [
       "                  Fecha Hora         Modelo Experimento       MSE  \\\n",
       "0 2022-06-25 23:52:22.896538  Decision Tree    Exp1_All  0.237762   \n",
       "\n",
       "   Accuracy Score  Recall Score  F1 Score   Age  SibSp  Ticket  Fare  \\\n",
       "0        0.762238      0.689655  0.701754  True   True    True  True   \n",
       "\n",
       "   passenger_sex  Embarked_C  Embarked_Q  Embarked_S  passenger_class_Lower  \\\n",
       "0           True        True        True        True                   True   \n",
       "\n",
       "   passenger_class_Middle  passenger_class_Upper  \n",
       "0                    True                   True  "
      ]
     },
     "execution_count": 57,
     "metadata": {},
     "output_type": "execute_result"
    }
   ],
   "source": [
    "EAD_modelo_nombre = \"Decision Tree\"\n",
    "EAD_cadena = \"Exp1_All\"\n",
    "EAD_metricas_evaluacion = E_guardar_metricas(EAD_prediccion, E_validation_target, EAD_cadena, EAD_columnas, EAD_modelo_nombre)\n",
    "EAD_metricas_evaluacion"
   ]
  },
  {
   "cell_type": "markdown",
   "id": "a3684c6a",
   "metadata": {},
   "source": [
    "Previsualización de predicción para estimar overfit o underfit:"
   ]
  },
  {
   "cell_type": "code",
   "execution_count": 58,
   "id": "01db03a9",
   "metadata": {},
   "outputs": [
    {
     "data": {
      "image/png": "[encoded data removed]",
      "text/plain": [
       "<Figure size 1152x288 with 1 Axes>"
      ]
     },
     "metadata": {
      "needs_background": "light"
     },
     "output_type": "display_data"
    }
   ],
   "source": [
    "E_identificar_sobre_entrenamiento(EAD_prediccion, E_validation_target)"
   ]
  },
  {
   "cell_type": "markdown",
   "id": "f8940b6a",
   "metadata": {},
   "source": [
    "### 3.1.2 Experimento 2 - Features con correlación > 0.5"
   ]
  },
  {
   "cell_type": "markdown",
   "id": "8c6d5a23",
   "metadata": {},
   "source": [
    "Creación y predicción del arbol de desición utilizando los valores que tengan un valor de correlación mayor a 0.5 para con la columna passenger_survived:"
   ]
  },
  {
   "cell_type": "code",
   "execution_count": 59,
   "id": "b584cc2a",
   "metadata": {},
   "outputs": [],
   "source": [
    "EAD_columnas = np.array(np.abs(AE_correlacion.loc[\"passenger_survived\", E_train_features.columns])>0.5)\n",
    "EAD_ad_modelo = EAD_arbol_decision(E_train_features, E_train_target, EAD_columnas)\n",
    "EAD_prediccion = EAD_ad_modelo.predict(E_validation_features.iloc[:,EAD_columnas])"
   ]
  },
  {
   "cell_type": "markdown",
   "id": "889d527f",
   "metadata": {},
   "source": [
    "Resultados del experimento 2:"
   ]
  },
  {
   "cell_type": "code",
   "execution_count": 60,
   "id": "17c2b11e",
   "metadata": {},
   "outputs": [
    {
     "data": {
      "text/html": [
       "<div>\n",
       "<style scoped>\n",
       "    .dataframe tbody tr th:only-of-type {\n",
       "        vertical-align: middle;\n",
       "    }\n",
       "\n",
       "    .dataframe tbody tr th {\n",
       "        vertical-align: top;\n",
       "    }\n",
       "\n",
       "    .dataframe thead th {\n",
       "        text-align: right;\n",
       "    }\n",
       "</style>\n",
       "<table border=\"1\" class=\"dataframe\">\n",
       "  <thead>\n",
       "    <tr style=\"text-align: right;\">\n",
       "      <th></th>\n",
       "      <th>Fecha Hora</th>\n",
       "      <th>Modelo</th>\n",
       "      <th>Experimento</th>\n",
       "      <th>MSE</th>\n",
       "      <th>Accuracy Score</th>\n",
       "      <th>Recall Score</th>\n",
       "      <th>F1 Score</th>\n",
       "      <th>Age</th>\n",
       "      <th>SibSp</th>\n",
       "      <th>Ticket</th>\n",
       "      <th>Fare</th>\n",
       "      <th>passenger_sex</th>\n",
       "      <th>Embarked_C</th>\n",
       "      <th>Embarked_Q</th>\n",
       "      <th>Embarked_S</th>\n",
       "      <th>passenger_class_Lower</th>\n",
       "      <th>passenger_class_Middle</th>\n",
       "      <th>passenger_class_Upper</th>\n",
       "    </tr>\n",
       "  </thead>\n",
       "  <tbody>\n",
       "    <tr>\n",
       "      <th>0</th>\n",
       "      <td>2022-06-25 23:52:23.061470</td>\n",
       "      <td>Decision Tree</td>\n",
       "      <td>Exp2_Corr&gt;0.5</td>\n",
       "      <td>0.20979</td>\n",
       "      <td>0.79021</td>\n",
       "      <td>0.689655</td>\n",
       "      <td>0.727273</td>\n",
       "      <td>False</td>\n",
       "      <td>False</td>\n",
       "      <td>False</td>\n",
       "      <td>False</td>\n",
       "      <td>True</td>\n",
       "      <td>False</td>\n",
       "      <td>False</td>\n",
       "      <td>False</td>\n",
       "      <td>False</td>\n",
       "      <td>False</td>\n",
       "      <td>False</td>\n",
       "    </tr>\n",
       "  </tbody>\n",
       "</table>\n",
       "</div>"
      ],
      "text/plain": [
       "                  Fecha Hora         Modelo    Experimento      MSE  \\\n",
       "0 2022-06-25 23:52:23.061470  Decision Tree  Exp2_Corr>0.5  0.20979   \n",
       "\n",
       "   Accuracy Score  Recall Score  F1 Score    Age  SibSp  Ticket   Fare  \\\n",
       "0         0.79021      0.689655  0.727273  False  False   False  False   \n",
       "\n",
       "   passenger_sex  Embarked_C  Embarked_Q  Embarked_S  passenger_class_Lower  \\\n",
       "0           True       False       False       False                  False   \n",
       "\n",
       "   passenger_class_Middle  passenger_class_Upper  \n",
       "0                   False                  False  "
      ]
     },
     "execution_count": 60,
     "metadata": {},
     "output_type": "execute_result"
    }
   ],
   "source": [
    "EAD_modelo_nombre = \"Decision Tree\"\n",
    "EAD_cadena = \"Exp2_Corr>0.5\"\n",
    "EAD_metricas_evaluacion = E_guardar_metricas(EAD_prediccion, E_validation_target, EAD_cadena, EAD_columnas, EAD_modelo_nombre)\n",
    "EAD_metricas_evaluacion"
   ]
  },
  {
   "cell_type": "markdown",
   "id": "ff491911",
   "metadata": {},
   "source": [
    "Previsualización de predicción para estimar overfit o underfit:"
   ]
  },
  {
   "cell_type": "code",
   "execution_count": 61,
   "id": "d74cfdd8",
   "metadata": {},
   "outputs": [
    {
     "data": {
      "image/png": "[encoded data removed]",
      "text/plain": [
       "<Figure size 1152x288 with 1 Axes>"
      ]
     },
     "metadata": {
      "needs_background": "light"
     },
     "output_type": "display_data"
    }
   ],
   "source": [
    "E_identificar_sobre_entrenamiento(EAD_prediccion, E_validation_target)"
   ]
  },
  {
   "cell_type": "markdown",
   "id": "3a8151f3",
   "metadata": {},
   "source": [
    "### 3.1.3 Experimento 3 - Features con correlación > 0.2, criterio entropy\n"
   ]
  },
  {
   "cell_type": "markdown",
   "id": "9bc80dd2",
   "metadata": {},
   "source": [
    "En el experimento 2 se comprobo que la predicción se basa en el sexo de la persona. A continuación se utilizaran los features con valor de correlación mayor a 0.1 para con la columna passenger_sex:"
   ]
  },
  {
   "cell_type": "code",
   "execution_count": 62,
   "id": "c07d0e46",
   "metadata": {},
   "outputs": [],
   "source": [
    "EAD_columnas = np.array(np.abs(AE_correlacion.loc[\"passenger_sex\", E_train_features.columns])>0.1)\n",
    "EAD_ad_modelo = EAD_arbol_decision(E_train_features, E_train_target, EAD_columnas)\n",
    "EAD_prediccion = EAD_ad_modelo.predict(E_validation_features.iloc[:,EAD_columnas])"
   ]
  },
  {
   "cell_type": "markdown",
   "id": "aece0640",
   "metadata": {},
   "source": [
    "Resultados del experimento 3:"
   ]
  },
  {
   "cell_type": "code",
   "execution_count": 63,
   "id": "9239439c",
   "metadata": {},
   "outputs": [
    {
     "data": {
      "text/html": [
       "<div>\n",
       "<style scoped>\n",
       "    .dataframe tbody tr th:only-of-type {\n",
       "        vertical-align: middle;\n",
       "    }\n",
       "\n",
       "    .dataframe tbody tr th {\n",
       "        vertical-align: top;\n",
       "    }\n",
       "\n",
       "    .dataframe thead th {\n",
       "        text-align: right;\n",
       "    }\n",
       "</style>\n",
       "<table border=\"1\" class=\"dataframe\">\n",
       "  <thead>\n",
       "    <tr style=\"text-align: right;\">\n",
       "      <th></th>\n",
       "      <th>Fecha Hora</th>\n",
       "      <th>Modelo</th>\n",
       "      <th>Experimento</th>\n",
       "      <th>MSE</th>\n",
       "      <th>Accuracy Score</th>\n",
       "      <th>Recall Score</th>\n",
       "      <th>F1 Score</th>\n",
       "      <th>Age</th>\n",
       "      <th>SibSp</th>\n",
       "      <th>Ticket</th>\n",
       "      <th>Fare</th>\n",
       "      <th>passenger_sex</th>\n",
       "      <th>Embarked_C</th>\n",
       "      <th>Embarked_Q</th>\n",
       "      <th>Embarked_S</th>\n",
       "      <th>passenger_class_Lower</th>\n",
       "      <th>passenger_class_Middle</th>\n",
       "      <th>passenger_class_Upper</th>\n",
       "    </tr>\n",
       "  </thead>\n",
       "  <tbody>\n",
       "    <tr>\n",
       "      <th>0</th>\n",
       "      <td>2022-06-25 23:52:23.218969</td>\n",
       "      <td>Decision Tree</td>\n",
       "      <td>Exp3_CorrSex&gt;0.1</td>\n",
       "      <td>0.202797</td>\n",
       "      <td>0.797203</td>\n",
       "      <td>0.603448</td>\n",
       "      <td>0.707071</td>\n",
       "      <td>False</td>\n",
       "      <td>True</td>\n",
       "      <td>False</td>\n",
       "      <td>False</td>\n",
       "      <td>True</td>\n",
       "      <td>False</td>\n",
       "      <td>False</td>\n",
       "      <td>True</td>\n",
       "      <td>True</td>\n",
       "      <td>False</td>\n",
       "      <td>True</td>\n",
       "    </tr>\n",
       "  </tbody>\n",
       "</table>\n",
       "</div>"
      ],
      "text/plain": [
       "                  Fecha Hora         Modelo       Experimento       MSE  \\\n",
       "0 2022-06-25 23:52:23.218969  Decision Tree  Exp3_CorrSex>0.1  0.202797   \n",
       "\n",
       "   Accuracy Score  Recall Score  F1 Score    Age  SibSp  Ticket   Fare  \\\n",
       "0        0.797203      0.603448  0.707071  False   True   False  False   \n",
       "\n",
       "   passenger_sex  Embarked_C  Embarked_Q  Embarked_S  passenger_class_Lower  \\\n",
       "0           True       False       False        True                   True   \n",
       "\n",
       "   passenger_class_Middle  passenger_class_Upper  \n",
       "0                   False                   True  "
      ]
     },
     "execution_count": 63,
     "metadata": {},
     "output_type": "execute_result"
    }
   ],
   "source": [
    "EAD_modelo_nombre = \"Decision Tree\"\n",
    "EAD_cadena = \"Exp3_CorrSex>0.1\"\n",
    "EAD_metricas_evaluacion = E_guardar_metricas(EAD_prediccion, E_validation_target, EAD_cadena, EAD_columnas, EAD_modelo_nombre)\n",
    "EAD_metricas_evaluacion"
   ]
  },
  {
   "cell_type": "markdown",
   "id": "98a262d9",
   "metadata": {},
   "source": [
    "Previsualización de predicción para estimar overfit o underfit:"
   ]
  },
  {
   "cell_type": "code",
   "execution_count": 64,
   "id": "66de035b",
   "metadata": {},
   "outputs": [
    {
     "data": {
      "image/png": "[encoded data removed]",
      "text/plain": [
       "<Figure size 1152x288 with 1 Axes>"
      ]
     },
     "metadata": {
      "needs_background": "light"
     },
     "output_type": "display_data"
    }
   ],
   "source": [
    "E_identificar_sobre_entrenamiento(EAD_prediccion, E_validation_target)"
   ]
  }
 ],
 "metadata": {
  "kernelspec": {
   "display_name": "Python 3 (ipykernel)",
   "language": "python",
   "name": "python3"
  },
  "language_info": {
   "codemirror_mode": {
    "name": "ipython",
    "version": 3
   },
   "file_extension": ".py",
   "mimetype": "text/x-python",
   "name": "python",
   "nbconvert_exporter": "python",
   "pygments_lexer": "ipython3",
   "version": "3.9.12"
  }
 },
 "nbformat": 4,
 "nbformat_minor": 5
}
