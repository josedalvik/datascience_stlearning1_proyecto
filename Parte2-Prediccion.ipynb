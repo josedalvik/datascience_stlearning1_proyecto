{
 "cells": [
  {
   "cell_type": "markdown",
   "id": "eb53c2ce",
   "metadata": {},
   "source": [
    "<b>Universidad Galileo</b><br/>\n",
    "<b>Maestría de Ciencia de Datos</b><br/>\n",
    "<b>Statistical Learning I</b><br/>\n",
    "<b>Jose Godoy</b><br/>\n",
    "<b>Carnet 22000570</b><br/>\n",
    "<b>30 de junio 2022</b><br/>"
   ]
  },
  {
   "cell_type": "markdown",
   "id": "0322cfd1",
   "metadata": {},
   "source": [
    "# 1. Sección de configuración"
   ]
  },
  {
   "cell_type": "markdown",
   "id": "0744bc34",
   "metadata": {},
   "source": [
    "## 1.1 Librerías"
   ]
  },
  {
   "cell_type": "markdown",
   "id": "1b37da09",
   "metadata": {},
   "source": [
    "Carga de librerías generales"
   ]
  },
  {
   "cell_type": "code",
   "execution_count": 1,
   "id": "60e40fab",
   "metadata": {},
   "outputs": [],
   "source": [
    "import numpy as np\n",
    "import pandas as pd\n",
    "import os\n",
    "import matplotlib.pyplot as plt"
   ]
  },
  {
   "cell_type": "markdown",
   "id": "0354ebf8",
   "metadata": {},
   "source": [
    "Librerías para generar métricas"
   ]
  },
  {
   "cell_type": "code",
   "execution_count": 2,
   "id": "b6c38fbf",
   "metadata": {},
   "outputs": [],
   "source": [
    "from sklearn.metrics import accuracy_score, mean_squared_error, recall_score, f1_score\n",
    "from sklearn import tree"
   ]
  },
  {
   "cell_type": "markdown",
   "id": "a1f3264e",
   "metadata": {},
   "source": [
    "Cargando librerías de TensorFlwo"
   ]
  },
  {
   "cell_type": "code",
   "execution_count": 36,
   "id": "55e0c581",
   "metadata": {},
   "outputs": [],
   "source": [
    "import tensorflow.compat.v1 as tf\n",
    "tf.compat.v1.disable_v2_behavior()\n",
    "tf.enable_eager_execution()"
   ]
  },
  {
   "cell_type": "markdown",
   "id": "4f7647dd",
   "metadata": {},
   "source": [
    "Variable de entorno TF"
   ]
  },
  {
   "cell_type": "code",
   "execution_count": 4,
   "id": "f88e81b3",
   "metadata": {},
   "outputs": [],
   "source": [
    "os.environ['KMP_DUPLICATE_LIB_OK']='True'"
   ]
  },
  {
   "cell_type": "markdown",
   "id": "424bfbc8",
   "metadata": {},
   "source": [
    "Mostrar probabilidad de Bayes y regresión logística:"
   ]
  },
  {
   "cell_type": "code",
   "execution_count": 5,
   "id": "4abcc05e",
   "metadata": {},
   "outputs": [],
   "source": [
    "GLOBAL_MOSTRAR_PROBABILIDAD = 0;"
   ]
  },
  {
   "cell_type": "markdown",
   "id": "75580047",
   "metadata": {},
   "source": [
    "Para cargar modelos y funciones"
   ]
  },
  {
   "cell_type": "code",
   "execution_count": 6,
   "id": "d42f8572",
   "metadata": {},
   "outputs": [],
   "source": [
    "import pickle"
   ]
  },
  {
   "cell_type": "markdown",
   "id": "73be6ac5",
   "metadata": {},
   "source": [
    "Gráficas más grandes"
   ]
  },
  {
   "cell_type": "code",
   "execution_count": 7,
   "id": "2294cbe0",
   "metadata": {},
   "outputs": [],
   "source": [
    "plt.rcParams[\"figure.figsize\"] = (16, 16)"
   ]
  },
  {
   "cell_type": "markdown",
   "id": "35855607",
   "metadata": {},
   "source": [
    "## 1.2 Cargando datos de prueba"
   ]
  },
  {
   "cell_type": "code",
   "execution_count": 8,
   "id": "e011e9f7",
   "metadata": {},
   "outputs": [],
   "source": [
    "DATOS_PRUEBA = pd.read_csv(\"TVTS_data_prueba.csv\")"
   ]
  },
  {
   "cell_type": "markdown",
   "id": "845456ee",
   "metadata": {},
   "source": [
    "# 2. Conclusiones"
   ]
  },
  {
   "cell_type": "markdown",
   "id": "fd2e5c9c",
   "metadata": {},
   "source": [
    "En el set de datos se identifico que la predicción tiene un valor de correlación alto con el sexo de la persona. A partir de esto se obtuvo una probabilidad de más del 80% de poder predecir si una persona sobrevivió o no.\n",
    "<br/>\n",
    "<br/>\n",
    "Cada algoritmo tiene sus propias cualidades, algunos hacen un analisis simple y otros utilizan gradiente decreciente, todos se aproximaron al mismo resultado con variaciones muy pequeñas.\n",
    "<br/>\n",
    "<br/>\n",
    "Estos son los primeros pasos que hago en predicción de datos, fue dificil identificar el limite de precisión posible con los parametros, al avanzar con cada algoritmo entendí que era la maxima presición posible con metodos convencionales.\n",
    "<br/>\n",
    "<br/>\n",
    "El algoritmo de SVM es amplio, y también es posible utilizar k-fold con regresión logística. Con tiempo es posible obtener una presición mayor a la alcanzada."
   ]
  },
  {
   "cell_type": "markdown",
   "id": "72cd26bc",
   "metadata": {},
   "source": [
    "# 3. Preprocesamiento de datos"
   ]
  },
  {
   "cell_type": "markdown",
   "id": "3a231e00",
   "metadata": {},
   "source": [
    "Cargando estadísticos:"
   ]
  },
  {
   "cell_type": "code",
   "execution_count": 9,
   "id": "8ce3a49a",
   "metadata": {},
   "outputs": [],
   "source": [
    "AE_age_mean = pickle.load(open(\"modelos_y_estadisticos/AE_age_mean\", 'rb'))\n",
    "AE_age_std = pickle.load(open(\"modelos_y_estadisticos/AE_age_std\", 'rb'))\n",
    "AE_embarked_mas_repetido = pickle.load(open(\"modelos_y_estadisticos/AE_embarked_mas_repetido\", 'rb'))\n",
    "AE_statistics = pickle.load(open(\"modelos_y_estadisticos/AE_statistics\", 'rb'))"
   ]
  },
  {
   "cell_type": "markdown",
   "id": "4e515081",
   "metadata": {},
   "source": [
    "Función para tratar outliers"
   ]
  },
  {
   "cell_type": "code",
   "execution_count": 10,
   "id": "1c4c12b0",
   "metadata": {},
   "outputs": [],
   "source": [
    "def AE_tratamiento_outlier(AE_dataframe, AE_columnas):\n",
    "    AE_parametros_outliers = pd.DataFrame()\n",
    "    for AE_columna in AE_columnas:\n",
    "        AE_quartiles = np.array( AE_dataframe[AE_columna].quantile([.25, .5, .75]) )\n",
    "        AE_irq = AE_quartiles[2] - AE_quartiles[0]\n",
    "        AE_limite_inferior = AE_quartiles[0] - AE_irq*1.5\n",
    "        AE_limite_superior = AE_quartiles[2] + AE_irq*1.5\n",
    "        AE_mean_to = AE_dataframe[AE_columna].mean(axis=0)\n",
    "        AE_median_to = AE_dataframe[AE_columna].median(axis=0)\n",
    "        \n",
    "        AE_parametros_outliers = pd.concat([\n",
    "            AE_parametros_outliers, \n",
    "            pd.DataFrame(data = {\n",
    "                \"columna\": [AE_columna],\n",
    "                \"limite_inferior\": [AE_limite_inferior], \n",
    "                \"limite_superior\": [AE_limite_superior], \n",
    "                \"mean\": [AE_mean_to], \n",
    "                \"median\": [AE_median_to]\n",
    "            })\n",
    "        ], ignore_index=True)\n",
    "        \n",
    "        AE_dataframe.loc[ AE_dataframe[AE_columna] <  AE_limite_inferior, AE_columna ] = AE_mean_to\n",
    "        AE_dataframe.loc[ AE_dataframe[AE_columna] >  AE_limite_superior, AE_columna ] = AE_median_to\n",
    "    return AE_parametros_outliers"
   ]
  },
  {
   "cell_type": "markdown",
   "id": "73502c43",
   "metadata": {},
   "source": [
    "Función para pre procesar los datos:"
   ]
  },
  {
   "cell_type": "code",
   "execution_count": 11,
   "id": "8996ccb5",
   "metadata": {},
   "outputs": [],
   "source": [
    "def E_pre_procesamiento(\n",
    "    E_pp_validacion, \n",
    "    E_pp_age_mean, \n",
    "    E_pp_age_std, \n",
    "    E_pp_embarked_mas_repetido, \n",
    "    E_pp_statistics, \n",
    "    E_pp_tratamiento_outlier):\n",
    "    \n",
    "    #Eliminación de columnas no utilizadas\n",
    "    del E_pp_validacion[\"PassengerId\"]\n",
    "    del E_pp_validacion[\"Name\"]\n",
    "    del E_pp_validacion[\"Cabin\"]\n",
    "    del E_pp_validacion[\"Parch\"]\n",
    "    \n",
    "    #Imputación de datos\n",
    "    \n",
    "    #Columna Año\n",
    "    E_pp_age_nan = E_pp_validacion[\"Age\"].isnull()\n",
    "    if(len(E_pp_age_nan)>0):\n",
    "        E_pp_age_random = np.random.normal(E_pp_age_mean, E_pp_age_std, sum(E_pp_age_nan))\n",
    "        E_pp_validacion.loc[E_pp_age_nan, \"Age\"] = E_pp_age_random\n",
    "    \n",
    "    #Columna Ticket\n",
    "    E_pp_valores_Ticket = E_pp_validacion.Ticket.value_counts().axes[0].tolist()\n",
    "    E_pp_repitencia_Ticket = np.array(E_pp_validacion.Ticket.value_counts())\n",
    "    E_pp_validacion['Ticket'].replace(E_pp_valores_Ticket, E_pp_repitencia_Ticket, inplace=True)\n",
    "    \n",
    "    #Columna Embarked\n",
    "    E_pp_embarked_nan = E_pp_validacion[\"Embarked\"].isnull()\n",
    "    if(len(E_pp_embarked_nan)>0):\n",
    "        E_pp_validacion.loc[E_pp_embarked_nan, \"Embarked\"] = E_pp_embarked_mas_repetido\n",
    "    \n",
    "    #Columnas categórias\n",
    "    \n",
    "    #Columna Embarked\n",
    "    E_pp_Embarked_OHE = pd.get_dummies(E_pp_validacion.Embarked, prefix=\"Embarked\")\n",
    "    E_pp_validacion = pd.concat([E_pp_validacion, E_pp_Embarked_OHE], axis=1)\n",
    "    del E_pp_validacion[\"Embarked\"]\n",
    "    \n",
    "    #Columna passenger_class\n",
    "    E_pp_passenger_class_OHE = pd.get_dummies(E_pp_validacion.passenger_class, prefix=\"passenger_class\")\n",
    "    E_pp_validacion = pd.concat([E_pp_validacion, E_pp_passenger_class_OHE], axis=1)\n",
    "    del E_pp_validacion[\"passenger_class\"]\n",
    "    \n",
    "    #Columna passenger_sex\n",
    "    E_pp_sexo = E_pp_validacion[\"passenger_sex\"] == \"M\"\n",
    "    E_pp_validacion[\"passenger_sex\"] = E_pp_sexo.astype('int')\n",
    "    \n",
    "    #Columna passenger_survived\n",
    "    E_pp_sobrevivio = E_pp_validacion[\"passenger_survived\"] == \"Y\"\n",
    "    \n",
    "    #Tratamiento de outliers\n",
    "    E_pp_tratamiento_outlier(E_pp_validacion, ['Fare','SibSp', 'Age']) \n",
    "    \n",
    "    #Featuring scaling\n",
    "    E_pp_validacion = (E_pp_validacion.iloc[:,E_pp_validacion.columns!=\"passenger_survived\"] - E_pp_statistics.loc[\"mean\"]) / E_pp_statistics.loc[\"std\"]\n",
    "    E_pp_validacion[\"passenger_survived\"] = E_pp_sobrevivio.astype('int')\n",
    "    \n",
    "    return E_pp_validacion"
   ]
  },
  {
   "cell_type": "markdown",
   "id": "efecd0ec",
   "metadata": {},
   "source": [
    "Función para separar el dataset en features y target"
   ]
  },
  {
   "cell_type": "code",
   "execution_count": 12,
   "id": "58ddc947",
   "metadata": {},
   "outputs": [],
   "source": [
    "def E_separar_y_x(E_df):\n",
    "    E_df_copy = E_df.copy()\n",
    "    E_spyx_target = pd.DataFrame(E_df_copy[\"passenger_survived\"])\n",
    "    del E_df_copy[\"passenger_survived\"]\n",
    "    return [E_df_copy, E_spyx_target]"
   ]
  },
  {
   "cell_type": "markdown",
   "id": "fa9302b8",
   "metadata": {},
   "source": [
    "Pre-procesamiento y separación de información para prueba"
   ]
  },
  {
   "cell_type": "code",
   "execution_count": 13,
   "id": "fbb8290e",
   "metadata": {},
   "outputs": [],
   "source": [
    "#Preprocesamiento\n",
    "P_data_test = E_pre_procesamiento(\n",
    "    DATOS_PRUEBA, \n",
    "    AE_age_mean, \n",
    "    AE_age_std, \n",
    "    AE_embarked_mas_repetido, \n",
    "    AE_statistics, \n",
    "    AE_tratamiento_outlier\n",
    ")\n",
    "\n",
    "#Separación\n",
    "P_test_features, P_test_target = E_separar_y_x( P_data_test )"
   ]
  },
  {
   "cell_type": "markdown",
   "id": "964038fe",
   "metadata": {},
   "source": [
    "# 4. Predicción"
   ]
  },
  {
   "cell_type": "markdown",
   "id": "06a9137b",
   "metadata": {},
   "source": [
    "Generación de métricas"
   ]
  },
  {
   "cell_type": "code",
   "execution_count": 14,
   "id": "39b0ccd4",
   "metadata": {},
   "outputs": [],
   "source": [
    "def E_generar_metricas(E_yhat, E_y):\n",
    "    E_resultados_exp = pd.DataFrame([{\n",
    "        'MSE': mean_squared_error(np.array(E_y), E_yhat),\n",
    "        'Accuracy Score': accuracy_score(np.array(E_y), E_yhat),\n",
    "        'Recall Score': recall_score(np.array(E_y), E_yhat),\n",
    "        'F1 Score': f1_score(np.array(E_y), E_yhat)\n",
    "    }])\n",
    "    return E_resultados_exp"
   ]
  },
  {
   "cell_type": "markdown",
   "id": "c19640aa",
   "metadata": {},
   "source": [
    "Función de predicción"
   ]
  },
  {
   "cell_type": "code",
   "execution_count": 15,
   "id": "dd35ba8e",
   "metadata": {},
   "outputs": [],
   "source": [
    "class PredicciónResultados:\n",
    "            \n",
    "    def __init__(self, \n",
    "                 Model_Tree3, \n",
    "                 Model_Tree3_EAD_columnas, \n",
    "                 Model_SVM5, \n",
    "                 Model_SVM5_ESVM_columnas, \n",
    "                 ENB_Naive_Bayes_predecir,\n",
    "                 Model_Bayes7_ENB_likelihood,\n",
    "                 Model_Bayes7_ENB_probabilidad,\n",
    "                 Model_Bayes7_ENB_columnas,\n",
    "                 ERL_RegLog_predecir,\n",
    "                 Model_RLog9_ERL_exp2_w, \n",
    "                 Model_RLog9_ERL_columnas\n",
    "                ):\n",
    "        self.Model_Tree3 = Model_Tree3 \n",
    "        self.Model_Tree3_EAD_columnas = Model_Tree3_EAD_columnas \n",
    "        self.Model_SVM5 = Model_SVM5\n",
    "        self.Model_SVM5_ESVM_columnas = Model_SVM5_ESVM_columnas\n",
    "        self.ENB_Naive_Bayes_predecir = ENB_Naive_Bayes_predecir\n",
    "        self.Model_Bayes7_ENB_likelihood = Model_Bayes7_ENB_likelihood\n",
    "        self.Model_Bayes7_ENB_probabilidad = Model_Bayes7_ENB_probabilidad\n",
    "        self.Model_Bayes7_ENB_columnas = Model_Bayes7_ENB_columnas\n",
    "        self.ERL_RegLog_predecir = ERL_RegLog_predecir\n",
    "        self.Model_RLog9_ERL_exp2_w = Model_RLog9_ERL_exp2_w\n",
    "        self.Model_RLog9_ERL_columnas = Model_RLog9_ERL_columnas\n",
    "        \n",
    "    def Tree(self, x):\n",
    "        return self.Model_Tree3.predict(x.iloc[:,self.Model_Tree3_EAD_columnas])\n",
    "        \n",
    "    def SVM(self, x):\n",
    "        return self.Model_SVM5.predict(x.iloc[:,self.Model_SVM5_ESVM_columnas])\n",
    "        \n",
    "    def Bayes(self, x):\n",
    "        return self.ENB_Naive_Bayes_predecir(self.Model_Bayes7_ENB_likelihood, self.Model_Bayes7_ENB_probabilidad, x, self.Model_Bayes7_ENB_columnas)\n",
    "        \n",
    "    def RegLog(self, x):\n",
    "        return self.ERL_RegLog_predecir(x, self.Model_RLog9_ERL_exp2_w, self.Model_RLog9_ERL_columnas)\n",
    "    \n",
    "    def Predecir(self, x):\n",
    "        predicciones = pd.DataFrame()\n",
    "        predicciones[\"tree\"] = self.Tree(x)\n",
    "        predicciones[\"svm\"] = self.SVM(x)\n",
    "        predicciones[\"bayes\"] = self.Bayes(x)\n",
    "        predicciones[\"reglog\"] = self.RegLog(x)\n",
    "        return predicciones.mode(axis=1).loc[:,0]"
   ]
  },
  {
   "cell_type": "markdown",
   "id": "a4671ea2",
   "metadata": {},
   "source": [
    "## 4.1 Cargando modelos"
   ]
  },
  {
   "cell_type": "markdown",
   "id": "f74d5973",
   "metadata": {},
   "source": [
    "### 4.1.1 Árbol de desición"
   ]
  },
  {
   "cell_type": "code",
   "execution_count": 16,
   "id": "1a9fca54",
   "metadata": {},
   "outputs": [],
   "source": [
    "Model_Tree3 = pickle.load(open(\"modelos_y_estadisticos/Model_Tree3\", 'rb'))\n",
    "Model_Tree3_EAD_columnas = pickle.load(open(\"modelos_y_estadisticos/Model_Tree3_EAD_columnas\", 'rb'))"
   ]
  },
  {
   "cell_type": "markdown",
   "id": "f37b3137",
   "metadata": {},
   "source": [
    "### 4.1.2 SVM"
   ]
  },
  {
   "cell_type": "code",
   "execution_count": 17,
   "id": "309b4558",
   "metadata": {},
   "outputs": [],
   "source": [
    "Model_SVM5 = pickle.load(open(\"modelos_y_estadisticos/Model_SVM5\", 'rb'))\n",
    "Model_SVM5_ESVM_columnas = pickle.load(open(\"modelos_y_estadisticos/Model_SVM5_ESVM_columnas\", 'rb'))"
   ]
  },
  {
   "cell_type": "markdown",
   "id": "9b75a9f4",
   "metadata": {},
   "source": [
    "### 4.1.3 Naive Bayes"
   ]
  },
  {
   "cell_type": "markdown",
   "id": "6f70fca1",
   "metadata": {},
   "source": [
    "Función de predicción"
   ]
  },
  {
   "cell_type": "code",
   "execution_count": 18,
   "id": "a9145b65",
   "metadata": {},
   "outputs": [],
   "source": [
    "def ENB_Naive_Bayes_predecir(ENB_nbp_likelihood, ENB_nbp_probabilidad, ENB_nbp_x, ENB_nbp_columns):\n",
    "    ENB_nbp_predecir = ENB_nbp_x.iloc[:,ENB_nbp_columns]\n",
    "    ENB_nbp_prediccion = pd.DataFrame()\n",
    "    for row in ENB_nbp_predecir.index:\n",
    "        row_probabildiad0 = ENB_nbp_probabilidad[0];\n",
    "        row_probabildiad1 = ENB_nbp_probabilidad[1];\n",
    "        for col in ENB_nbp_predecir.columns:\n",
    "            try:\n",
    "                row_probabildiad0 = row_probabildiad0 * ENB_nbp_likelihood[col][0][ENB_nbp_predecir[col][row]]\n",
    "                row_probabildiad1 = row_probabildiad1 * ENB_nbp_likelihood[col][1][ENB_nbp_predecir[col][row]]\n",
    "            except KeyError:\n",
    "                continue\n",
    "        ENB_nbp_prediccion = pd.concat([ENB_nbp_prediccion, pd.DataFrame([{\"N\":row_probabildiad0,\"Y\":row_probabildiad1}])])\n",
    "    arg_max = np.argmax(np.array(ENB_nbp_prediccion),axis=1)\n",
    "    if( GLOBAL_MOSTRAR_PROBABILIDAD==1):\n",
    "        print(\"Probabilidad de algoritmo de Bayes:\")\n",
    "        print(np.array(ENB_nbp_prediccion)[0][arg_max].round(2))\n",
    "    return arg_max"
   ]
  },
  {
   "cell_type": "markdown",
   "id": "72782f5f",
   "metadata": {},
   "source": [
    "Cargando modelo"
   ]
  },
  {
   "cell_type": "code",
   "execution_count": 19,
   "id": "222f55b2",
   "metadata": {},
   "outputs": [],
   "source": [
    "Model_Bayes7_ENB_columnas = pickle.load(open(\"modelos_y_estadisticos/Model_Bayes7_ENB_columnas\", 'rb'))\n",
    "Model_Bayes7_ENB_likelihood = pickle.load(open(\"modelos_y_estadisticos/Model_Bayes7_ENB_likelihood\", 'rb'))\n",
    "Model_Bayes7_ENB_probabilidad = pickle.load(open(\"modelos_y_estadisticos/Model_Bayes7_ENB_probabilidad\", 'rb'))"
   ]
  },
  {
   "cell_type": "markdown",
   "id": "b26174c9",
   "metadata": {},
   "source": [
    "### 4.1.4 Regresión Logística"
   ]
  },
  {
   "cell_type": "markdown",
   "id": "945e3917",
   "metadata": {},
   "source": [
    "Función de predicción"
   ]
  },
  {
   "cell_type": "code",
   "execution_count": 20,
   "id": "001b61ab",
   "metadata": {},
   "outputs": [],
   "source": [
    "def ERL_RegLog_predecir(ERL_x, ERL_w, ERL_columnas):\n",
    "        ERL_x = ERL_x.iloc[:, ERL_columnas]\n",
    "        ERL_x_ = np.hstack(( ERL_x, np.ones((ERL_x.shape[0],1)) ))\n",
    "        ERL_yhat = tf.matmul(ERL_x_, ERL_w)\n",
    "        ERL_p = tf.math.sigmoid(ERL_yhat)\n",
    "        if( GLOBAL_MOSTRAR_PROBABILIDAD == 1):\n",
    "            print(\"Probabilidad de algoritmo de Regresión Logística: \")\n",
    "            prediccion_prob = np.array(pd.DataFrame(ERL_p.numpy()).round(2))\n",
    "            print(prediccion_prob.reshape(1, prediccion_prob.shape[0])[0])\n",
    "        return np.array(ERL_p>0.5).astype(int)"
   ]
  },
  {
   "cell_type": "markdown",
   "id": "de3c10bf",
   "metadata": {},
   "source": [
    "Cargando modelo"
   ]
  },
  {
   "cell_type": "code",
   "execution_count": 21,
   "id": "880ca8d2",
   "metadata": {},
   "outputs": [],
   "source": [
    "Model_RLog9_ERL_exp2_w = pickle.load(open(\"modelos_y_estadisticos/Model_RLog9_ERL_exp2_w\", 'rb'))\n",
    "Model_RLog9_ERL_columnas = pickle.load(open(\"modelos_y_estadisticos/Model_RLog9_ERL_columnas\", 'rb'))"
   ]
  },
  {
   "cell_type": "markdown",
   "id": "360b35f1",
   "metadata": {},
   "source": [
    "## 4.2 Creando modelo"
   ]
  },
  {
   "cell_type": "code",
   "execution_count": 22,
   "id": "9a6ad007",
   "metadata": {},
   "outputs": [],
   "source": [
    "modelo = PredicciónResultados(\n",
    "    Model_Tree3, \n",
    "    Model_Tree3_EAD_columnas, \n",
    "    Model_SVM5, \n",
    "    Model_SVM5_ESVM_columnas, \n",
    "    ENB_Naive_Bayes_predecir,\n",
    "    Model_Bayes7_ENB_likelihood,\n",
    "    Model_Bayes7_ENB_probabilidad,\n",
    "    Model_Bayes7_ENB_columnas,\n",
    "    ERL_RegLog_predecir,\n",
    "    Model_RLog9_ERL_exp2_w, \n",
    "    Model_RLog9_ERL_columnas\n",
    ")"
   ]
  },
  {
   "cell_type": "markdown",
   "id": "69691a8f",
   "metadata": {},
   "source": [
    "## 4.3 Árbol de desición"
   ]
  },
  {
   "cell_type": "markdown",
   "id": "8a1cbd82",
   "metadata": {},
   "source": [
    "Predicción con árbol de desición"
   ]
  },
  {
   "cell_type": "code",
   "execution_count": 23,
   "id": "299745a2",
   "metadata": {},
   "outputs": [],
   "source": [
    "PAD_prediccion = modelo.Tree(P_test_features)"
   ]
  },
  {
   "cell_type": "markdown",
   "id": "418f154a",
   "metadata": {},
   "source": [
    "Resultados de predicción"
   ]
  },
  {
   "cell_type": "code",
   "execution_count": 24,
   "id": "a949c414",
   "metadata": {},
   "outputs": [
    {
     "data": {
      "text/html": [
       "<div>\n",
       "<style scoped>\n",
       "    .dataframe tbody tr th:only-of-type {\n",
       "        vertical-align: middle;\n",
       "    }\n",
       "\n",
       "    .dataframe tbody tr th {\n",
       "        vertical-align: top;\n",
       "    }\n",
       "\n",
       "    .dataframe thead th {\n",
       "        text-align: right;\n",
       "    }\n",
       "</style>\n",
       "<table border=\"1\" class=\"dataframe\">\n",
       "  <thead>\n",
       "    <tr style=\"text-align: right;\">\n",
       "      <th></th>\n",
       "      <th>MSE</th>\n",
       "      <th>Accuracy Score</th>\n",
       "      <th>Recall Score</th>\n",
       "      <th>F1 Score</th>\n",
       "    </tr>\n",
       "  </thead>\n",
       "  <tbody>\n",
       "    <tr>\n",
       "      <th>0</th>\n",
       "      <td>0.162921</td>\n",
       "      <td>0.837079</td>\n",
       "      <td>0.650794</td>\n",
       "      <td>0.738739</td>\n",
       "    </tr>\n",
       "  </tbody>\n",
       "</table>\n",
       "</div>"
      ],
      "text/plain": [
       "        MSE  Accuracy Score  Recall Score  F1 Score\n",
       "0  0.162921        0.837079      0.650794  0.738739"
      ]
     },
     "execution_count": 24,
     "metadata": {},
     "output_type": "execute_result"
    }
   ],
   "source": [
    "E_generar_metricas(PAD_prediccion, P_test_target)"
   ]
  },
  {
   "cell_type": "markdown",
   "id": "69bc4d67",
   "metadata": {},
   "source": [
    "### 4.3.1 Gráfica del arbol"
   ]
  },
  {
   "cell_type": "code",
   "execution_count": 25,
   "id": "1be19e5b",
   "metadata": {},
   "outputs": [
    {
     "data": {
      "image/png": "[encoded data removed]",
      "text/plain": [
       "<Figure size 1152x1152 with 1 Axes>"
      ]
     },
     "metadata": {
      "needs_background": "light"
     },
     "output_type": "display_data"
    }
   ],
   "source": [
    "plt.figure()\n",
    "tree.plot_tree(Model_Tree3, filled=True)\n",
    "plt.savefig('tree.jpg',format='jpg',bbox_inches = \"tight\")"
   ]
  },
  {
   "cell_type": "markdown",
   "id": "faf4b38a",
   "metadata": {},
   "source": [
    "Cada nodo del árbol de decisión indica una condicional con la etiqueta X[i], en donde i es el índice del parámetro evaluado. A continuación, tiene la etiqueta gini, la cual es la probabilidad de ocurrencia. samples es la cantidad de registros evaluados.\n",
    "\n",
    "En cada nodo evalúa su propia condición, haciendo que el árbol de decisión haga un predicción según la probabilidad registrada en el set de entrenamiento.\n",
    "\n",
    "Ejemplo: una persona que cumpla con las siguientes características tiene una probabilidad del 0.498 de sobrevivir: SibSp menor que 0.12, fare mayor a 15.5, ticket mayor a 1, edad menor a 61, edad mayor a 34 años. En el set de datos de entrenamiento, 17 de 570 cumplieron con estas condiciones."
   ]
  },
  {
   "cell_type": "markdown",
   "id": "51329cd2",
   "metadata": {},
   "source": [
    "## 4.4 SVM"
   ]
  },
  {
   "cell_type": "markdown",
   "id": "f133d1e9",
   "metadata": {},
   "source": [
    "Predicción con árbol SVM"
   ]
  },
  {
   "cell_type": "code",
   "execution_count": 26,
   "id": "0fffcd14",
   "metadata": {},
   "outputs": [],
   "source": [
    "ESVM_prediccion = modelo.SVM(P_test_features)"
   ]
  },
  {
   "cell_type": "markdown",
   "id": "d73f2506",
   "metadata": {},
   "source": [
    "Resultados de predicción"
   ]
  },
  {
   "cell_type": "code",
   "execution_count": 27,
   "id": "2071ce80",
   "metadata": {},
   "outputs": [
    {
     "data": {
      "text/html": [
       "<div>\n",
       "<style scoped>\n",
       "    .dataframe tbody tr th:only-of-type {\n",
       "        vertical-align: middle;\n",
       "    }\n",
       "\n",
       "    .dataframe tbody tr th {\n",
       "        vertical-align: top;\n",
       "    }\n",
       "\n",
       "    .dataframe thead th {\n",
       "        text-align: right;\n",
       "    }\n",
       "</style>\n",
       "<table border=\"1\" class=\"dataframe\">\n",
       "  <thead>\n",
       "    <tr style=\"text-align: right;\">\n",
       "      <th></th>\n",
       "      <th>MSE</th>\n",
       "      <th>Accuracy Score</th>\n",
       "      <th>Recall Score</th>\n",
       "      <th>F1 Score</th>\n",
       "    </tr>\n",
       "  </thead>\n",
       "  <tbody>\n",
       "    <tr>\n",
       "      <th>0</th>\n",
       "      <td>0.174157</td>\n",
       "      <td>0.825843</td>\n",
       "      <td>0.619048</td>\n",
       "      <td>0.715596</td>\n",
       "    </tr>\n",
       "  </tbody>\n",
       "</table>\n",
       "</div>"
      ],
      "text/plain": [
       "        MSE  Accuracy Score  Recall Score  F1 Score\n",
       "0  0.174157        0.825843      0.619048  0.715596"
      ]
     },
     "execution_count": 27,
     "metadata": {},
     "output_type": "execute_result"
    }
   ],
   "source": [
    "E_generar_metricas(ESVM_prediccion, P_test_target)"
   ]
  },
  {
   "cell_type": "markdown",
   "id": "d42c4de7",
   "metadata": {},
   "source": [
    "## 4.5 Naive Bayes"
   ]
  },
  {
   "cell_type": "markdown",
   "id": "80fb768d",
   "metadata": {},
   "source": [
    "Cargando modelo"
   ]
  },
  {
   "cell_type": "markdown",
   "id": "f77b2154",
   "metadata": {},
   "source": [
    "Predicción Bayes"
   ]
  },
  {
   "cell_type": "code",
   "execution_count": 28,
   "id": "ac641020",
   "metadata": {},
   "outputs": [],
   "source": [
    "ENB_prediccion = modelo.Bayes(P_test_features)"
   ]
  },
  {
   "cell_type": "markdown",
   "id": "2737442c",
   "metadata": {},
   "source": [
    "Resultados de predicción"
   ]
  },
  {
   "cell_type": "code",
   "execution_count": 29,
   "id": "a4a55433",
   "metadata": {},
   "outputs": [
    {
     "data": {
      "text/html": [
       "<div>\n",
       "<style scoped>\n",
       "    .dataframe tbody tr th:only-of-type {\n",
       "        vertical-align: middle;\n",
       "    }\n",
       "\n",
       "    .dataframe tbody tr th {\n",
       "        vertical-align: top;\n",
       "    }\n",
       "\n",
       "    .dataframe thead th {\n",
       "        text-align: right;\n",
       "    }\n",
       "</style>\n",
       "<table border=\"1\" class=\"dataframe\">\n",
       "  <thead>\n",
       "    <tr style=\"text-align: right;\">\n",
       "      <th></th>\n",
       "      <th>MSE</th>\n",
       "      <th>Accuracy Score</th>\n",
       "      <th>Recall Score</th>\n",
       "      <th>F1 Score</th>\n",
       "    </tr>\n",
       "  </thead>\n",
       "  <tbody>\n",
       "    <tr>\n",
       "      <th>0</th>\n",
       "      <td>0.258427</td>\n",
       "      <td>0.741573</td>\n",
       "      <td>0.666667</td>\n",
       "      <td>0.646154</td>\n",
       "    </tr>\n",
       "  </tbody>\n",
       "</table>\n",
       "</div>"
      ],
      "text/plain": [
       "        MSE  Accuracy Score  Recall Score  F1 Score\n",
       "0  0.258427        0.741573      0.666667  0.646154"
      ]
     },
     "execution_count": 29,
     "metadata": {},
     "output_type": "execute_result"
    }
   ],
   "source": [
    "E_generar_metricas(ENB_prediccion, P_test_target)"
   ]
  },
  {
   "cell_type": "markdown",
   "id": "a0af29c8",
   "metadata": {},
   "source": [
    "## 4.6 Regresión logística"
   ]
  },
  {
   "cell_type": "code",
   "execution_count": 30,
   "id": "011377c9",
   "metadata": {},
   "outputs": [],
   "source": [
    "ERL_prediccion = modelo.RegLog(P_test_features)"
   ]
  },
  {
   "cell_type": "markdown",
   "id": "b9f4fe23",
   "metadata": {},
   "source": [
    "Resultados de predicción"
   ]
  },
  {
   "cell_type": "code",
   "execution_count": 31,
   "id": "36cb7605",
   "metadata": {
    "scrolled": true
   },
   "outputs": [
    {
     "data": {
      "text/html": [
       "<div>\n",
       "<style scoped>\n",
       "    .dataframe tbody tr th:only-of-type {\n",
       "        vertical-align: middle;\n",
       "    }\n",
       "\n",
       "    .dataframe tbody tr th {\n",
       "        vertical-align: top;\n",
       "    }\n",
       "\n",
       "    .dataframe thead th {\n",
       "        text-align: right;\n",
       "    }\n",
       "</style>\n",
       "<table border=\"1\" class=\"dataframe\">\n",
       "  <thead>\n",
       "    <tr style=\"text-align: right;\">\n",
       "      <th></th>\n",
       "      <th>MSE</th>\n",
       "      <th>Accuracy Score</th>\n",
       "      <th>Recall Score</th>\n",
       "      <th>F1 Score</th>\n",
       "    </tr>\n",
       "  </thead>\n",
       "  <tbody>\n",
       "    <tr>\n",
       "      <th>0</th>\n",
       "      <td>0.196629</td>\n",
       "      <td>0.803371</td>\n",
       "      <td>0.666667</td>\n",
       "      <td>0.705882</td>\n",
       "    </tr>\n",
       "  </tbody>\n",
       "</table>\n",
       "</div>"
      ],
      "text/plain": [
       "        MSE  Accuracy Score  Recall Score  F1 Score\n",
       "0  0.196629        0.803371      0.666667  0.705882"
      ]
     },
     "execution_count": 31,
     "metadata": {},
     "output_type": "execute_result"
    }
   ],
   "source": [
    "E_generar_metricas(ERL_prediccion, P_test_target)"
   ]
  },
  {
   "cell_type": "markdown",
   "id": "c53574a7",
   "metadata": {},
   "source": [
    "# 5. Predicción final"
   ]
  },
  {
   "cell_type": "markdown",
   "id": "677b9bf4",
   "metadata": {},
   "source": [
    "En la predicción final se utiliza el mejor modelo de cada algoritmo y se cálcula la moda."
   ]
  },
  {
   "cell_type": "code",
   "execution_count": 32,
   "id": "9b8c78ad",
   "metadata": {},
   "outputs": [],
   "source": [
    "prediccion = modelo.Predecir(P_test_features)"
   ]
  },
  {
   "cell_type": "markdown",
   "id": "14144593",
   "metadata": {},
   "source": [
    "Resultados de predicción"
   ]
  },
  {
   "cell_type": "code",
   "execution_count": 33,
   "id": "673fe648",
   "metadata": {},
   "outputs": [
    {
     "data": {
      "text/html": [
       "<div>\n",
       "<style scoped>\n",
       "    .dataframe tbody tr th:only-of-type {\n",
       "        vertical-align: middle;\n",
       "    }\n",
       "\n",
       "    .dataframe tbody tr th {\n",
       "        vertical-align: top;\n",
       "    }\n",
       "\n",
       "    .dataframe thead th {\n",
       "        text-align: right;\n",
       "    }\n",
       "</style>\n",
       "<table border=\"1\" class=\"dataframe\">\n",
       "  <thead>\n",
       "    <tr style=\"text-align: right;\">\n",
       "      <th></th>\n",
       "      <th>MSE</th>\n",
       "      <th>Accuracy Score</th>\n",
       "      <th>Recall Score</th>\n",
       "      <th>F1 Score</th>\n",
       "    </tr>\n",
       "  </thead>\n",
       "  <tbody>\n",
       "    <tr>\n",
       "      <th>0</th>\n",
       "      <td>0.174157</td>\n",
       "      <td>0.825843</td>\n",
       "      <td>0.619048</td>\n",
       "      <td>0.715596</td>\n",
       "    </tr>\n",
       "  </tbody>\n",
       "</table>\n",
       "</div>"
      ],
      "text/plain": [
       "        MSE  Accuracy Score  Recall Score  F1 Score\n",
       "0  0.174157        0.825843      0.619048  0.715596"
      ]
     },
     "execution_count": 33,
     "metadata": {},
     "output_type": "execute_result"
    }
   ],
   "source": [
    "E_generar_metricas(prediccion, P_test_target)"
   ]
  },
  {
   "cell_type": "markdown",
   "id": "9fc845e6",
   "metadata": {},
   "source": [
    "# 6. Predicción para datos aleatorios"
   ]
  },
  {
   "cell_type": "markdown",
   "id": "cb5cf4cd",
   "metadata": {},
   "source": [
    "Habilitar la opción para mostrar la predicción probabilistica de Naive Bayes y Regresión logística:"
   ]
  },
  {
   "cell_type": "code",
   "execution_count": 34,
   "id": "2af40d18",
   "metadata": {},
   "outputs": [],
   "source": [
    "GLOBAL_MOSTRAR_PROBABILIDAD = 1;"
   ]
  },
  {
   "cell_type": "markdown",
   "id": "19ec2adf",
   "metadata": {},
   "source": [
    "Se seleccionan 10 indices aletorios y se imprime su predicción y su valor real:"
   ]
  },
  {
   "cell_type": "code",
   "execution_count": 35,
   "id": "44c97d01",
   "metadata": {},
   "outputs": [
    {
     "name": "stdout",
     "output_type": "stream",
     "text": [
      "Probabilidad de algoritmo de Bayes:\n",
      "[0.54 0.12 0.12 0.12 0.54 0.12 0.54 0.54 0.54 0.12]\n",
      "Probabilidad de algoritmo de Regresión Logística: \n",
      "[0.4  0.65 0.49 0.49 0.22 0.6  0.4  0.22 0.22 0.7 ]\n"
     ]
    },
    {
     "data": {
      "text/html": [
       "<div>\n",
       "<style scoped>\n",
       "    .dataframe tbody tr th:only-of-type {\n",
       "        vertical-align: middle;\n",
       "    }\n",
       "\n",
       "    .dataframe tbody tr th {\n",
       "        vertical-align: top;\n",
       "    }\n",
       "\n",
       "    .dataframe thead th {\n",
       "        text-align: right;\n",
       "    }\n",
       "</style>\n",
       "<table border=\"1\" class=\"dataframe\">\n",
       "  <thead>\n",
       "    <tr style=\"text-align: right;\">\n",
       "      <th></th>\n",
       "      <th>prediccion</th>\n",
       "      <th>valor_real</th>\n",
       "    </tr>\n",
       "  </thead>\n",
       "  <tbody>\n",
       "    <tr>\n",
       "      <th>0</th>\n",
       "      <td>0</td>\n",
       "      <td>1</td>\n",
       "    </tr>\n",
       "    <tr>\n",
       "      <th>1</th>\n",
       "      <td>1</td>\n",
       "      <td>1</td>\n",
       "    </tr>\n",
       "    <tr>\n",
       "      <th>2</th>\n",
       "      <td>0</td>\n",
       "      <td>0</td>\n",
       "    </tr>\n",
       "    <tr>\n",
       "      <th>3</th>\n",
       "      <td>0</td>\n",
       "      <td>0</td>\n",
       "    </tr>\n",
       "    <tr>\n",
       "      <th>4</th>\n",
       "      <td>0</td>\n",
       "      <td>0</td>\n",
       "    </tr>\n",
       "    <tr>\n",
       "      <th>5</th>\n",
       "      <td>1</td>\n",
       "      <td>1</td>\n",
       "    </tr>\n",
       "    <tr>\n",
       "      <th>6</th>\n",
       "      <td>0</td>\n",
       "      <td>0</td>\n",
       "    </tr>\n",
       "    <tr>\n",
       "      <th>7</th>\n",
       "      <td>0</td>\n",
       "      <td>0</td>\n",
       "    </tr>\n",
       "    <tr>\n",
       "      <th>8</th>\n",
       "      <td>0</td>\n",
       "      <td>0</td>\n",
       "    </tr>\n",
       "    <tr>\n",
       "      <th>9</th>\n",
       "      <td>1</td>\n",
       "      <td>1</td>\n",
       "    </tr>\n",
       "  </tbody>\n",
       "</table>\n",
       "</div>"
      ],
      "text/plain": [
       "   prediccion  valor_real\n",
       "0           0           1\n",
       "1           1           1\n",
       "2           0           0\n",
       "3           0           0\n",
       "4           0           0\n",
       "5           1           1\n",
       "6           0           0\n",
       "7           0           0\n",
       "8           0           0\n",
       "9           1           1"
      ]
     },
     "execution_count": 35,
     "metadata": {},
     "output_type": "execute_result"
    }
   ],
   "source": [
    "indices_aleatorios = np.random.choice(P_test_features.shape[0], 10, replace=False)\n",
    "resultado = pd.DataFrame()\n",
    "resultado[\"prediccion\"] = modelo.Predecir(P_test_features.loc[P_test_features.index.values[indices_aleatorios],:])\n",
    "resultado[\"valor_real\"] = P_test_target.passenger_survived.loc[P_test_target.passenger_survived.index.values[indices_aleatorios]].tolist()\n",
    "resultado"
   ]
  }
 ],
 "metadata": {
  "kernelspec": {
   "display_name": "Python 3 (ipykernel)",
   "language": "python",
   "name": "python3"
  },
  "language_info": {
   "codemirror_mode": {
    "name": "ipython",
    "version": 3
   },
   "file_extension": ".py",
   "mimetype": "text/x-python",
   "name": "python",
   "nbconvert_exporter": "python",
   "pygments_lexer": "ipython3",
   "version": "3.9.12"
  }
 },
 "nbformat": 4,
 "nbformat_minor": 5
}
